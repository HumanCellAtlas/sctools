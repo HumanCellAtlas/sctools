{
 "cells": [
  {
   "cell_type": "markdown",
   "metadata": {},
   "source": [
    "# Load Testing Data"
   ]
  },
  {
   "cell_type": "code",
   "execution_count": 1,
   "metadata": {
    "run_control": {
     "frozen": false,
     "read_only": false
    }
   },
   "outputs": [],
   "source": [
    "import pandas as pd\n",
    "import numpy as np\n",
    "import pysam\n",
    "import os"
   ]
  },
  {
   "cell_type": "code",
   "execution_count": 2,
   "metadata": {
    "run_control": {
     "frozen": false,
     "read_only": false
    }
   },
   "outputs": [
    {
     "name": "stderr",
     "output_type": "stream",
     "text": [
      "/usr/local/lib/python3.6/site-packages/ipykernel_launcher.py:24: DeprecationWarning: tostring() is deprecated. Use tobytes() instead.\n"
     ]
    }
   ],
   "source": [
    "def parse_record(record):\n",
    "    \"\"\"line parser to build dataframe, supports missing tags in test data\"\"\"\n",
    "    data = {\n",
    "        'qname': record.query_name,\n",
    "        'flag': record.flag,\n",
    "        'reference': record.reference_id,\n",
    "        'position': record.pos,\n",
    "        'mapq': record.query_alignment_qualities,\n",
    "        'cigar': record.cigarstring,\n",
    "        'rnext': record.rnext, \n",
    "        'pnext': record.pnext,\n",
    "        'tlen': record.tlen, \n",
    "        'sequence': record.seq,\n",
    "        'quality': record.qual,\n",
    "    }\n",
    "    for name, tag in record.get_tags():\n",
    "        data[name] = tag\n",
    "    return pd.Series(data)\n",
    "\n",
    "input_sam_file = 'data/small-cell-sorted.bam'\n",
    "with pysam.AlignmentFile(input_sam_file, 'rb') as f:\n",
    "    records = []\n",
    "    for record in f:\n",
    "        records.append(parse_record(record))\n",
    "\n",
    "data = pd.concat(records, axis=1).T\n",
    "\n",
    "results_scalar = {}  # will hold the calculations we make\n",
    "\n",
    "# add a strand field\n",
    "data['strand'] = [f & 16 for f in data['flag']]"
   ]
  },
  {
   "cell_type": "markdown",
   "metadata": {},
   "source": [
    "# Build Expectations for Testing Data"
   ]
  },
  {
   "cell_type": "markdown",
   "metadata": {},
   "source": [
    "## Number of Reads"
   ]
  },
  {
   "cell_type": "code",
   "execution_count": 3,
   "metadata": {
    "run_control": {
     "frozen": false,
     "read_only": false
    }
   },
   "outputs": [
    {
     "name": "stdout",
     "output_type": "stream",
     "text": [
      "656\n"
     ]
    }
   ],
   "source": [
    "results_scalar['n_reads'] = len(data)\n",
    "print(results_scalar['n_reads'])"
   ]
  },
  {
   "cell_type": "markdown",
   "metadata": {},
   "source": [
    "## Number of Genes"
   ]
  },
  {
   "cell_type": "code",
   "execution_count": 4,
   "metadata": {
    "run_control": {
     "frozen": false,
     "read_only": false
    }
   },
   "outputs": [
    {
     "name": "stdout",
     "output_type": "stream",
     "text": [
      "11\n"
     ]
    }
   ],
   "source": [
    "results_scalar['n_genes'] = len(data.groupby(['GE']))\n",
    "print(results_scalar['n_genes'])"
   ]
  },
  {
   "cell_type": "code",
   "execution_count": 5,
   "metadata": {
    "run_control": {
     "frozen": false,
     "read_only": false
    }
   },
   "outputs": [
    {
     "name": "stdout",
     "output_type": "stream",
     "text": [
      "1.9827586206896552\n"
     ]
    }
   ],
   "source": [
    "mean_n_genes = data.groupby(['CB']).apply(lambda x: len(set(x['GE']))).mean()\n",
    "print(mean_n_genes)"
   ]
  },
  {
   "cell_type": "markdown",
   "metadata": {},
   "source": [
    "Gene table should have 8 entries plus a header for a total of 9 lines"
   ]
  },
  {
   "cell_type": "markdown",
   "metadata": {},
   "source": [
    "## Number of Molecules\n",
    "\n",
    "Molecules are defined as a unique triplet of CB, UB, and GE"
   ]
  },
  {
   "cell_type": "code",
   "execution_count": 6,
   "metadata": {
    "run_control": {
     "frozen": false,
     "read_only": false
    }
   },
   "outputs": [
    {
     "name": "stdout",
     "output_type": "stream",
     "text": [
      "249\n"
     ]
    }
   ],
   "source": [
    "results_scalar['n_molecules'] = len(data.groupby(['CB', 'UB', 'GE']))\n",
    "print(results_scalar['n_molecules'])"
   ]
  },
  {
   "cell_type": "markdown",
   "metadata": {},
   "source": [
    "## Number of Fragments\n",
    "\n",
    "Fragments are defined as molecules are (CB, UB, GE) but must additionally have a unique position"
   ]
  },
  {
   "cell_type": "code",
   "execution_count": 7,
   "metadata": {
    "run_control": {
     "frozen": false,
     "read_only": false
    }
   },
   "outputs": [
    {
     "name": "stdout",
     "output_type": "stream",
     "text": [
      "499\n"
     ]
    }
   ],
   "source": [
    "results_scalar['n_fragments'] = len(data.groupby(['CB', 'UB', 'GE', 'position']))\n",
    "print(results_scalar['n_fragments'])"
   ]
  },
  {
   "cell_type": "markdown",
   "metadata": {},
   "source": [
    "## Most Abundant Gene\n",
    "\n",
    "Based on the above, at least one of the genes has to be observed more than once. Which is it? "
   ]
  },
  {
   "cell_type": "code",
   "execution_count": 8,
   "metadata": {
    "run_control": {
     "frozen": false,
     "read_only": false
    }
   },
   "outputs": [
    {
     "name": "stdout",
     "output_type": "stream",
     "text": [
      "MTATP6P1 300\n"
     ]
    }
   ],
   "source": [
    "results_scalar['most_abundant'] = data.groupby(['GE']).size().idxmax()\n",
    "results_scalar['most_abundant_gene_n_observations'] = data.groupby(['GE']).size().max()\n",
    "print(results_scalar['most_abundant'], results_scalar['most_abundant_gene_n_observations'])"
   ]
  },
  {
   "cell_type": "markdown",
   "metadata": {},
   "source": [
    "## Cell with most reads"
   ]
  },
  {
   "cell_type": "code",
   "execution_count": 9,
   "metadata": {
    "run_control": {
     "frozen": false,
     "read_only": false
    }
   },
   "outputs": [
    {
     "data": {
      "text/plain": [
       "94"
      ]
     },
     "execution_count": 9,
     "metadata": {},
     "output_type": "execute_result"
    }
   ],
   "source": [
    "data.groupby(['CB']).apply(lambda x: len(x)).max()"
   ]
  },
  {
   "cell_type": "markdown",
   "metadata": {},
   "source": [
    "## perfect molecule barcodes"
   ]
  },
  {
   "cell_type": "code",
   "execution_count": 10,
   "metadata": {
    "run_control": {
     "frozen": false,
     "read_only": false
    }
   },
   "outputs": [],
   "source": [
    "results_scalar['perfect_molecule_barcodes'] = 0\n",
    "for c, r in zip(data['UB'], data['UR']):\n",
    "    if c == r:\n",
    "        results_scalar['perfect_molecule_barcodes'] += 1"
   ]
  },
  {
   "cell_type": "code",
   "execution_count": 11,
   "metadata": {
    "run_control": {
     "frozen": false,
     "read_only": false
    }
   },
   "outputs": [
    {
     "data": {
      "text/plain": [
       "655"
      ]
     },
     "execution_count": 11,
     "metadata": {},
     "output_type": "execute_result"
    }
   ],
   "source": [
    "results_scalar['perfect_molecule_barcodes']"
   ]
  },
  {
   "cell_type": "markdown",
   "metadata": {},
   "source": [
    "Calculate the alignment metrics"
   ]
  },
  {
   "cell_type": "code",
   "execution_count": 12,
   "metadata": {
    "run_control": {
     "frozen": false,
     "read_only": false
    }
   },
   "outputs": [],
   "source": [
    "results_scalar['reads_mapped_exonic'] = sum(data['XF'] == 'CODING')"
   ]
  },
  {
   "cell_type": "code",
   "execution_count": 13,
   "metadata": {
    "run_control": {
     "frozen": false,
     "read_only": false
    }
   },
   "outputs": [],
   "source": [
    "results_scalar['reads_mapped_intronic'] = sum(data['XF'] == 'INTRONIC')"
   ]
  },
  {
   "cell_type": "code",
   "execution_count": 14,
   "metadata": {
    "run_control": {
     "frozen": false,
     "read_only": false
    }
   },
   "outputs": [],
   "source": [
    "results_scalar['reads_mapped_utr'] = sum(data['XF'] == 'UTR')"
   ]
  },
  {
   "cell_type": "code",
   "execution_count": 15,
   "metadata": {
    "run_control": {
     "frozen": false,
     "read_only": false
    }
   },
   "outputs": [],
   "source": [
    "results_scalar['reads_mapped_uniquely'] = sum(data['NH'] == 1)"
   ]
  },
  {
   "cell_type": "code",
   "execution_count": 16,
   "metadata": {
    "run_control": {
     "frozen": false,
     "read_only": false
    }
   },
   "outputs": [],
   "source": [
    "results_scalar['duplicate_reads'] = sum((data['flag'] & 1024).astype(bool))"
   ]
  },
  {
   "cell_type": "code",
   "execution_count": 17,
   "metadata": {
    "run_control": {
     "frozen": false,
     "read_only": false
    }
   },
   "outputs": [],
   "source": [
    "results_scalar['spliced_reads'] = sum(1 for v in data['cigar'] if 'N' in v)"
   ]
  },
  {
   "cell_type": "code",
   "execution_count": 18,
   "metadata": {
    "run_control": {
     "frozen": false,
     "read_only": false
    }
   },
   "outputs": [
    {
     "data": {
      "text/plain": [
       "{'duplicate_reads': 107,\n",
       " 'most_abundant': 'MTATP6P1',\n",
       " 'most_abundant_gene_n_observations': 300,\n",
       " 'n_fragments': 499,\n",
       " 'n_genes': 11,\n",
       " 'n_molecules': 249,\n",
       " 'n_reads': 656,\n",
       " 'perfect_molecule_barcodes': 655,\n",
       " 'reads_mapped_exonic': 609,\n",
       " 'reads_mapped_intronic': 28,\n",
       " 'reads_mapped_uniquely': 656,\n",
       " 'reads_mapped_utr': 19,\n",
       " 'spliced_reads': 2}"
      ]
     },
     "execution_count": 18,
     "metadata": {},
     "output_type": "execute_result"
    }
   ],
   "source": [
    "results_scalar"
   ]
  },
  {
   "cell_type": "markdown",
   "metadata": {},
   "source": [
    "Calculate the higher-order metrics"
   ]
  },
  {
   "cell_type": "code",
   "execution_count": 19,
   "metadata": {
    "run_control": {
     "frozen": false,
     "read_only": false
    }
   },
   "outputs": [],
   "source": [
    "calc_func_fraction_from_acii = lambda x: sum(1 for c in x if ord(c) > 63) / len(x)\n",
    "calc_func_fraction = lambda x: sum(1 for c in x if c > 30) / len(x)\n",
    "calc_func_mean = lambda x: np.mean([c for c in x])\n",
    "\n",
    "data['num_UY_qual_fraction'] = data['UY'].apply(calc_func_fraction_from_acii)\n",
    "\n",
    "data['num_base_qual_fraction'] = data['mapq'].apply(calc_func_fraction)\n",
    "data['num_base_qual_mean'] = data['mapq'].apply(calc_func_mean)\n",
    "\n",
    "grouped_by_cell = data.groupby(['CB'])"
   ]
  },
  {
   "cell_type": "code",
   "execution_count": 20,
   "metadata": {
    "run_control": {
     "frozen": false,
     "read_only": false
    }
   },
   "outputs": [],
   "source": [
    "results_series = {}"
   ]
  },
  {
   "cell_type": "code",
   "execution_count": 21,
   "metadata": {
    "run_control": {
     "frozen": false,
     "read_only": false
    }
   },
   "outputs": [],
   "source": [
    "# vector values\n",
    "# I changed these to retain the index to make merging into a dataframe easier, and guarantee same order. \n",
    "results_series['molecule_barcode_fraction_bases_above_30_mean'] = grouped_by_cell.mean()['num_UY_qual_fraction']\n",
    "results_series['molecule_barcode_fraction_bases_above_30_variance'] = grouped_by_cell.var()['num_UY_qual_fraction']\n",
    "\n",
    "results_series['genomic_reads_fraction_bases_quality_above_30_mean'] = grouped_by_cell.mean()['num_base_qual_fraction']\n",
    "results_series['genomic_reads_fraction_bases_quality_above_30_variance'] = grouped_by_cell.var()['num_base_qual_fraction']\n",
    "results_series['genomic_read_quality_mean'] = grouped_by_cell.mean()['num_base_qual_mean']\n",
    "results_series['genomic_read_quality_variance'] = grouped_by_cell.var()['num_base_qual_mean']\n",
    "\n",
    "reads_per_cell = data.groupby(['CB']).size()"
   ]
  },
  {
   "cell_type": "code",
   "execution_count": 22,
   "metadata": {},
   "outputs": [
    {
     "data": {
      "text/plain": [
       "AS                                                                       96\n",
       "CB                                                         AAACCTGAGAAACCTA\n",
       "CR                                                         AAACCTGAGAAACCTA\n",
       "CY                                                         AAFFFJJJJJJJJJJJ\n",
       "GE                                                                      NaN\n",
       "GS                                                                      NaN\n",
       "HI                                                                        1\n",
       "MD                                                                       98\n",
       "NH                                                                        1\n",
       "NM                                                                        0\n",
       "RG                                                                        A\n",
       "SR                                                                 GTAATTGC\n",
       "SY                                                                 AAAFFJ<J\n",
       "UB                                                               TCTTTGTTGG\n",
       "UR                                                               TCTTTGTTGG\n",
       "UY                                                               JJJJJJJJJJ\n",
       "XF                                                                   CODING\n",
       "cigar                                                                   98M\n",
       "flag                                                                     16\n",
       "jI                                                                     [-1]\n",
       "jM                                                                     [-1]\n",
       "mapq                      [27, 32, 27, 8, 37, 32, 27, 32, 41, 41, 37, 32...\n",
       "nM                                                                        0\n",
       "pnext                                                                    -1\n",
       "position                                                             963726\n",
       "qname                            ST-K00126:314:HFYL2BBXX:8:2212:10998:44359\n",
       "quality                   <A<)FA<AJJFA-FJJFJF<-7-)JA-7JA<7A77--7-77<A<-A...\n",
       "reference                                                                 0\n",
       "rnext                                                                    -1\n",
       "sequence                  GTGGGTGTGCACCCAGGGTTGTTCAGGCAGCCAGGGTCCTGTGCCC...\n",
       "tlen                                                                      0\n",
       "strand                                                                   16\n",
       "num_UY_qual_fraction                                                      1\n",
       "num_base_qual_fraction                                                  0.5\n",
       "num_base_qual_mean                                                  27.7755\n",
       "Name: 3, dtype: object"
      ]
     },
     "execution_count": 22,
     "metadata": {},
     "output_type": "execute_result"
    }
   ],
   "source": [
    "data.iloc[3, :]"
   ]
  },
  {
   "cell_type": "code",
   "execution_count": 23,
   "metadata": {},
   "outputs": [
    {
     "data": {
      "text/plain": [
       "(array([3]),)"
      ]
     },
     "execution_count": 23,
     "metadata": {},
     "output_type": "execute_result"
    }
   ],
   "source": [
    "np.where(data['CB'] == 'AAACCTGAGAAACCTA')"
   ]
  },
  {
   "cell_type": "code",
   "execution_count": 24,
   "metadata": {
    "run_control": {
     "frozen": false,
     "read_only": false
    }
   },
   "outputs": [],
   "source": [
    "# molecules_per_cell = grouped_by_cell.apply(lambda x: len(x.groupby(['UB', 'GE']).size()))\n",
    "molecules_per_cell = data.groupby(['CB', 'GE', 'UB']).size().groupby(['CB']).size()  # does not work well for NaN genes\n",
    "# fragments_per_cell = grouped_by_cell.apply(lambda x: len(x.groupby(['UB', 'GE', 'position', 'reference', 'strand']).size()))\n",
    "fragments_per_cell = data.groupby(['CB', 'UB', 'position', 'reference', 'strand']).size().groupby(['CB']).size()\n",
    "reads_per_molecule = reads_per_cell / molecules_per_cell\n",
    "reads_per_fragment = reads_per_cell / fragments_per_cell\n",
    "fragments_per_molecule = fragments_per_cell / molecules_per_cell\n",
    "results_series['reads_per_molecule'] = reads_per_molecule\n",
    "results_series['reads_per_fragment'] = reads_per_fragment\n",
    "results_series['fragments_per_molecule'] = fragments_per_molecule\n",
    "\n",
    "# scalar values\n",
    "results_scalar['fragments_with_single_read_evidence'] = np.sum(data.groupby(['CB', 'UB', 'GE', 'position']).size() == 1)\n",
    "results_scalar['molecules_with_single_read_evidence'] = np.sum(data.groupby(['CB', 'UB', 'GE']).size() == 1)"
   ]
  },
  {
   "cell_type": "code",
   "execution_count": 25,
   "metadata": {
    "run_control": {
     "frozen": false,
     "read_only": false
    }
   },
   "outputs": [
    {
     "name": "stdout",
     "output_type": "stream",
     "text": [
      "molecule_barcode_fraction_bases_above_30_mean 58\n",
      "molecule_barcode_fraction_bases_above_30_variance 58\n",
      "genomic_reads_fraction_bases_quality_above_30_mean 58\n",
      "genomic_reads_fraction_bases_quality_above_30_variance 58\n",
      "genomic_read_quality_mean 58\n",
      "genomic_read_quality_variance 58\n",
      "reads_per_molecule 58\n",
      "reads_per_fragment 58\n",
      "fragments_per_molecule 58\n"
     ]
    }
   ],
   "source": [
    "for k, v in results_series.items():\n",
    "    print(k, len(v))"
   ]
  },
  {
   "cell_type": "code",
   "execution_count": 26,
   "metadata": {
    "run_control": {
     "frozen": false,
     "read_only": false
    }
   },
   "outputs": [
    {
     "name": "stdout",
     "output_type": "stream",
     "text": [
      "molecule_barcode_fraction_bases_above_30_mean np.array([1.0000, 0.9500, 1.0000, 1.0000, 0.9778, 1.0000, 1.0000, 1.0000, 0.9833, 1.0000, 1.0000, 1.0000, 1.0000, 1.0000, 0.9759, 1.0000, 1.0000, 0.9830, 1.0000, 1.0000, 1.0000, 0.9778, 0.9783, 1.0000, 0.9800, 1.0000, 1.0000, 1.0000, 1.0000, 0.9500, 1.0000, 0.9895, 1.0000, 0.9760, 1.0000, 1.0000, 1.0000, 0.9889, 1.0000, 0.9600, 1.0000, 0.9909, 1.0000, 1.0000, 0.9556, 0.9800, 1.0000, 0.9000, 1.0000, 0.9588, 1.0000, 1.0000, 0.9889, 0.8000, 0.9538, 0.9909, 0.9929, 0.9571])\n",
      "molecule_barcode_fraction_bases_above_30_variance np.array([np.nan, 0.0050, np.nan, np.nan, 0.0019, 0.0000, 0.0000, np.nan, 0.0015, np.nan, 0.0000, 0.0000, np.nan, 0.0000, 0.0048, 0.0000, 0.0000, 0.0029, 0.0000, np.nan, 0.0000, 0.0044, 0.0109, 0.0000, 0.0020, 0.0000, 0.0000, np.nan, 0.0000, 0.0100, np.nan, 0.0010, 0.0000, 0.0052, 0.0000, 0.0000, 0.0000, 0.0011, 0.0000, 0.0162, 0.0000, 0.0016, 0.0000, np.nan, 0.0178, 0.0020, np.nan, np.nan, 0.0000, 0.0163, np.nan, np.nan, 0.0011, np.nan, 0.0147, 0.0018, 0.0007, 0.0306])\n",
      "genomic_reads_fraction_bases_quality_above_30_mean np.array([0.3980, 0.6786, 0.5000, 0.9796, 0.7800, 0.7811, 0.9337, 0.8469, 0.6743, 0.4565, 0.8622, 0.9762, 0.4925, 0.7857, 0.7478, 0.8561, 0.6327, 0.7948, 0.8405, 0.4286, 0.7735, 0.6445, 0.7291, 0.8520, 0.6711, 0.6123, 0.8238, 0.5000, 0.8376, 0.5137, 0.7526, 0.7584, 0.7574, 0.8379, 0.8490, 0.5000, 0.5983, 0.7489, 0.7755, 0.8107, 0.6963, 0.8363, 0.8896, 0.6186, 0.7549, 0.7151, 1.0000, 0.5306, 0.8347, 0.7340, 0.8367, 0.8878, 0.7347, 0.4592, 0.7718, 0.7583, 0.8439, 0.7576])\n",
      "genomic_reads_fraction_bases_quality_above_30_variance np.array([np.nan, 0.1812, np.nan, np.nan, 0.0266, 0.0461, 0.0042, np.nan, 0.0387, np.nan, 0.0178, 0.0000, np.nan, 0.0002, 0.0455, 0.0342, 0.0588, 0.0359, 0.0247, np.nan, 0.0400, 0.0436, 0.0754, 0.0005, 0.1140, 0.0617, 0.0400, np.nan, 0.0230, 0.0491, np.nan, 0.0608, 0.0556, 0.0367, 0.0215, 0.0860, 0.2182, 0.0564, 0.0008, 0.0395, 0.0330, 0.0433, 0.0063, np.nan, 0.0366, 0.0778, np.nan, np.nan, 0.0114, 0.0391, np.nan, np.nan, 0.0193, np.nan, 0.0288, 0.0444, 0.0311, 0.0558])\n",
      "genomic_read_quality_mean np.array([25.3776, 32.5051, 27.7755, 39.9184, 34.3639, 34.5969, 37.4592, 35.9490, 31.6345, 26.5870, 36.7500, 39.5374, 28.0896, 33.7041, 33.6079, 36.2787, 30.8472, 34.8402, 35.9327, 24.7755, 34.3603, 31.0934, 33.2880, 36.7092, 31.9647, 30.2158, 35.3956, 27.6837, 35.8674, 27.4527, 34.3918, 33.7323, 33.6425, 35.9552, 35.5694, 27.4184, 30.0479, 33.4621, 34.6633, 35.2128, 32.4619, 35.7690, 36.9963, 30.0722, 33.6353, 32.6708, 39.8721, 28.0510, 35.9388, 33.1278, 35.8265, 36.6633, 32.7188, 26.6429, 34.1053, 34.0012, 36.0956, 33.7704])\n",
      "genomic_read_quality_variance np.array([np.nan, 92.5078, np.nan, np.nan, 18.9818, 29.9521, 6.6724, np.nan, 25.4164, np.nan, 12.8541, 0.3790, np.nan, 0.0019, 28.7815, 24.6669, 37.7402, 22.8765, 16.5399, np.nan, 22.9679, 26.2414, 44.8249, 0.5740, 70.4607, 42.5318, 24.9536, np.nan, 14.0772, 32.6389, np.nan, 38.1213, 34.4094, 23.2517, 13.9110, 48.9622, 117.2337, 32.9814, 0.3850, 24.3135, 17.8765, 26.5847, 5.2099, np.nan, 22.5846, 48.2133, np.nan, np.nan, 5.6775, 23.9395, np.nan, np.nan, 12.9322, np.nan, 18.1475, 29.6960, 20.7504, 34.9055])\n",
      "reads_per_molecule np.array([1.0000, 2.0000, np.nan, 1.0000, 9.0000, 2.4000, 2.0000, 1.0000, 3.0000, 1.0000, 3.0000, 3.0000, 1.0000, np.nan, 2.4167, 4.3333, 1.2222, 5.8750, 1.3333, 1.0000, 1.2000, 1.5000, 4.6000, 2.0000, 2.5000, 1.2000, 2.1429, 1.0000, 2.6364, 4.0000, 1.0000, 2.1111, 1.7273, 6.2500, 5.0000, 1.3333, 2.0000, 2.2500, np.nan, 2.0000, 4.3333, 3.9286, 2.2000, 1.0000, 1.5000, 1.6667, np.nan, 1.0000, 1.6667, 1.8889, 1.0000, 1.0000, 2.2500, 1.0000, 9.7500, 11.0000, 4.0000, 1.5000])\n",
      "reads_per_fragment np.array([1.0000, 1.0000, 1.0000, 1.0000, 1.1250, 1.3333, 2.0000, 1.0000, 1.2000, 1.0000, 1.2000, 3.0000, 1.0000, 2.0000, 1.3182, 1.4444, 1.1000, 1.4688, 1.1429, 1.0000, 1.2000, 1.2857, 1.5333, 2.0000, 1.2500, 1.0000, 1.1538, 1.0000, 1.3182, 1.0000, 1.0000, 1.4615, 1.3571, 1.3158, 1.2500, 1.3333, 1.0000, 1.1250, 1.0000, 1.1765, 1.0833, 1.4103, 1.1000, 1.0000, 1.2857, 1.2500, 1.0000, 1.0000, 1.2500, 1.3077, 1.0000, 1.0000, 1.2857, 1.0000, 1.3929, 1.5714, 1.4737, 1.1053])\n",
      "fragments_per_molecule np.array([1.0000, 2.0000, np.nan, 1.0000, 8.0000, 1.8000, 1.0000, 1.0000, 2.5000, 1.0000, 2.5000, 1.0000, 1.0000, np.nan, 1.8333, 3.0000, 1.1111, 4.0000, 1.1667, 1.0000, 1.0000, 1.1667, 3.0000, 1.0000, 2.0000, 1.2000, 1.8571, 1.0000, 2.0000, 4.0000, 1.0000, 1.4444, 1.2727, 4.7500, 4.0000, 1.0000, 2.0000, 2.0000, np.nan, 1.7000, 4.0000, 2.7857, 2.0000, 1.0000, 1.1667, 1.3333, np.nan, 1.0000, 1.3333, 1.4444, 1.0000, 1.0000, 1.7500, 1.0000, 7.0000, 7.0000, 2.7143, 1.3571])\n"
     ]
    }
   ],
   "source": [
    "# write out the array information for the testing file\n",
    "for k, vals in results_series.items():\n",
    "    print(k, ('np.array([' + ', '.join('{:.4f}'.format(i) for i in np.array(vals)) + '])').replace('nan', 'np.nan'))"
   ]
  },
  {
   "cell_type": "markdown",
   "metadata": {},
   "source": [
    "# Write Results to File for Automated Testing"
   ]
  },
  {
   "cell_type": "code",
   "execution_count": 27,
   "metadata": {
    "run_control": {
     "frozen": false,
     "read_only": false
    }
   },
   "outputs": [],
   "source": [
    "pd.Series(results_scalar).to_csv('%s_testing_knowledge_scalar.csv' % input_sam_file.replace('.bam', ''))\n",
    "pd.DataFrame(results_series).to_csv('%s_testing_knowledge_series.csv' % input_sam_file.replace('.bam', ''))"
   ]
  },
  {
   "cell_type": "code",
   "execution_count": 28,
   "metadata": {
    "run_control": {
     "frozen": false,
     "read_only": false
    }
   },
   "outputs": [
    {
     "data": {
      "text/plain": [
       "True"
      ]
     },
     "execution_count": 28,
     "metadata": {},
     "output_type": "execute_result"
    }
   ],
   "source": [
    "# do a comparison of the whole 2d dataframe at once\n",
    "np.allclose(\n",
    "    pd.DataFrame(results_series).fillna(0).values,  # fill nans with zero, call values to get the numpy array the dataframe is based on\n",
    "    pd.read_csv('data/small-cell-sorted_testing_knowledge_series.csv', index_col=0, header=0).fillna(0).values\n",
    ")"
   ]
  },
  {
   "cell_type": "code",
   "execution_count": 29,
   "metadata": {
    "run_control": {
     "frozen": false,
     "read_only": false
    }
   },
   "outputs": [],
   "source": [
    "# to get most_abundant alone: "
   ]
  },
  {
   "cell_type": "code",
   "execution_count": 30,
   "metadata": {
    "run_control": {
     "frozen": false,
     "read_only": false
    }
   },
   "outputs": [
    {
     "data": {
      "text/plain": [
       "True"
      ]
     },
     "execution_count": 30,
     "metadata": {},
     "output_type": "execute_result"
    }
   ],
   "source": [
    "test_read_scalar = pd.read_csv('data/small-cell-sorted_testing_knowledge_scalar.csv', index_col=0, header=None, squeeze=True)\n",
    "\n",
    "# extract this, we're going to drop it from the array to do some conversion to numeric\n",
    "most_abundant = test_read_scalar['most_abundant'] \n",
    "\n",
    "# drop most abundant, convert to float, fill any NaN values with 0, and call .values to get the numpy array pandas objects are based on.\n",
    "for_comparison = test_read_scalar.drop('most_abundant').astype(float).fillna(0).values\n",
    "\n",
    "\n",
    "# note, have to drop the string value and convert to float before this works. \n",
    "np.allclose(\n",
    "    pd.Series(results_scalar).drop('most_abundant').fillna(0).values,  # do the same thing as above to the one in memory\n",
    "    for_comparison\n",
    ")"
   ]
  },
  {
   "cell_type": "code",
   "execution_count": 31,
   "metadata": {
    "run_control": {
     "frozen": false,
     "read_only": false
    }
   },
   "outputs": [
    {
     "data": {
      "text/plain": [
       "CB\n",
       "AAAACCTGGTAGAAGG    25.377551\n",
       "AAACACGTGTCTGGAG    32.505102\n",
       "AAACCTGAGAAACCTA    27.775510\n",
       "AAACCTGAGATGTGTA    39.918367\n",
       "AAACCTGAGCACATCT    34.363946\n",
       "AAACCTGAGCATCATC    34.596867\n",
       "AAACCTGAGCTAACTC    37.459184\n",
       "AAACCTGAGCTAGCCC    35.948980\n",
       "AAACCTGAGCTAGTGG    31.634485\n",
       "AAACCTGAGGCCCGTT    26.586957\n",
       "AAACCTGCACATTAGC    36.750000\n",
       "AAACCTGCACTGTTAG    39.537415\n",
       "AAACCTGCAGACGCCT    28.089552\n",
       "AAACCTGCAGGCTCAC    33.704082\n",
       "AAACCTGCATAGTAAG    33.607900\n",
       "AAACCTGCATGAACCT    36.278732\n",
       "AAACCTGGTAAGAGGA    30.847209\n",
       "AAACCTGGTAGAAGGA    34.840207\n",
       "AAACCTGGTCCAGTGC    35.932717\n",
       "AAACCTGGTCGTTGTA    24.775510\n",
       "AAACCTGGTGTCTGAT    34.360316\n",
       "AAACCTGGTTTGCATG    31.093386\n",
       "AAACCTGGTTTGTTTC    33.288016\n",
       "AAACCTGTCACGATGT    36.709184\n",
       "AAACCTGTCCGTTGCT    31.964741\n",
       "AAACCTGTCCTGTAGA    30.215751\n",
       "AAACCTGTCGCCAAAT    35.395582\n",
       "AAACCTGTCGCGATCG    27.683673\n",
       "AAACCTGTCGTGGACC    35.867376\n",
       "AAACCTGTCTACCAGA    27.452688\n",
       "AAACCTGTCTACGAGT    34.391753\n",
       "AAACCTGTCTCAAGTG    33.732258\n",
       "AAACCTGTCTCGCTTG    33.642465\n",
       "AAACCTGTCTGCGGCA    35.955218\n",
       "AAACCTGTCTTCAACT    35.569388\n",
       "AAACCTGTCTTCGAGA    27.418367\n",
       "AAACGCCAGGCAGTAG    30.047917\n",
       "AAACGGGAGACTCGGA    33.462136\n",
       "AAACGGGAGAGTAAGG    34.663265\n",
       "AAACGGGAGCCTCGTG    35.212755\n",
       "AAACGGGAGGTGTGGT    32.461862\n",
       "AAACGGGAGTACGATA    35.768995\n",
       "AAACGGGCAAGTAGTA    36.996289\n",
       "AAACGGGCAATAGCGG    30.072165\n",
       "AAACGGGCACGAAACG    33.635306\n",
       "AAACGGGCAGTAAGAT    32.670791\n",
       "AAACGGGCATTCTCAT    39.872093\n",
       "AAACGGGCGATCTAAA    28.051020\n",
       "AAACGGGGTACAGTTC    35.938776\n",
       "AAACGGGGTACCCAAT    33.127752\n",
       "AAACGGGGTACCGCTG    35.826531\n",
       "AAACGGGGTACTCAAC    36.663265\n",
       "AAACGGGGTAGCTTGT    32.718821\n",
       "AAACGGGGTGCGAAAC    26.642857\n",
       "AAACGGGGTGCGCTTG    34.105282\n",
       "AAACGGGTCAGGATCT    34.001167\n",
       "AAACGGGTCCAAAGTC    36.095635\n",
       "AAACGGGTCCCTCAGT    33.770405\n",
       "Name: genomic_read_quality_mean, dtype: float64"
      ]
     },
     "execution_count": 31,
     "metadata": {},
     "output_type": "execute_result"
    }
   ],
   "source": [
    "# get a metric from a dataframe: \n",
    "df = pd.DataFrame(results_series)\n",
    "df['genomic_read_quality_mean']"
   ]
  },
  {
   "cell_type": "code",
   "execution_count": 32,
   "metadata": {
    "run_control": {
     "frozen": false,
     "read_only": false
    }
   },
   "outputs": [],
   "source": [
    "# get a numpy array from the dataframe\n",
    "compare_me = df['genomic_read_quality_mean'].values"
   ]
  },
  {
   "cell_type": "code",
   "execution_count": 33,
   "metadata": {
    "run_control": {
     "frozen": false,
     "read_only": false
    }
   },
   "outputs": [
    {
     "ename": "ValueError",
     "evalue": "operands could not be broadcast together with shapes (58,) (11,) ",
     "output_type": "error",
     "traceback": [
      "\u001b[0;31m---------------------------------------------------------------------------\u001b[0m",
      "\u001b[0;31mValueError\u001b[0m                                Traceback (most recent call last)",
      "\u001b[0;32m<ipython-input-33-1f1dd7a9bf38>\u001b[0m in \u001b[0;36m<module>\u001b[0;34m()\u001b[0m\n\u001b[1;32m      1\u001b[0m \u001b[0;31m# compare two numpy arrays that are slightly different\u001b[0m\u001b[0;34m\u001b[0m\u001b[0;34m\u001b[0m\u001b[0m\n\u001b[1;32m      2\u001b[0m \u001b[0meps\u001b[0m \u001b[0;34m=\u001b[0m \u001b[0mnp\u001b[0m\u001b[0;34m.\u001b[0m\u001b[0mrandom\u001b[0m\u001b[0;34m.\u001b[0m\u001b[0mrand\u001b[0m\u001b[0;34m(\u001b[0m\u001b[0;36m11\u001b[0m\u001b[0;34m)\u001b[0m \u001b[0;34m*\u001b[0m \u001b[0;36m1e-8\u001b[0m\u001b[0;34m\u001b[0m\u001b[0m\n\u001b[0;32m----> 3\u001b[0;31m \u001b[0mnp\u001b[0m\u001b[0;34m.\u001b[0m\u001b[0mallclose\u001b[0m\u001b[0;34m(\u001b[0m\u001b[0mcompare_me\u001b[0m\u001b[0;34m,\u001b[0m \u001b[0mcompare_me\u001b[0m \u001b[0;34m+\u001b[0m \u001b[0meps\u001b[0m\u001b[0;34m)\u001b[0m\u001b[0;34m\u001b[0m\u001b[0m\n\u001b[0m",
      "\u001b[0;31mValueError\u001b[0m: operands could not be broadcast together with shapes (58,) (11,) "
     ]
    }
   ],
   "source": [
    "# compare two numpy arrays that are slightly different\n",
    "eps = np.random.rand(11) * 1e-8\n",
    "np.allclose(compare_me, compare_me + eps)\n"
   ]
  },
  {
   "cell_type": "code",
   "execution_count": null,
   "metadata": {
    "run_control": {
     "frozen": false,
     "read_only": false
    }
   },
   "outputs": [],
   "source": [
    "# it is actually discriminative, though\n",
    "np.allclose(compare_me, np.arange(11))"
   ]
  },
  {
   "cell_type": "markdown",
   "metadata": {},
   "source": [
    "# Look at the metrics output"
   ]
  },
  {
   "cell_type": "code",
   "execution_count": null,
   "metadata": {
    "run_control": {
     "frozen": false,
     "read_only": false
    }
   },
   "outputs": [],
   "source": [
    "cell_metrics = pd.read_csv('data/cell_metrics.csv', index_col=0)"
   ]
  },
  {
   "cell_type": "code",
   "execution_count": null,
   "metadata": {
    "run_control": {
     "frozen": false,
     "read_only": false
    }
   },
   "outputs": [],
   "source": [
    "cell_metrics['n_genes']"
   ]
  },
  {
   "cell_type": "code",
   "execution_count": null,
   "metadata": {
    "run_control": {
     "frozen": false,
     "read_only": false
    },
    "scrolled": true
   },
   "outputs": [],
   "source": [
    "!cat data/cell_metrics.csv"
   ]
  },
  {
   "cell_type": "code",
   "execution_count": null,
   "metadata": {
    "run_control": {
     "frozen": false,
     "read_only": false
    }
   },
   "outputs": [],
   "source": []
  }
 ],
 "metadata": {
  "hide_input": false,
  "kernelspec": {
   "display_name": "Python 3",
   "language": "python",
   "name": "python3"
  },
  "language_info": {
   "codemirror_mode": {
    "name": "ipython",
    "version": 3
   },
   "file_extension": ".py",
   "mimetype": "text/x-python",
   "name": "python",
   "nbconvert_exporter": "python",
   "pygments_lexer": "ipython3",
   "version": "3.6.4"
  },
  "nav_menu": {},
  "toc": {
   "navigate_menu": true,
   "number_sections": true,
   "sideBar": true,
   "threshold": 6,
   "toc_cell": false,
   "toc_section_display": "block",
   "toc_window_display": false
  }
 },
 "nbformat": 4,
 "nbformat_minor": 2
}
