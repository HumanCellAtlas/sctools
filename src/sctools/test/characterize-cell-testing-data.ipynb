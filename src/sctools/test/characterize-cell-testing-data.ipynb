{
 "cells": [
  {
   "cell_type": "markdown",
   "metadata": {
    "deletable": true,
    "editable": true
   },
   "source": [
    "# Load Testing Data"
   ]
  },
  {
   "cell_type": "code",
   "execution_count": 1,
   "metadata": {
    "collapsed": true,
    "deletable": true,
    "editable": true
   },
   "outputs": [],
   "source": [
    "import pandas as pd\n",
    "import numpy as np\n",
    "import os\n",
    "import pysam"
   ]
  },
  {
   "cell_type": "code",
   "execution_count": 2,
   "metadata": {
    "collapsed": true,
    "deletable": true,
    "editable": true
   },
   "outputs": [],
   "source": [
    "input_sam_file = 'data/small-cell-sorted.bam'"
   ]
  },
  {
   "cell_type": "code",
   "execution_count": 3,
   "metadata": {
    "collapsed": false,
    "deletable": true,
    "editable": true
   },
   "outputs": [
    {
     "name": "stderr",
     "output_type": "stream",
     "text": [
      "/usr/local/lib/python3.6/site-packages/ipykernel/__main__.py:23: DeprecationWarning: tostring() is deprecated. Use tobytes() instead.\n"
     ]
    }
   ],
   "source": [
    "def parse_record(record):\n",
    "    \"\"\"line parser to build dataframe, supports missing tags in test data\"\"\"\n",
    "    data = {\n",
    "        'qname': record.query_name,\n",
    "        'flag': record.flag,\n",
    "        'reference': record.reference_id,\n",
    "        'position': record.pos,\n",
    "        'mapq': record.query_qualities,\n",
    "        'cigar': record.cigarstring,\n",
    "        'rnext': record.rnext, \n",
    "        'pnext': record.pnext,\n",
    "        'tlen': record.tlen, \n",
    "        'sequence': record.seq,\n",
    "        'quality': record.qual,\n",
    "    }\n",
    "    for name, tag in record.get_tags():\n",
    "        data[name] = tag\n",
    "    return pd.Series(data)\n",
    "\n",
    "with pysam.AlignmentFile(input_sam_file, 'rb') as f:\n",
    "    records = []\n",
    "    for record in f:\n",
    "        records.append(parse_record(record))\n",
    "\n",
    "data = pd.concat(records, axis=1).T\n",
    "\n",
    "results_scalar = {}"
   ]
  },
  {
   "cell_type": "markdown",
   "metadata": {
    "deletable": true,
    "editable": true
   },
   "source": [
    "# Build Expectations for Testing Data"
   ]
  },
  {
   "cell_type": "markdown",
   "metadata": {
    "deletable": true,
    "editable": true
   },
   "source": [
    "## Number of Reads"
   ]
  },
  {
   "cell_type": "code",
   "execution_count": 4,
   "metadata": {
    "collapsed": false,
    "deletable": true,
    "editable": true
   },
   "outputs": [
    {
     "name": "stdout",
     "output_type": "stream",
     "text": [
      "656\n"
     ]
    }
   ],
   "source": [
    "results_scalar['n_reads'] = len(data)\n",
    "print(results_scalar['n_reads'])"
   ]
  },
  {
   "cell_type": "markdown",
   "metadata": {
    "deletable": true,
    "editable": true
   },
   "source": [
    "## Number of Genes"
   ]
  },
  {
   "cell_type": "code",
   "execution_count": 5,
   "metadata": {
    "collapsed": false,
    "deletable": true,
    "editable": true
   },
   "outputs": [
    {
     "name": "stdout",
     "output_type": "stream",
     "text": [
      "11\n"
     ]
    }
   ],
   "source": [
    "results_scalar['genes_detected'] = len(data.groupby(['GE']))\n",
    "print(results_scalar['genes_detected'])"
   ]
  },
  {
   "cell_type": "markdown",
   "metadata": {
    "deletable": true,
    "editable": true
   },
   "source": [
    "Gene table should have 8 entries plus a header for a total of 9 lines"
   ]
  },
  {
   "cell_type": "markdown",
   "metadata": {
    "deletable": true,
    "editable": true
   },
   "source": [
    "## Number of Molecules\n",
    "\n",
    "Molecules are defined as a unique triplet of CB, UB, and GE"
   ]
  },
  {
   "cell_type": "code",
   "execution_count": 6,
   "metadata": {
    "collapsed": false,
    "deletable": true,
    "editable": true
   },
   "outputs": [
    {
     "name": "stdout",
     "output_type": "stream",
     "text": [
      "249\n"
     ]
    }
   ],
   "source": [
    "results_scalar['n_molecules'] = len(data.groupby(['CB', 'UB', 'GE']))\n",
    "print(results_scalar['n_molecules'])"
   ]
  },
  {
   "cell_type": "markdown",
   "metadata": {
    "deletable": true,
    "editable": true
   },
   "source": [
    "## Number of Fragments\n",
    "\n",
    "Fragments are defined as molecules are (CB, UB, GE) but must additionally have a unique position"
   ]
  },
  {
   "cell_type": "code",
   "execution_count": 7,
   "metadata": {
    "collapsed": false,
    "deletable": true,
    "editable": true
   },
   "outputs": [
    {
     "name": "stdout",
     "output_type": "stream",
     "text": [
      "499\n"
     ]
    }
   ],
   "source": [
    "results_scalar['n_fragments'] = len(data.groupby(['CB', 'UB', 'GE', 'position']))\n",
    "print(results_scalar['n_fragments'])"
   ]
  },
  {
   "cell_type": "markdown",
   "metadata": {
    "deletable": true,
    "editable": true
   },
   "source": [
    "## Most Abundant Gene\n",
    "\n",
    "Based on the above, at least one of the genes has to be observed more than once. Which is it? "
   ]
  },
  {
   "cell_type": "code",
   "execution_count": 8,
   "metadata": {
    "collapsed": false,
    "deletable": true,
    "editable": true
   },
   "outputs": [
    {
     "name": "stdout",
     "output_type": "stream",
     "text": [
      "MTATP6P1 300\n"
     ]
    }
   ],
   "source": [
    "results_scalar['most_abundant'] = data.groupby(['GE']).size().idxmax().split(':')[-1]\n",
    "results_scalar['most_abundant_gene_n_observations'] = data.groupby(['GE']).size().max()\n",
    "print(results_scalar['most_abundant'], results_scalar['most_abundant_gene_n_observations'])"
   ]
  },
  {
   "cell_type": "code",
   "execution_count": 9,
   "metadata": {
    "collapsed": true,
    "deletable": true,
    "editable": true
   },
   "outputs": [],
   "source": [
    "results_scalar['perfect_molecule_barcodes'] = 0\n",
    "for c, r in zip(data['UB'], data['UR']):\n",
    "    if c.split(':')[-1] == r.split(':')[-1]:\n",
    "        results_scalar['perfect_molecule_barcodes'] += 1"
   ]
  },
  {
   "cell_type": "markdown",
   "metadata": {
    "deletable": true,
    "editable": true
   },
   "source": [
    "Calculate the alignment metrics"
   ]
  },
  {
   "cell_type": "code",
   "execution_count": 10,
   "metadata": {
    "collapsed": true,
    "deletable": true,
    "editable": true
   },
   "outputs": [],
   "source": [
    "results_scalar['reads_mapped_exonic'] = sum(data['XF'] == 'CODING')"
   ]
  },
  {
   "cell_type": "code",
   "execution_count": 11,
   "metadata": {
    "collapsed": true,
    "deletable": true,
    "editable": true
   },
   "outputs": [],
   "source": [
    "results_scalar['reads_mapped_intronic'] = sum(data['XF'] == 'INTRONIC')"
   ]
  },
  {
   "cell_type": "code",
   "execution_count": 12,
   "metadata": {
    "collapsed": true,
    "deletable": true,
    "editable": true
   },
   "outputs": [],
   "source": [
    "results_scalar['reads_mapped_utr'] = sum(data['XF'] == 'UTR')"
   ]
  },
  {
   "cell_type": "code",
   "execution_count": 13,
   "metadata": {
    "collapsed": true,
    "deletable": true,
    "editable": true
   },
   "outputs": [],
   "source": [
    "results_scalar['reads_mapped_uniquely'] = sum(data['NH'] == 1)"
   ]
  },
  {
   "cell_type": "code",
   "execution_count": 14,
   "metadata": {
    "collapsed": true,
    "deletable": true,
    "editable": true
   },
   "outputs": [],
   "source": [
    "results_scalar['duplicate_reads'] = sum((data['flag'] & 1024).astype(bool))"
   ]
  },
  {
   "cell_type": "code",
   "execution_count": 15,
   "metadata": {
    "collapsed": true,
    "deletable": true,
    "editable": true
   },
   "outputs": [],
   "source": [
    "results_scalar['spliced_reads'] = sum(1 for v in data['cigar'] if 'N' in v)"
   ]
  },
  {
   "cell_type": "markdown",
   "metadata": {
    "deletable": true,
    "editable": true
   },
   "source": [
    "Calculate the higher-order metrics"
   ]
  },
  {
   "cell_type": "code",
   "execution_count": 16,
   "metadata": {
    "collapsed": true,
    "deletable": true,
    "editable": true
   },
   "outputs": [],
   "source": [
    "calc_func_fraction = lambda x: sum(1 for c in x.split(':')[-1] if ord(c) > 63) / len(x.split(':')[-1])\n",
    "calc_func_mean = lambda x: np.mean([ord(c) - 33 for c in x.split(':')[-1]])\n",
    "\n",
    "data['num_UY_qual_fraction'] = data['UY'].apply(calc_func_fraction)\n",
    "\n",
    "data['num_base_qual_fraction'] = data['quality'].apply(calc_func_fraction)\n",
    "data['num_base_qual_mean'] = data['quality'].apply(calc_func_mean)\n",
    "\n",
    "grouped_by_gene = data.groupby(['GE'])"
   ]
  },
  {
   "cell_type": "code",
   "execution_count": 17,
   "metadata": {
    "collapsed": true,
    "deletable": true,
    "editable": true
   },
   "outputs": [],
   "source": [
    "results_series = {}"
   ]
  },
  {
   "cell_type": "code",
   "execution_count": 18,
   "metadata": {
    "collapsed": true,
    "deletable": true,
    "editable": true
   },
   "outputs": [],
   "source": [
    "# vector values\n",
    "# I changed these to retain the index to make merging into a dataframe easier, and guarantee same order. \n",
    "results_series['molecule_barcode_fraction_bases_above_30_mean'] = grouped_by_gene.mean()['num_UY_qual_fraction']\n",
    "results_series['molecule_barcode_fraction_bases_above_30_variance'] = grouped_by_gene.var()['num_UY_qual_fraction']\n",
    "\n",
    "results_series['genomic_reads_fraction_bases_quality_above_30_mean'] = grouped_by_gene.mean()['num_base_qual_fraction']\n",
    "results_series['genomic_reads_fraction_bases_quality_above_30_variance'] = grouped_by_gene.var()['num_base_qual_fraction']\n",
    "results_series['genomic_read_quality_mean'] = grouped_by_gene.mean()['num_base_qual_mean']\n",
    "results_series['genomic_read_quality_variance'] = grouped_by_gene.var()['num_base_qual_mean']\n",
    "\n",
    "reads_per_gene = data.groupby(['GE']).size()"
   ]
  },
  {
   "cell_type": "code",
   "execution_count": 19,
   "metadata": {
    "collapsed": true,
    "deletable": true,
    "editable": true
   },
   "outputs": [],
   "source": [
    "molecules_per_gene = grouped_by_gene.apply(lambda x: len(x.groupby(['UB', 'CB']).size()))\n",
    "fragments_per_gene = grouped_by_gene.apply(lambda x: len(x.groupby(['UB', 'CB', 'position']).size()))\n",
    "reads_per_molecule = reads_per_gene / molecules_per_gene\n",
    "reads_per_fragment = reads_per_gene / fragments_per_gene\n",
    "fragments_per_molecule = fragments_per_gene / molecules_per_gene\n",
    "results_series['reads_per_molecule'] = reads_per_molecule\n",
    "results_series['reads_per_fragment'] = reads_per_fragment\n",
    "results_series['fragments_per_molecule'] = fragments_per_molecule\n",
    "\n",
    "# scalar values\n",
    "results_scalar['fragments_with_single_read_evidence'] = np.sum(data.groupby(['CB', 'UB', 'GE', 'position']).size() == 1)\n",
    "results_scalar['molecules_with_single_read_evidence'] = np.sum(data.groupby(['CB', 'UB', 'GE']).size() == 1)"
   ]
  },
  {
   "cell_type": "code",
   "execution_count": 20,
   "metadata": {
    "collapsed": false,
    "deletable": true,
    "editable": true
   },
   "outputs": [
    {
     "data": {
      "text/html": [
       "<div>\n",
       "<style scoped>\n",
       "    .dataframe tbody tr th:only-of-type {\n",
       "        vertical-align: middle;\n",
       "    }\n",
       "\n",
       "    .dataframe tbody tr th {\n",
       "        vertical-align: top;\n",
       "    }\n",
       "\n",
       "    .dataframe thead th {\n",
       "        text-align: right;\n",
       "    }\n",
       "</style>\n",
       "<table border=\"1\" class=\"dataframe\">\n",
       "  <thead>\n",
       "    <tr style=\"text-align: right;\">\n",
       "      <th></th>\n",
       "      <th>fragments_per_molecule</th>\n",
       "      <th>genomic_read_quality_mean</th>\n",
       "      <th>genomic_read_quality_variance</th>\n",
       "      <th>genomic_reads_fraction_bases_quality_above_30_mean</th>\n",
       "      <th>genomic_reads_fraction_bases_quality_above_30_variance</th>\n",
       "      <th>molecule_barcode_fraction_bases_above_30_mean</th>\n",
       "      <th>molecule_barcode_fraction_bases_above_30_variance</th>\n",
       "      <th>reads_per_fragment</th>\n",
       "      <th>reads_per_molecule</th>\n",
       "    </tr>\n",
       "    <tr>\n",
       "      <th>GE</th>\n",
       "      <th></th>\n",
       "      <th></th>\n",
       "      <th></th>\n",
       "      <th></th>\n",
       "      <th></th>\n",
       "      <th></th>\n",
       "      <th></th>\n",
       "      <th></th>\n",
       "      <th></th>\n",
       "    </tr>\n",
       "  </thead>\n",
       "  <tbody>\n",
       "    <tr>\n",
       "      <th>AL669831.4</th>\n",
       "      <td>4.000000</td>\n",
       "      <td>37.224490</td>\n",
       "      <td>6.461544</td>\n",
       "      <td>0.892857</td>\n",
       "      <td>0.008087</td>\n",
       "      <td>1.000000</td>\n",
       "      <td>0.000000</td>\n",
       "      <td>1.000000</td>\n",
       "      <td>4.000000</td>\n",
       "    </tr>\n",
       "    <tr>\n",
       "      <th>HES4</th>\n",
       "      <td>10.750000</td>\n",
       "      <td>35.059971</td>\n",
       "      <td>23.844938</td>\n",
       "      <td>0.802900</td>\n",
       "      <td>0.036894</td>\n",
       "      <td>0.985965</td>\n",
       "      <td>0.002299</td>\n",
       "      <td>1.325581</td>\n",
       "      <td>14.250000</td>\n",
       "    </tr>\n",
       "    <tr>\n",
       "      <th>ISG15</th>\n",
       "      <td>4.538462</td>\n",
       "      <td>34.151541</td>\n",
       "      <td>27.507810</td>\n",
       "      <td>0.767803</td>\n",
       "      <td>0.042226</td>\n",
       "      <td>0.984043</td>\n",
       "      <td>0.002861</td>\n",
       "      <td>1.593220</td>\n",
       "      <td>7.230769</td>\n",
       "    </tr>\n",
       "    <tr>\n",
       "      <th>LINC01128</th>\n",
       "      <td>1.500000</td>\n",
       "      <td>38.860544</td>\n",
       "      <td>1.547931</td>\n",
       "      <td>0.955782</td>\n",
       "      <td>0.000659</td>\n",
       "      <td>1.000000</td>\n",
       "      <td>0.000000</td>\n",
       "      <td>1.000000</td>\n",
       "      <td>1.500000</td>\n",
       "    </tr>\n",
       "    <tr>\n",
       "      <th>MTATP6P1</th>\n",
       "      <td>1.496894</td>\n",
       "      <td>34.308469</td>\n",
       "      <td>26.048876</td>\n",
       "      <td>0.777279</td>\n",
       "      <td>0.041522</td>\n",
       "      <td>0.984667</td>\n",
       "      <td>0.005584</td>\n",
       "      <td>1.244813</td>\n",
       "      <td>1.863354</td>\n",
       "    </tr>\n",
       "    <tr>\n",
       "      <th>MTCO1P12</th>\n",
       "      <td>1.035714</td>\n",
       "      <td>33.809215</td>\n",
       "      <td>27.735367</td>\n",
       "      <td>0.761286</td>\n",
       "      <td>0.046452</td>\n",
       "      <td>0.993939</td>\n",
       "      <td>0.000587</td>\n",
       "      <td>1.137931</td>\n",
       "      <td>1.178571</td>\n",
       "    </tr>\n",
       "    <tr>\n",
       "      <th>MTCO2P12</th>\n",
       "      <td>1.000000</td>\n",
       "      <td>21.693878</td>\n",
       "      <td>NaN</td>\n",
       "      <td>0.234694</td>\n",
       "      <td>NaN</td>\n",
       "      <td>1.000000</td>\n",
       "      <td>NaN</td>\n",
       "      <td>1.000000</td>\n",
       "      <td>1.000000</td>\n",
       "    </tr>\n",
       "    <tr>\n",
       "      <th>MTCO3P12</th>\n",
       "      <td>1.000000</td>\n",
       "      <td>26.224490</td>\n",
       "      <td>NaN</td>\n",
       "      <td>0.438776</td>\n",
       "      <td>NaN</td>\n",
       "      <td>1.000000</td>\n",
       "      <td>NaN</td>\n",
       "      <td>1.000000</td>\n",
       "      <td>1.000000</td>\n",
       "    </tr>\n",
       "    <tr>\n",
       "      <th>MTND1P23</th>\n",
       "      <td>1.200000</td>\n",
       "      <td>25.280612</td>\n",
       "      <td>12.735975</td>\n",
       "      <td>0.423469</td>\n",
       "      <td>0.023188</td>\n",
       "      <td>0.950000</td>\n",
       "      <td>0.007000</td>\n",
       "      <td>1.000000</td>\n",
       "      <td>1.200000</td>\n",
       "    </tr>\n",
       "    <tr>\n",
       "      <th>MTND2P28</th>\n",
       "      <td>1.333333</td>\n",
       "      <td>32.570748</td>\n",
       "      <td>43.864721</td>\n",
       "      <td>0.708163</td>\n",
       "      <td>0.070072</td>\n",
       "      <td>0.966667</td>\n",
       "      <td>0.003810</td>\n",
       "      <td>1.250000</td>\n",
       "      <td>1.666667</td>\n",
       "    </tr>\n",
       "    <tr>\n",
       "      <th>NOC2L</th>\n",
       "      <td>6.666667</td>\n",
       "      <td>35.627943</td>\n",
       "      <td>22.730747</td>\n",
       "      <td>0.826082</td>\n",
       "      <td>0.037838</td>\n",
       "      <td>0.983516</td>\n",
       "      <td>0.005170</td>\n",
       "      <td>1.516667</td>\n",
       "      <td>10.111111</td>\n",
       "    </tr>\n",
       "  </tbody>\n",
       "</table>\n",
       "</div>"
      ],
      "text/plain": [
       "            fragments_per_molecule  genomic_read_quality_mean  \\\n",
       "GE                                                              \n",
       "AL669831.4                4.000000                  37.224490   \n",
       "HES4                     10.750000                  35.059971   \n",
       "ISG15                     4.538462                  34.151541   \n",
       "LINC01128                 1.500000                  38.860544   \n",
       "MTATP6P1                  1.496894                  34.308469   \n",
       "MTCO1P12                  1.035714                  33.809215   \n",
       "MTCO2P12                  1.000000                  21.693878   \n",
       "MTCO3P12                  1.000000                  26.224490   \n",
       "MTND1P23                  1.200000                  25.280612   \n",
       "MTND2P28                  1.333333                  32.570748   \n",
       "NOC2L                     6.666667                  35.627943   \n",
       "\n",
       "            genomic_read_quality_variance  \\\n",
       "GE                                          \n",
       "AL669831.4                       6.461544   \n",
       "HES4                            23.844938   \n",
       "ISG15                           27.507810   \n",
       "LINC01128                        1.547931   \n",
       "MTATP6P1                        26.048876   \n",
       "MTCO1P12                        27.735367   \n",
       "MTCO2P12                              NaN   \n",
       "MTCO3P12                              NaN   \n",
       "MTND1P23                        12.735975   \n",
       "MTND2P28                        43.864721   \n",
       "NOC2L                           22.730747   \n",
       "\n",
       "            genomic_reads_fraction_bases_quality_above_30_mean  \\\n",
       "GE                                                               \n",
       "AL669831.4                                           0.892857    \n",
       "HES4                                                 0.802900    \n",
       "ISG15                                                0.767803    \n",
       "LINC01128                                            0.955782    \n",
       "MTATP6P1                                             0.777279    \n",
       "MTCO1P12                                             0.761286    \n",
       "MTCO2P12                                             0.234694    \n",
       "MTCO3P12                                             0.438776    \n",
       "MTND1P23                                             0.423469    \n",
       "MTND2P28                                             0.708163    \n",
       "NOC2L                                                0.826082    \n",
       "\n",
       "            genomic_reads_fraction_bases_quality_above_30_variance  \\\n",
       "GE                                                                   \n",
       "AL669831.4                                           0.008087        \n",
       "HES4                                                 0.036894        \n",
       "ISG15                                                0.042226        \n",
       "LINC01128                                            0.000659        \n",
       "MTATP6P1                                             0.041522        \n",
       "MTCO1P12                                             0.046452        \n",
       "MTCO2P12                                                  NaN        \n",
       "MTCO3P12                                                  NaN        \n",
       "MTND1P23                                             0.023188        \n",
       "MTND2P28                                             0.070072        \n",
       "NOC2L                                                0.037838        \n",
       "\n",
       "            molecule_barcode_fraction_bases_above_30_mean  \\\n",
       "GE                                                          \n",
       "AL669831.4                                       1.000000   \n",
       "HES4                                             0.985965   \n",
       "ISG15                                            0.984043   \n",
       "LINC01128                                        1.000000   \n",
       "MTATP6P1                                         0.984667   \n",
       "MTCO1P12                                         0.993939   \n",
       "MTCO2P12                                         1.000000   \n",
       "MTCO3P12                                         1.000000   \n",
       "MTND1P23                                         0.950000   \n",
       "MTND2P28                                         0.966667   \n",
       "NOC2L                                            0.983516   \n",
       "\n",
       "            molecule_barcode_fraction_bases_above_30_variance  \\\n",
       "GE                                                              \n",
       "AL669831.4                                           0.000000   \n",
       "HES4                                                 0.002299   \n",
       "ISG15                                                0.002861   \n",
       "LINC01128                                            0.000000   \n",
       "MTATP6P1                                             0.005584   \n",
       "MTCO1P12                                             0.000587   \n",
       "MTCO2P12                                                  NaN   \n",
       "MTCO3P12                                                  NaN   \n",
       "MTND1P23                                             0.007000   \n",
       "MTND2P28                                             0.003810   \n",
       "NOC2L                                                0.005170   \n",
       "\n",
       "            reads_per_fragment  reads_per_molecule  \n",
       "GE                                                  \n",
       "AL669831.4            1.000000            4.000000  \n",
       "HES4                  1.325581           14.250000  \n",
       "ISG15                 1.593220            7.230769  \n",
       "LINC01128             1.000000            1.500000  \n",
       "MTATP6P1              1.244813            1.863354  \n",
       "MTCO1P12              1.137931            1.178571  \n",
       "MTCO2P12              1.000000            1.000000  \n",
       "MTCO3P12              1.000000            1.000000  \n",
       "MTND1P23              1.000000            1.200000  \n",
       "MTND2P28              1.250000            1.666667  \n",
       "NOC2L                 1.516667           10.111111  "
      ]
     },
     "execution_count": 20,
     "metadata": {},
     "output_type": "execute_result"
    }
   ],
   "source": [
    "pd.DataFrame(results_series)"
   ]
  },
  {
   "cell_type": "markdown",
   "metadata": {
    "deletable": true,
    "editable": true
   },
   "source": [
    "# Write Results to File for Automated Testing"
   ]
  },
  {
   "cell_type": "code",
   "execution_count": 21,
   "metadata": {
    "collapsed": true,
    "deletable": true,
    "editable": true
   },
   "outputs": [],
   "source": [
    "pd.Series(results_scalar).to_csv('%s_testing_knowledge_scalar.csv' % input_sam_file.replace('.bam', ''))\n",
    "pd.DataFrame(results_series).to_csv('%s_testing_knowledge_series.csv' % input_sam_file.replace('.bam', ''))"
   ]
  },
  {
   "cell_type": "code",
   "execution_count": 22,
   "metadata": {
    "collapsed": false,
    "deletable": true,
    "editable": true
   },
   "outputs": [
    {
     "data": {
      "text/plain": [
       "True"
      ]
     },
     "execution_count": 22,
     "metadata": {},
     "output_type": "execute_result"
    }
   ],
   "source": [
    "# do a comparison of the whole 2d dataframe at once\n",
    "np.allclose(\n",
    "    pd.DataFrame(results_series).fillna(0).values,  # fill nans with zero, call values to get the numpy array the dataframe is based on\n",
    "    pd.read_csv('%s_testing_knowledge_series.csv' % input_sam_file.replace('.bam', ''), index_col=0, header=0).fillna(0).values\n",
    ")"
   ]
  },
  {
   "cell_type": "code",
   "execution_count": 23,
   "metadata": {
    "collapsed": true,
    "deletable": true,
    "editable": true
   },
   "outputs": [],
   "source": [
    "# to get most_abundant alone: "
   ]
  },
  {
   "cell_type": "code",
   "execution_count": 24,
   "metadata": {
    "collapsed": false,
    "deletable": true,
    "editable": true
   },
   "outputs": [
    {
     "data": {
      "text/plain": [
       "True"
      ]
     },
     "execution_count": 24,
     "metadata": {},
     "output_type": "execute_result"
    }
   ],
   "source": [
    "test_read_scalar = pd.read_csv('%s_testing_knowledge_scalar.csv' % input_sam_file.replace('.bam', ''),\n",
    "                               index_col=0, header=None, squeeze=True)\n",
    "\n",
    "# extract this, we're going to drop it from the array to do some conversion to numeric\n",
    "most_abundant = test_read_scalar['most_abundant'] \n",
    "\n",
    "# drop most abundant, convert to float, fill any NaN values with 0, and call .values to get the numpy array pandas objects are based on.\n",
    "for_comparison = test_read_scalar.drop('most_abundant').astype(float).fillna(0).values\n",
    "\n",
    "\n",
    "# note, have to drop the string value and convert to float before this works. \n",
    "np.allclose(\n",
    "    pd.Series(results_scalar).drop('most_abundant').fillna(0).values,  # do the same thing as above to the one in memory\n",
    "    for_comparison\n",
    ")"
   ]
  },
  {
   "cell_type": "code",
   "execution_count": 25,
   "metadata": {
    "collapsed": false,
    "deletable": true,
    "editable": true
   },
   "outputs": [
    {
     "data": {
      "text/plain": [
       "GE\n",
       "AL669831.4    37.224490\n",
       "HES4          35.059971\n",
       "ISG15         34.151541\n",
       "LINC01128     38.860544\n",
       "MTATP6P1      34.308469\n",
       "MTCO1P12      33.809215\n",
       "MTCO2P12      21.693878\n",
       "MTCO3P12      26.224490\n",
       "MTND1P23      25.280612\n",
       "MTND2P28      32.570748\n",
       "NOC2L         35.627943\n",
       "Name: genomic_read_quality_mean, dtype: float64"
      ]
     },
     "execution_count": 25,
     "metadata": {},
     "output_type": "execute_result"
    }
   ],
   "source": [
    "# get a metric from a dataframe: \n",
    "df = pd.DataFrame(results_series)\n",
    "df['genomic_read_quality_mean']"
   ]
  },
  {
   "cell_type": "code",
   "execution_count": 26,
   "metadata": {
    "collapsed": false,
    "deletable": true,
    "editable": true
   },
   "outputs": [],
   "source": [
    "# get a numpy array from the dataframe\n",
    "compare_me = df['genomic_read_quality_mean'].values"
   ]
  },
  {
   "cell_type": "code",
   "execution_count": 27,
   "metadata": {
    "collapsed": false,
    "deletable": true,
    "editable": true
   },
   "outputs": [
    {
     "data": {
      "text/plain": [
       "True"
      ]
     },
     "execution_count": 27,
     "metadata": {},
     "output_type": "execute_result"
    }
   ],
   "source": [
    "# compare two numpy arrays that are slightly different\n",
    "eps = np.random.rand(11) * 1e-8\n",
    "np.allclose(compare_me, compare_me + eps)\n"
   ]
  },
  {
   "cell_type": "code",
   "execution_count": 28,
   "metadata": {
    "collapsed": false,
    "deletable": true,
    "editable": true
   },
   "outputs": [
    {
     "data": {
      "text/plain": [
       "False"
      ]
     },
     "execution_count": 28,
     "metadata": {},
     "output_type": "execute_result"
    }
   ],
   "source": [
    "# it is actually discriminative, though\n",
    "np.allclose(compare_me, np.arange(11))"
   ]
  },
  {
   "cell_type": "markdown",
   "metadata": {
    "deletable": true,
    "editable": true
   },
   "source": [
    "# Look at the metrics output"
   ]
  },
  {
   "cell_type": "code",
   "execution_count": 29,
   "metadata": {
    "collapsed": false,
    "deletable": true,
    "editable": true
   },
   "outputs": [],
   "source": [
    "import tempfile\n",
    "from sctools.metrics.gatherer import GatherGeneMetrics, GatherCellMetrics\n",
    "from itertools import product"
   ]
  },
  {
   "cell_type": "code",
   "execution_count": 30,
   "metadata": {
    "collapsed": false,
    "deletable": true,
    "editable": true
   },
   "outputs": [],
   "source": [
    "_data_dir = './data'\n",
    "_gene_sorted_bam = _data_dir + '/small-gene-sorted.bam'\n",
    "_cell_sorted_bam = _data_dir + '/small-cell-sorted.bam'\n",
    "\n",
    "_test_dir = tempfile.mkdtemp()\n",
    "_gene_metric_output_file = _data_dir + '/gene_metrics.csv'\n",
    "_cell_metric_output_file = _data_dir + '/cell_metrics.csv'\n",
    "_scalar_gene_testing_knowledge = pd.read_csv(\n",
    "    _data_dir + '/small-gene-sorted_testing_knowledge_scalar.csv', index_col=0, squeeze=True,\n",
    "    header=None)\n",
    "_scalar_cell_testing_knowledge = pd.read_csv(\n",
    "    _data_dir + '/small-cell-sorted_testing_knowledge_scalar.csv', index_col=0, squeeze=True,\n",
    "    header=None)\n",
    "\n",
    "\n",
    "cell_gatherer = GatherCellMetrics(_cell_sorted_bam, _cell_metric_output_file)\n",
    "cell_gatherer.extract_metrics()\n",
    "_cell_metrics = pd.read_csv(_cell_metric_output_file, index_col=0)\n",
    "\n",
    "gene_gatherer = GatherGeneMetrics(_gene_sorted_bam, _gene_metric_output_file)\n",
    "gene_gatherer.extract_metrics()\n",
    "_gene_metrics = pd.read_csv(_gene_metric_output_file, index_col=0)\n",
    "\n",
    "parameters = [\n",
    "    ['n_genes', int, np.sum],\n",
    "    ['n_molecules', int, None],\n",
    "    ['n_fragments', int, np.sum],\n",
    "    # ('most_abundant', str, lambda x: x.index[np.argmax(x, 0]]],\n",
    "    ['most_abundant_gene_n_observations', int, np.max],\n",
    "    ['perfect_molecule_barcodes', int, np.sum],\n",
    "    ['reads_mapped_exonic', int, np.sum],\n",
    "    ['reads_mapped_intronic', int, np.sum],\n",
    "    ['reads_mapped_utr', int, np.sum],\n",
    "    ['reads_mapped_uniquely', int, np.sum],\n",
    "    ['duplicate_reads', int, np.sum],\n",
    "    ['spliced_reads', int, np.sum],\n",
    "]\n",
    "\n",
    "metrics = [\n",
    "    [_cell_metrics, _scalar_cell_testing_knowledge],\n",
    "    [_gene_metrics, _scalar_gene_testing_knowledge],\n",
    "]\n",
    "\n",
    "test_combinations = [m + p for m, p in product(metrics, parameters)]"
   ]
  }
 ],
 "metadata": {
  "hide_input": false,
  "kernelspec": {
   "display_name": "Python 3",
   "language": "python",
   "name": "python3"
  },
  "language_info": {
   "codemirror_mode": {
    "name": "ipython",
    "version": 3
   },
   "file_extension": ".py",
   "mimetype": "text/x-python",
   "name": "python",
   "nbconvert_exporter": "python",
   "pygments_lexer": "ipython3",
   "version": "3.6.4"
  },
  "toc": {
   "nav_menu": {},
   "number_sections": true,
   "sideBar": true,
   "skip_h1_title": false,
   "toc_cell": false,
   "toc_position": {},
   "toc_section_display": "block",
   "toc_window_display": false
  }
 },
 "nbformat": 4,
 "nbformat_minor": 2
}
