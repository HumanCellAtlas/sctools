{
 "cells": [
  {
   "cell_type": "markdown",
   "metadata": {},
   "source": [
    "# Load Testing Data"
   ]
  },
  {
   "cell_type": "code",
   "execution_count": 1,
   "metadata": {
    "run_control": {
     "frozen": false,
     "read_only": false
    }
   },
   "outputs": [],
   "source": [
    "import pandas as pd\n",
    "import numpy as np\n",
    "import pysam\n",
    "import os"
   ]
  },
  {
   "cell_type": "code",
   "execution_count": 2,
   "metadata": {
    "run_control": {
     "frozen": false,
     "read_only": false
    }
   },
   "outputs": [
    {
     "name": "stderr",
     "output_type": "stream",
     "text": [
      "/usr/local/lib/python3.6/site-packages/ipykernel_launcher.py:24: DeprecationWarning: tostring() is deprecated. Use tobytes() instead.\n"
     ]
    }
   ],
   "source": [
    "def parse_record(record):\n",
    "    \"\"\"line parser to build dataframe, supports missing tags in test data\"\"\"\n",
    "    data = {\n",
    "        'qname': record.query_name,\n",
    "        'flag': record.flag,\n",
    "        'reference': record.reference_id,\n",
    "        'position': record.pos,\n",
    "        'mapq': record.query_alignment_qualities,\n",
    "        'cigar': record.cigarstring,\n",
    "        'rnext': record.rnext, \n",
    "        'pnext': record.pnext,\n",
    "        'tlen': record.tlen, \n",
    "        'sequence': record.seq,\n",
    "        'quality': record.qual,\n",
    "    }\n",
    "    for name, tag in record.get_tags():\n",
    "        data[name] = tag\n",
    "    return pd.Series(data)\n",
    "\n",
    "input_sam_file = 'data/small-cell-sorted.bam'\n",
    "with pysam.AlignmentFile(input_sam_file, 'rb') as f:\n",
    "    records = []\n",
    "    for record in f:\n",
    "        records.append(parse_record(record))\n",
    "\n",
    "data = pd.concat(records, axis=1).T\n",
    "\n",
    "results_scalar = {}  # will hold the calculations we make\n",
    "\n",
    "# add a strand field\n",
    "data['strand'] = [f & 16 for f in data['flag']]"
   ]
  },
  {
   "cell_type": "markdown",
   "metadata": {},
   "source": [
    "# Build Expectations for Testing Data"
   ]
  },
  {
   "cell_type": "markdown",
   "metadata": {},
   "source": [
    "## Number of Reads"
   ]
  },
  {
   "cell_type": "code",
   "execution_count": 6,
   "metadata": {
    "run_control": {
     "frozen": false,
     "read_only": false
    }
   },
   "outputs": [
    {
     "name": "stdout",
     "output_type": "stream",
     "text": [
      "656\n"
     ]
    }
   ],
   "source": [
    "results_scalar['n_reads'] = len(data)\n",
    "print(results_scalar['n_reads'])"
   ]
  },
  {
   "cell_type": "markdown",
   "metadata": {},
   "source": [
    "## Number of Genes"
   ]
  },
  {
   "cell_type": "code",
   "execution_count": 7,
   "metadata": {
    "run_control": {
     "frozen": false,
     "read_only": false
    }
   },
   "outputs": [
    {
     "name": "stdout",
     "output_type": "stream",
     "text": [
      "11\n"
     ]
    }
   ],
   "source": [
    "results_scalar['n_genes'] = len(data.groupby(['GE']))\n",
    "print(results_scalar['n_genes'])"
   ]
  },
  {
   "cell_type": "code",
   "execution_count": 8,
   "metadata": {
    "run_control": {
     "frozen": false,
     "read_only": false
    }
   },
   "outputs": [
    {
     "name": "stdout",
     "output_type": "stream",
     "text": [
      "1.98275862069\n"
     ]
    }
   ],
   "source": [
    "mean_n_genes = data.groupby(['CB']).apply(lambda x: len(set(x['GE']))).mean()\n",
    "print(mean_n_genes)"
   ]
  },
  {
   "cell_type": "markdown",
   "metadata": {},
   "source": [
    "Gene table should have 8 entries plus a header for a total of 9 lines"
   ]
  },
  {
   "cell_type": "markdown",
   "metadata": {},
   "source": [
    "## Number of Molecules\n",
    "\n",
    "Molecules are defined as a unique triplet of CB, UB, and GE"
   ]
  },
  {
   "cell_type": "code",
   "execution_count": 9,
   "metadata": {
    "run_control": {
     "frozen": false,
     "read_only": false
    }
   },
   "outputs": [
    {
     "name": "stdout",
     "output_type": "stream",
     "text": [
      "249\n"
     ]
    }
   ],
   "source": [
    "results_scalar['n_molecules'] = len(data.groupby(['CB', 'UB', 'GE']))\n",
    "print(results_scalar['n_molecules'])"
   ]
  },
  {
   "cell_type": "markdown",
   "metadata": {},
   "source": [
    "## Number of Fragments\n",
    "\n",
    "Fragments are defined as molecules are (CB, UB, GE) but must additionally have a unique position"
   ]
  },
  {
   "cell_type": "code",
   "execution_count": 10,
   "metadata": {
    "run_control": {
     "frozen": false,
     "read_only": false
    }
   },
   "outputs": [
    {
     "name": "stdout",
     "output_type": "stream",
     "text": [
      "499\n"
     ]
    }
   ],
   "source": [
    "results_scalar['n_fragments'] = len(data.groupby(['CB', 'UB', 'GE', 'position']))\n",
    "print(results_scalar['n_fragments'])"
   ]
  },
  {
   "cell_type": "markdown",
   "metadata": {},
   "source": [
    "## Most Abundant Gene\n",
    "\n",
    "Based on the above, at least one of the genes has to be observed more than once. Which is it? "
   ]
  },
  {
   "cell_type": "code",
   "execution_count": 11,
   "metadata": {
    "run_control": {
     "frozen": false,
     "read_only": false
    }
   },
   "outputs": [
    {
     "name": "stdout",
     "output_type": "stream",
     "text": [
      "MTATP6P1 300\n"
     ]
    }
   ],
   "source": [
    "results_scalar['most_abundant'] = data.groupby(['GE']).size().idxmax()\n",
    "results_scalar['most_abundant_gene_n_observations'] = data.groupby(['GE']).size().max()\n",
    "print(results_scalar['most_abundant'], results_scalar['most_abundant_gene_n_observations'])"
   ]
  },
  {
   "cell_type": "markdown",
   "metadata": {},
   "source": [
    "## Cell with most reads"
   ]
  },
  {
   "cell_type": "code",
   "execution_count": 12,
   "metadata": {
    "run_control": {
     "frozen": false,
     "read_only": false
    }
   },
   "outputs": [
    {
     "data": {
      "text/plain": [
       "94"
      ]
     },
     "execution_count": 12,
     "metadata": {},
     "output_type": "execute_result"
    }
   ],
   "source": [
    "data.groupby(['CB']).apply(lambda x: len(x)).max()"
   ]
  },
  {
   "cell_type": "markdown",
   "metadata": {},
   "source": [
    "## perfect molecule barcodes"
   ]
  },
  {
   "cell_type": "code",
   "execution_count": 13,
   "metadata": {
    "run_control": {
     "frozen": false,
     "read_only": false
    }
   },
   "outputs": [],
   "source": [
    "results_scalar['perfect_molecule_barcodes'] = 0\n",
    "for c, r in zip(data['UB'], data['UR']):\n",
    "    if c == r:\n",
    "        results_scalar['perfect_molecule_barcodes'] += 1"
   ]
  },
  {
   "cell_type": "code",
   "execution_count": 14,
   "metadata": {
    "run_control": {
     "frozen": false,
     "read_only": false
    }
   },
   "outputs": [
    {
     "data": {
      "text/plain": [
       "655"
      ]
     },
     "execution_count": 14,
     "metadata": {},
     "output_type": "execute_result"
    }
   ],
   "source": [
    "results_scalar['perfect_molecule_barcodes']"
   ]
  },
  {
   "cell_type": "markdown",
   "metadata": {},
   "source": [
    "Calculate the alignment metrics"
   ]
  },
  {
   "cell_type": "code",
   "execution_count": 16,
   "metadata": {
    "run_control": {
     "frozen": false,
     "read_only": false
    }
   },
   "outputs": [],
   "source": [
    "results_scalar['reads_mapped_exonic'] = sum(data['XF'] == 'CODING')"
   ]
  },
  {
   "cell_type": "code",
   "execution_count": 17,
   "metadata": {
    "run_control": {
     "frozen": false,
     "read_only": false
    }
   },
   "outputs": [],
   "source": [
    "results_scalar['reads_mapped_intronic'] = sum(data['XF'] == 'INTRONIC')"
   ]
  },
  {
   "cell_type": "code",
   "execution_count": 18,
   "metadata": {
    "run_control": {
     "frozen": false,
     "read_only": false
    }
   },
   "outputs": [],
   "source": [
    "results_scalar['reads_mapped_utr'] = sum(data['XF'] == 'UTR')"
   ]
  },
  {
   "cell_type": "code",
   "execution_count": 19,
   "metadata": {
    "run_control": {
     "frozen": false,
     "read_only": false
    }
   },
   "outputs": [],
   "source": [
    "results_scalar['reads_mapped_uniquely'] = sum(data['NH'] == 1)"
   ]
  },
  {
   "cell_type": "code",
   "execution_count": 20,
   "metadata": {
    "run_control": {
     "frozen": false,
     "read_only": false
    }
   },
   "outputs": [],
   "source": [
    "results_scalar['duplicate_reads'] = sum((data['flag'] & 1024).astype(bool))"
   ]
  },
  {
   "cell_type": "code",
   "execution_count": 21,
   "metadata": {
    "run_control": {
     "frozen": false,
     "read_only": false
    }
   },
   "outputs": [],
   "source": [
    "results_scalar['spliced_reads'] = sum(1 for v in data['cigar'] if 'N' in v)"
   ]
  },
  {
   "cell_type": "code",
   "execution_count": 22,
   "metadata": {
    "run_control": {
     "frozen": false,
     "read_only": false
    }
   },
   "outputs": [
    {
     "data": {
      "text/plain": [
       "{'duplicate_reads': 107,\n",
       " 'most_abundant': 'MTATP6P1',\n",
       " 'most_abundant_gene_n_observations': 300,\n",
       " 'n_fragments': 499,\n",
       " 'n_genes': 11,\n",
       " 'n_molecules': 249,\n",
       " 'n_reads': 656,\n",
       " 'perfect_molecule_barcodes': 655,\n",
       " 'reads_mapped_exonic': 609,\n",
       " 'reads_mapped_intronic': 28,\n",
       " 'reads_mapped_uniquely': 656,\n",
       " 'reads_mapped_utr': 19,\n",
       " 'spliced_reads': 2}"
      ]
     },
     "execution_count": 22,
     "metadata": {},
     "output_type": "execute_result"
    }
   ],
   "source": [
    "results_scalar"
   ]
  },
  {
   "cell_type": "markdown",
   "metadata": {},
   "source": [
    "Calculate the higher-order metrics"
   ]
  },
  {
   "cell_type": "code",
   "execution_count": 23,
   "metadata": {
    "run_control": {
     "frozen": false,
     "read_only": false
    }
   },
   "outputs": [],
   "source": [
    "calc_func_fraction_from_acii = lambda x: sum(1 for c in x if ord(c) > 63) / len(x)\n",
    "calc_func_fraction = lambda x: sum(1 for c in x if c > 30) / len(x)\n",
    "calc_func_mean = lambda x: np.mean([c for c in x])\n",
    "\n",
    "data['num_UY_qual_fraction'] = data['UY'].apply(calc_func_fraction_from_acii)\n",
    "\n",
    "data['num_base_qual_fraction'] = data['mapq'].apply(calc_func_fraction)\n",
    "data['num_base_qual_mean'] = data['mapq'].apply(calc_func_mean)\n",
    "\n",
    "grouped_by_cell = data.groupby(['CB'])"
   ]
  },
  {
   "cell_type": "code",
   "execution_count": 24,
   "metadata": {
    "run_control": {
     "frozen": false,
     "read_only": false
    }
   },
   "outputs": [],
   "source": [
    "results_series = {}"
   ]
  },
  {
   "cell_type": "code",
   "execution_count": 25,
   "metadata": {
    "run_control": {
     "frozen": false,
     "read_only": false
    }
   },
   "outputs": [],
   "source": [
    "# vector values\n",
    "# I changed these to retain the index to make merging into a dataframe easier, and guarantee same order. \n",
    "results_series['molecule_barcode_fraction_bases_above_30_mean'] = grouped_by_cell.mean()['num_UY_qual_fraction']\n",
    "results_series['molecule_barcode_fraction_bases_above_30_variance'] = grouped_by_cell.var()['num_UY_qual_fraction']\n",
    "\n",
    "results_series['genomic_reads_fraction_bases_quality_above_30_mean'] = grouped_by_cell.mean()['num_base_qual_fraction']\n",
    "results_series['genomic_reads_fraction_bases_quality_above_30_variance'] = grouped_by_cell.var()['num_base_qual_fraction']\n",
    "results_series['genomic_read_quality_mean'] = grouped_by_cell.mean()['num_base_qual_mean']\n",
    "results_series['genomic_read_quality_variance'] = grouped_by_cell.var()['num_base_qual_mean']\n",
    "\n",
    "reads_per_cell = data.groupby(['CB']).size()"
   ]
  },
  {
   "cell_type": "code",
   "execution_count": 64,
   "metadata": {},
   "outputs": [
    {
     "data": {
      "text/plain": [
       "AS                                                                       96\n",
       "CB                                                         AAACCTGAGAAACCTA\n",
       "CR                                                         AAACCTGAGAAACCTA\n",
       "CY                                                         AAFFFJJJJJJJJJJJ\n",
       "GE                                                                      NaN\n",
       "GS                                                                      NaN\n",
       "HI                                                                        1\n",
       "MD                                                                       98\n",
       "NH                                                                        1\n",
       "NM                                                                        0\n",
       "RG                                                                        A\n",
       "SR                                                                 GTAATTGC\n",
       "SY                                                                 AAAFFJ<J\n",
       "UB                                                               TCTTTGTTGG\n",
       "UR                                                               TCTTTGTTGG\n",
       "UY                                                               JJJJJJJJJJ\n",
       "XF                                                                   CODING\n",
       "cigar                                                                   98M\n",
       "flag                                                                     16\n",
       "jI                                                                     [-1]\n",
       "jM                                                                     [-1]\n",
       "mapq                      [27, 32, 27, 8, 37, 32, 27, 32, 41, 41, 37, 32...\n",
       "nM                                                                        0\n",
       "pnext                                                                    -1\n",
       "position                                                             963726\n",
       "qname                            ST-K00126:314:HFYL2BBXX:8:2212:10998:44359\n",
       "quality                   <A<)FA<AJJFA-FJJFJF<-7-)JA-7JA<7A77--7-77<A<-A...\n",
       "reference                                                                 0\n",
       "rnext                                                                    -1\n",
       "sequence                  GTGGGTGTGCACCCAGGGTTGTTCAGGCAGCCAGGGTCCTGTGCCC...\n",
       "tlen                                                                      0\n",
       "num_UY_qual_fraction                                                      1\n",
       "num_base_qual_fraction                                                  0.5\n",
       "num_base_qual_mean                                                  27.7755\n",
       "strand                                                                   16\n",
       "Name: 3, dtype: object"
      ]
     },
     "execution_count": 64,
     "metadata": {},
     "output_type": "execute_result"
    }
   ],
   "source": [
    "data.iloc[3, :]"
   ]
  },
  {
   "cell_type": "code",
   "execution_count": 65,
   "metadata": {},
   "outputs": [
    {
     "data": {
      "text/plain": [
       "(array([3]),)"
      ]
     },
     "execution_count": 65,
     "metadata": {},
     "output_type": "execute_result"
    }
   ],
   "source": [
    "np.where(data['CB'] == 'AAACCTGAGAAACCTA')"
   ]
  },
  {
   "cell_type": "code",
   "execution_count": 66,
   "metadata": {
    "run_control": {
     "frozen": false,
     "read_only": false
    }
   },
   "outputs": [],
   "source": [
    "# molecules_per_cell = grouped_by_cell.apply(lambda x: len(x.groupby(['UB', 'GE']).size()))\n",
    "molecules_per_cell = data.groupby(['CB', 'GE', 'UB']).size().groupby(['CB']).size()  # does not work well for NaN genes\n",
    "# fragments_per_cell = grouped_by_cell.apply(lambda x: len(x.groupby(['UB', 'GE', 'position', 'reference', 'strand']).size()))\n",
    "fragments_per_cell = data.groupby(['CB', 'UB', 'position', 'reference', 'strand']).size().groupby(['CB']).size()\n",
    "reads_per_molecule = reads_per_cell / molecules_per_cell\n",
    "reads_per_fragment = reads_per_cell / fragments_per_cell\n",
    "fragments_per_molecule = fragments_per_cell / molecules_per_cell\n",
    "results_series['reads_per_molecule'] = reads_per_molecule\n",
    "results_series['reads_per_fragment'] = reads_per_fragment\n",
    "results_series['fragments_per_molecule'] = fragments_per_molecule\n",
    "\n",
    "# scalar values\n",
    "results_scalar['fragments_with_single_read_evidence'] = np.sum(data.groupby(['CB', 'UB', 'GE', 'position']).size() == 1)\n",
    "results_scalar['molecules_with_single_read_evidence'] = np.sum(data.groupby(['CB', 'UB', 'GE']).size() == 1)"
   ]
  },
  {
   "cell_type": "code",
   "execution_count": 34,
   "metadata": {
    "run_control": {
     "frozen": false,
     "read_only": false
    }
   },
   "outputs": [
    {
     "name": "stdout",
     "output_type": "stream",
     "text": [
      "molecule_barcode_fraction_bases_above_30_mean 58\n",
      "molecule_barcode_fraction_bases_above_30_variance 58\n",
      "genomic_reads_fraction_bases_quality_above_30_mean 58\n",
      "genomic_reads_fraction_bases_quality_above_30_variance 58\n",
      "genomic_read_quality_mean 58\n",
      "genomic_read_quality_variance 58\n",
      "reads_per_molecule 58\n",
      "reads_per_fragment 58\n",
      "fragments_per_molecule 58\n"
     ]
    }
   ],
   "source": [
    "for k, v in results_series.items():\n",
    "    print(k, len(v))"
   ]
  },
  {
   "cell_type": "code",
   "execution_count": 68,
   "metadata": {
    "run_control": {
     "frozen": false,
     "read_only": false
    }
   },
   "outputs": [
    {
     "name": "stdout",
     "output_type": "stream",
     "text": [
      "molecule_barcode_fraction_bases_above_30_mean np.array([1.0000, 0.9500, 1.0000, 1.0000, 0.9778, 1.0000, 1.0000, 1.0000, 0.9833, 1.0000, 1.0000, 1.0000, 1.0000, 1.0000, 0.9759, 1.0000, 1.0000, 0.9830, 1.0000, 1.0000, 1.0000, 0.9778, 0.9783, 1.0000, 0.9800, 1.0000, 1.0000, 1.0000, 1.0000, 0.9500, 1.0000, 0.9895, 1.0000, 0.9760, 1.0000, 1.0000, 1.0000, 0.9889, 1.0000, 0.9600, 1.0000, 0.9909, 1.0000, 1.0000, 0.9556, 0.9800, 1.0000, 0.9000, 1.0000, 0.9588, 1.0000, 1.0000, 0.9889, 0.8000, 0.9538, 0.9909, 0.9929, 0.9571])\n",
      "molecule_barcode_fraction_bases_above_30_variance np.array([np.nan, 0.0050, np.nan, np.nan, 0.0019, 0.0000, 0.0000, np.nan, 0.0015, np.nan, 0.0000, 0.0000, np.nan, 0.0000, 0.0048, 0.0000, 0.0000, 0.0029, 0.0000, np.nan, 0.0000, 0.0044, 0.0109, 0.0000, 0.0020, 0.0000, 0.0000, np.nan, 0.0000, 0.0100, np.nan, 0.0010, 0.0000, 0.0052, 0.0000, 0.0000, 0.0000, 0.0011, 0.0000, 0.0162, 0.0000, 0.0016, 0.0000, np.nan, 0.0178, 0.0020, np.nan, np.nan, 0.0000, 0.0163, np.nan, np.nan, 0.0011, np.nan, 0.0147, 0.0018, 0.0007, 0.0306])\n",
      "genomic_reads_fraction_bases_quality_above_30_mean np.array([0.3980, 0.6786, 0.5000, 0.9796, 0.7800, 0.7811, 0.9337, 0.8469, 0.6743, 0.4565, 0.8622, 0.9762, 0.4925, 0.7857, 0.7478, 0.8561, 0.6327, 0.7948, 0.8405, 0.4286, 0.7735, 0.6445, 0.7291, 0.8520, 0.6711, 0.6123, 0.8238, 0.5000, 0.8376, 0.5137, 0.7526, 0.7584, 0.7574, 0.8379, 0.8490, 0.5000, 0.5983, 0.7489, 0.7755, 0.8107, 0.6963, 0.8363, 0.8896, 0.6186, 0.7549, 0.7151, 1.0000, 0.5306, 0.8347, 0.7340, 0.8367, 0.8878, 0.7347, 0.4592, 0.7718, 0.7583, 0.8439, 0.7576])\n",
      "genomic_reads_fraction_bases_quality_above_30_variance np.array([np.nan, 0.1812, np.nan, np.nan, 0.0266, 0.0461, 0.0042, np.nan, 0.0387, np.nan, 0.0178, 0.0000, np.nan, 0.0002, 0.0455, 0.0342, 0.0588, 0.0359, 0.0247, np.nan, 0.0400, 0.0436, 0.0754, 0.0005, 0.1140, 0.0617, 0.0400, np.nan, 0.0230, 0.0491, np.nan, 0.0608, 0.0556, 0.0367, 0.0215, 0.0860, 0.2182, 0.0564, 0.0008, 0.0395, 0.0330, 0.0433, 0.0063, np.nan, 0.0366, 0.0778, np.nan, np.nan, 0.0114, 0.0391, np.nan, np.nan, 0.0193, np.nan, 0.0288, 0.0444, 0.0311, 0.0558])\n",
      "genomic_read_quality_mean np.array([25.3776, 32.5051, 27.7755, 39.9184, 34.3639, 34.5969, 37.4592, 35.9490, 31.6345, 26.5870, 36.7500, 39.5374, 28.0896, 33.7041, 33.6079, 36.2787, 30.8472, 34.8402, 35.9327, 24.7755, 34.3603, 31.0934, 33.2880, 36.7092, 31.9647, 30.2158, 35.3956, 27.6837, 35.8674, 27.4527, 34.3918, 33.7323, 33.6425, 35.9552, 35.5694, 27.4184, 30.0479, 33.4621, 34.6633, 35.2128, 32.4619, 35.7690, 36.9963, 30.0722, 33.6353, 32.6708, 39.8721, 28.0510, 35.9388, 33.1278, 35.8265, 36.6633, 32.7188, 26.6429, 34.1053, 34.0012, 36.0956, 33.7704])\n",
      "genomic_read_quality_variance np.array([np.nan, 92.5078, np.nan, np.nan, 18.9818, 29.9521, 6.6724, np.nan, 25.4164, np.nan, 12.8541, 0.3790, np.nan, 0.0019, 28.7815, 24.6669, 37.7402, 22.8765, 16.5399, np.nan, 22.9679, 26.2414, 44.8249, 0.5740, 70.4607, 42.5318, 24.9536, np.nan, 14.0772, 32.6389, np.nan, 38.1213, 34.4094, 23.2517, 13.9110, 48.9622, 117.2337, 32.9814, 0.3850, 24.3135, 17.8765, 26.5847, 5.2099, np.nan, 22.5846, 48.2133, np.nan, np.nan, 5.6775, 23.9395, np.nan, np.nan, 12.9322, np.nan, 18.1475, 29.6960, 20.7504, 34.9055])\n",
      "reads_per_molecule np.array([1.0000, 2.0000, np.nan, 1.0000, 9.0000, 2.4000, 2.0000, 1.0000, 3.0000, 1.0000, 3.0000, 3.0000, 1.0000, np.nan, 2.4167, 4.3333, 1.2222, 5.8750, 1.3333, 1.0000, 1.2000, 1.5000, 4.6000, 2.0000, 2.5000, 1.2000, 2.1429, 1.0000, 2.6364, 4.0000, 1.0000, 2.1111, 1.7273, 6.2500, 5.0000, 1.3333, 2.0000, 2.2500, np.nan, 2.0000, 4.3333, 3.9286, 2.2000, 1.0000, 1.5000, 1.6667, np.nan, 1.0000, 1.6667, 1.8889, 1.0000, 1.0000, 2.2500, 1.0000, 9.7500, 11.0000, 4.0000, 1.5000])\n",
      "reads_per_fragment np.array([1.0000, 1.0000, 1.0000, 1.0000, 1.1250, 1.3333, 2.0000, 1.0000, 1.2000, 1.0000, 1.2000, 3.0000, 1.0000, 2.0000, 1.3182, 1.4444, 1.1000, 1.4688, 1.1429, 1.0000, 1.2000, 1.2857, 1.5333, 2.0000, 1.2500, 1.0000, 1.1538, 1.0000, 1.3182, 1.0000, 1.0000, 1.4615, 1.3571, 1.3158, 1.2500, 1.3333, 1.0000, 1.1250, 1.0000, 1.1765, 1.0833, 1.4103, 1.1000, 1.0000, 1.2857, 1.2500, 1.0000, 1.0000, 1.2500, 1.3077, 1.0000, 1.0000, 1.2857, 1.0000, 1.3929, 1.5714, 1.4737, 1.1053])\n",
      "fragments_per_molecule np.array([1.0000, 2.0000, np.nan, 1.0000, 8.0000, 1.8000, 1.0000, 1.0000, 2.5000, 1.0000, 2.5000, 1.0000, 1.0000, np.nan, 1.8333, 3.0000, 1.1111, 4.0000, 1.1667, 1.0000, 1.0000, 1.1667, 3.0000, 1.0000, 2.0000, 1.2000, 1.8571, 1.0000, 2.0000, 4.0000, 1.0000, 1.4444, 1.2727, 4.7500, 4.0000, 1.0000, 2.0000, 2.0000, np.nan, 1.7000, 4.0000, 2.7857, 2.0000, 1.0000, 1.1667, 1.3333, np.nan, 1.0000, 1.3333, 1.4444, 1.0000, 1.0000, 1.7500, 1.0000, 7.0000, 7.0000, 2.7143, 1.3571])\n"
     ]
    }
   ],
   "source": [
    "# write out the array information for the testing file\n",
    "for k, vals in results_series.items():\n",
    "    print(k, ('np.array([' + ', '.join('{:.4f}'.format(i) for i in np.array(vals)) + '])').replace('nan', 'np.nan'))"
   ]
  },
  {
   "cell_type": "markdown",
   "metadata": {},
   "source": [
    "# Write Results to File for Automated Testing"
   ]
  },
  {
   "cell_type": "code",
   "execution_count": 20,
   "metadata": {
    "run_control": {
     "frozen": false,
     "read_only": false
    }
   },
   "outputs": [],
   "source": [
    "pd.Series(results_scalar).to_csv('%s_testing_knowledge_scalar.csv' % input_sam_file.replace('.bam', ''))\n",
    "pd.DataFrame(results_series).to_csv('%s_testing_knowledge_series.csv' % input_sam_file.replace('.bam', ''))"
   ]
  },
  {
   "cell_type": "code",
   "execution_count": 21,
   "metadata": {
    "run_control": {
     "frozen": false,
     "read_only": false
    }
   },
   "outputs": [
    {
     "data": {
      "text/plain": [
       "True"
      ]
     },
     "execution_count": 21,
     "metadata": {},
     "output_type": "execute_result"
    }
   ],
   "source": [
    "# do a comparison of the whole 2d dataframe at once\n",
    "np.allclose(\n",
    "    pd.DataFrame(results_series).fillna(0).values,  # fill nans with zero, call values to get the numpy array the dataframe is based on\n",
    "    pd.read_csv('data/small-cell-sorted_testing_knowledge_series.csv', index_col=0, header=0).fillna(0).values\n",
    ")"
   ]
  },
  {
   "cell_type": "code",
   "execution_count": 22,
   "metadata": {
    "run_control": {
     "frozen": false,
     "read_only": false
    }
   },
   "outputs": [],
   "source": [
    "# to get most_abundant alone: "
   ]
  },
  {
   "cell_type": "code",
   "execution_count": 23,
   "metadata": {
    "run_control": {
     "frozen": false,
     "read_only": false
    }
   },
   "outputs": [
    {
     "data": {
      "text/plain": [
       "True"
      ]
     },
     "execution_count": 23,
     "metadata": {},
     "output_type": "execute_result"
    }
   ],
   "source": [
    "test_read_scalar = pd.read_csv('data/small-cell-sorted_testing_knowledge_scalar.csv', index_col=0, header=None, squeeze=True)\n",
    "\n",
    "# extract this, we're going to drop it from the array to do some conversion to numeric\n",
    "most_abundant = test_read_scalar['most_abundant'] \n",
    "\n",
    "# drop most abundant, convert to float, fill any NaN values with 0, and call .values to get the numpy array pandas objects are based on.\n",
    "for_comparison = test_read_scalar.drop('most_abundant').astype(float).fillna(0).values\n",
    "\n",
    "\n",
    "# note, have to drop the string value and convert to float before this works. \n",
    "np.allclose(\n",
    "    pd.Series(results_scalar).drop('most_abundant').fillna(0).values,  # do the same thing as above to the one in memory\n",
    "    for_comparison\n",
    ")"
   ]
  },
  {
   "cell_type": "code",
   "execution_count": 24,
   "metadata": {
    "run_control": {
     "frozen": false,
     "read_only": false
    }
   },
   "outputs": [
    {
     "data": {
      "text/plain": [
       "GE\n",
       "AL669831.4    37.224490\n",
       "HES4          35.075530\n",
       "ISG15         34.168856\n",
       "LINC01128     38.860544\n",
       "MTATP6P1      34.303717\n",
       "MTCO1P12      33.778981\n",
       "MTCO2P12      21.693878\n",
       "MTCO3P12      23.470588\n",
       "MTND1P23      25.352108\n",
       "MTND2P28      32.604748\n",
       "NOC2L         35.581504\n",
       "Name: genomic_read_quality_mean, dtype: float64"
      ]
     },
     "execution_count": 24,
     "metadata": {},
     "output_type": "execute_result"
    }
   ],
   "source": [
    "# get a metric from a dataframe: \n",
    "df = pd.DataFrame(results_series)\n",
    "df['genomic_read_quality_mean']"
   ]
  },
  {
   "cell_type": "code",
   "execution_count": 25,
   "metadata": {
    "run_control": {
     "frozen": false,
     "read_only": false
    }
   },
   "outputs": [],
   "source": [
    "# get a numpy array from the dataframe\n",
    "compare_me = df['genomic_read_quality_mean'].values"
   ]
  },
  {
   "cell_type": "code",
   "execution_count": 27,
   "metadata": {
    "run_control": {
     "frozen": false,
     "read_only": false
    }
   },
   "outputs": [
    {
     "data": {
      "text/plain": [
       "True"
      ]
     },
     "execution_count": 27,
     "metadata": {},
     "output_type": "execute_result"
    }
   ],
   "source": [
    "# compare two numpy arrays that are slightly different\n",
    "eps = np.random.rand(11) * 1e-8\n",
    "np.allclose(compare_me, compare_me + eps)\n"
   ]
  },
  {
   "cell_type": "code",
   "execution_count": 29,
   "metadata": {
    "run_control": {
     "frozen": false,
     "read_only": false
    }
   },
   "outputs": [
    {
     "data": {
      "text/plain": [
       "False"
      ]
     },
     "execution_count": 29,
     "metadata": {},
     "output_type": "execute_result"
    }
   ],
   "source": [
    "# it is actually discriminative, though\n",
    "np.allclose(compare_me, np.arange(11))"
   ]
  },
  {
   "cell_type": "markdown",
   "metadata": {},
   "source": [
    "# Look at the metrics output"
   ]
  },
  {
   "cell_type": "code",
   "execution_count": 50,
   "metadata": {
    "run_control": {
     "frozen": false,
     "read_only": false
    }
   },
   "outputs": [],
   "source": [
    "cell_metrics = pd.read_csv('data/cell_metrics.csv', index_col=0)"
   ]
  },
  {
   "cell_type": "code",
   "execution_count": 51,
   "metadata": {
    "run_control": {
     "frozen": false,
     "read_only": false
    }
   },
   "outputs": [
    {
     "data": {
      "text/plain": [
       "AAAACCTGGTAGAAGG    1\n",
       "AAACACGTGTCTGGAG    1\n",
       "AAACCTGAGAAACCTA    1\n",
       "AAACCTGAGATGTGTA    1\n",
       "AAACCTGAGCACATCT    1\n",
       "AAACCTGAGCATCATC    1\n",
       "AAACCTGAGCTAACTC    1\n",
       "AAACCTGAGCTAGCCC    1\n",
       "AAACCTGAGCTAGTGG    1\n",
       "AAACCTGAGGCCCGTT    1\n",
       "AAACCTGCACATTAGC    1\n",
       "AAACCTGCACTGTTAG    1\n",
       "AAACCTGCAGACGCCT    1\n",
       "AAACCTGCAGGCTCAC    1\n",
       "AAACCTGCATAGTAAG    1\n",
       "AAACCTGCATGAACCT    1\n",
       "AAACCTGGTAAGAGGA    1\n",
       "AAACCTGGTAGAAGGA    1\n",
       "AAACCTGGTCCAGTGC    1\n",
       "AAACCTGGTCGTTGTA    1\n",
       "AAACCTGGTGTCTGAT    1\n",
       "AAACCTGGTTTGCATG    1\n",
       "AAACCTGGTTTGTTTC    1\n",
       "AAACCTGTCACGATGT    1\n",
       "AAACCTGTCCGTTGCT    1\n",
       "AAACCTGTCCTGTAGA    1\n",
       "AAACCTGTCGCCAAAT    1\n",
       "AAACCTGTCGCGATCG    1\n",
       "AAACCTGTCGTGGACC    1\n",
       "AAACCTGTCTACCAGA    1\n",
       "AAACCTGTCTACGAGT    1\n",
       "AAACCTGTCTCAAGTG    1\n",
       "AAACCTGTCTCGCTTG    1\n",
       "AAACCTGTCTGCGGCA    1\n",
       "AAACCTGTCTTCAACT    1\n",
       "AAACCTGTCTTCGAGA    1\n",
       "AAACGCCAGGCAGTAG    1\n",
       "AAACGGGAGACTCGGA    1\n",
       "AAACGGGAGAGTAAGG    1\n",
       "AAACGGGAGCCTCGTG    1\n",
       "AAACGGGAGGTGTGGT    1\n",
       "AAACGGGAGTACGATA    1\n",
       "AAACGGGCAAGTAGTA    1\n",
       "AAACGGGCAATAGCGG    1\n",
       "AAACGGGCACGAAACG    1\n",
       "AAACGGGCAGTAAGAT    1\n",
       "AAACGGGCATTCTCAT    1\n",
       "AAACGGGCGATCTAAA    1\n",
       "AAACGGGGTACAGTTC    1\n",
       "AAACGGGGTACCCAAT    1\n",
       "AAACGGGGTACCGCTG    1\n",
       "AAACGGGGTACTCAAC    1\n",
       "AAACGGGGTAGCTTGT    1\n",
       "AAACGGGGTGCGAAAC    1\n",
       "AAACGGGGTGCGCTTG    1\n",
       "AAACGGGTCAGGATCT    1\n",
       "AAACGGGTCCAAAGTC    1\n",
       "AAACGGGTCCCTCAGT    1\n",
       "Name: n_genes, dtype: int64"
      ]
     },
     "execution_count": 51,
     "metadata": {},
     "output_type": "execute_result"
    }
   ],
   "source": [
    "cell_metrics['n_genes']"
   ]
  },
  {
   "cell_type": "code",
   "execution_count": 52,
   "metadata": {
    "run_control": {
     "frozen": false,
     "read_only": false
    },
    "scrolled": true
   },
   "outputs": [
    {
     "name": "stdout",
     "output_type": "stream",
     "text": [
      ",n_reads,noise_reads,perfect_molecule_barcodes,reads_mapped_exonic,reads_mapped_intronic,reads_mapped_utr,reads_mapped_uniquely,reads_mapped_multiple,duplicate_reads,spliced_reads,antisense_reads,molecule_barcode_fraction_bases_above_30_mean,molecule_barcode_fraction_bases_above_30_variance,genomic_reads_fraction_bases_quality_above_30_mean,genomic_reads_fraction_bases_quality_above_30_variance,genomic_read_quality_mean,genomic_read_quality_variance,n_molecules,n_fragments,reads_per_molecule,reads_per_fragment,fragments_per_molecule,fragments_with_single_read_evidence,molecules_with_single_read_evidence,perfect_cell_barcodes,reads_mapped_intergenic,reads_unmapped,reads_mapped_too_many_loci,cell_barcode_fraction_bases_above_30_variance,cell_barcode_fraction_bases_above_30_mean,n_genes,genes_detected_multiple_observations\r\n",
      "AAAACCTGGTAGAAGG,1,0,1,1,0,0,1,0,0,0,0,1.0,nan,0.3979591836734694,nan,25.377551020408163,nan,1,1,1.0,1.0,1.0,1,1,1,0,0,0,nan,1.0,1,0\r\n",
      "AAACACGTGTCTGGAG,2,0,2,2,0,0,2,0,0,0,0,0.95,0.005000000000000004,0.6785714285714286,0.18122657226155764,32.505102040816325,92.5077571845065,1,2,2.0,1.0,2.0,2,0,2,0,0,0,0.0078125,0.9375,1,1\r\n",
      "AAACCTGAGAAACCTA,1,0,1,1,0,0,1,0,0,0,0,1.0,nan,0.5,nan,27.775510204081634,nan,1,1,1.0,1.0,1.0,1,1,1,0,0,0,nan,1.0,1,0\r\n",
      "AAACCTGAGATGTGTA,1,0,1,1,0,0,1,0,0,0,0,1.0,nan,0.9795918367346939,nan,39.91836734693877,nan,1,1,1.0,1.0,1.0,1,1,1,0,0,0,nan,1.0,1,0\r\n",
      "AAACCTGAGCACATCT,9,0,9,9,0,0,9,0,0,0,0,0.9777777777777779,0.0019444444444444453,0.780045351473923,0.026580360035170544,34.36394557823129,18.98180445647645,1,8,9.0,1.125,8.0,7,0,9,0,0,0,0.0007595486111111113,0.9861111111111112,1,1\r\n",
      "AAACCTGAGCATCATC,12,0,12,12,0,0,12,0,2,0,0,1.0,0.0,0.7810955961331902,0.046143566261476504,34.5968671679198,29.95207854159092,5,9,2.4,1.3333333333333333,1.8,7,2,12,0,0,0,0.0031664299242424253,0.9739583333333334,1,1\r\n",
      "AAACCTGAGCTAACTC,2,0,2,2,0,0,2,0,0,0,0,1.0,0.0,0.9336734693877551,0.0042169929196168255,37.45918367346938,6.672428154935459,1,1,2.0,2.0,1.0,0,0,2,0,0,0,0.0,1.0,1,1\r\n",
      "AAACCTGAGCTAGCCC,1,0,1,1,0,0,1,0,0,0,0,1.0,nan,0.8469387755102041,nan,35.94897959183673,nan,1,1,1.0,1.0,1.0,1,1,1,0,0,0,nan,1.0,1,0\r\n",
      "AAACCTGAGCTAGTGG,12,0,12,12,0,0,12,0,2,1,0,0.9833333333333333,0.0015151515151515165,0.6743185282794615,0.03868797833323299,31.634485145116106,25.4164211433668,5,10,2.4,1.2,2.0,8,3,12,0,0,0,0.0015092329545454543,0.984375,1,1\r\n",
      "AAACCTGAGGCCCGTT,1,0,1,1,0,0,1,0,0,0,0,1.0,nan,0.45652173913043476,nan,26.58695652173913,nan,1,1,1.0,1.0,1.0,1,1,1,0,0,0,nan,1.0,1,0\r\n",
      "AAACCTGCACATTAGC,6,0,6,6,0,0,6,0,1,0,0,1.0,0.0,0.8622448979591836,0.017773844231570166,36.75,12.854092044981257,2,5,3.0,1.2,2.5,4,1,6,0,0,0,0.0,1.0,1,1\r\n",
      "AAACCTGCACTGTTAG,3,0,3,3,0,0,3,0,2,0,0,1.0,0.0,0.9761904761904762,3.470776065528222e-05,39.53741496598639,0.37904345411633983,1,1,3.0,3.0,1.0,0,0,3,0,0,0,0.0,1.0,1,1\r\n",
      "AAACCTGCAGACGCCT,1,0,1,1,0,0,1,0,0,0,0,1.0,nan,0.4925373134328358,nan,28.08955223880597,nan,1,1,1.0,1.0,1.0,1,1,1,0,0,0,nan,1.0,1,0\r\n",
      "AAACCTGCAGGCTCAC,2,0,2,0,2,0,2,0,0,0,0,1.0,0.0,0.7857142857142857,0.0002082465639316956,33.704081632653065,0.0018742190753852739,1,1,2.0,2.0,1.0,0,0,2,0,0,0,0.0,1.0,1,1\r\n",
      "AAACCTGCATAGTAAG,29,0,29,29,0,0,29,0,3,0,0,0.9758620689655172,0.00475369458128079,0.7477774774400947,0.045525748712213224,33.60790028879128,28.78153648895409,12,22,2.4166666666666665,1.3181818181818181,1.8333333333333333,17,5,29,0,0,0,0.009929187192118227,0.9719827586206897,1,1\r\n",
      "AAACCTGCATGAACCT,13,0,13,5,8,0,13,0,2,0,0,1.0,0.0,0.8561126373626374,0.034241072680053185,36.278731684981686,24.66691401855911,4,9,3.25,1.4444444444444444,2.25,7,2,13,0,0,0,0.000300480769230769,0.9951923076923077,1,1\r\n",
      "AAACCTGGTAAGAGGA,11,0,11,11,0,0,11,0,0,0,0,1.0,0.0,0.6326722750559892,0.058833747388626664,30.847208921981085,37.74020501897818,10,10,1.1,1.1,1.0,9,9,11,0,0,0,0.0,1.0,1,1\r\n",
      "AAACCTGGTAGAAGGA,94,0,93,94,0,0,94,0,19,0,0,0.9829787234042554,0.002932967284374285,0.7948439000864427,0.03589160164679367,34.840206751014115,22.876478837139686,16,64,5.875,1.46875,4.0,40,4,93,0,0,0,0.0025147992450240218,0.9840425531914895,1,1\r\n",
      "AAACCTGGTCCAGTGC,8,0,8,8,0,0,8,0,0,0,0,1.0,0.0,0.8404815051020408,0.024698418709001472,35.9327168367347,16.539920006358958,6,7,1.3333333333333333,1.1428571428571428,1.1666666666666667,6,4,8,0,0,0,0.0004882812499999994,0.9921875,1,1\r\n",
      "AAACCTGGTCGTTGTA,1,0,1,1,0,0,1,0,0,0,0,1.0,nan,0.42857142857142855,nan,24.775510204081634,nan,1,1,1.0,1.0,1.0,1,1,1,0,0,0,nan,1.0,1,0\r\n",
      "AAACCTGGTGTCTGAT,6,0,6,6,0,0,6,0,1,0,0,1.0,0.0,0.7734764008696262,0.0399755259566612,34.36031629146504,22.96793635209772,5,5,1.2,1.2,1.0,4,4,6,0,0,0,0.0,1.0,1,1\r\n",
      "AAACCTGGTTTGCATG,9,0,9,9,0,0,9,0,2,0,0,0.9777777777777777,0.0044444444444444444,0.6444541403935488,0.04357188172844612,31.093385637754267,26.241411286514964,6,7,1.5,1.2857142857142858,1.1666666666666667,5,4,9,0,0,0,0.0017361111111111104,0.9861111111111112,1,1\r\n",
      "AAACCTGGTTTGTTTC,23,0,23,23,0,0,23,0,4,0,0,0.9782608695652174,0.010869565217391304,0.7291147353159102,0.07535857033647055,33.288015845065054,44.824878168783876,5,15,4.6,1.5333333333333334,3.0,9,4,23,0,0,0,0.009495429841897232,0.9619565217391305,1,1\r\n",
      "AAACCTGTCACGATGT,2,0,2,2,0,0,2,0,1,0,0,1.0,0.0,0.8520408163265306,0.0004685547688463117,36.70918367346939,0.5739795918367325,1,1,2.0,2.0,1.0,0,0,2,0,0,0,0.0,1.0,1,1\r\n",
      "AAACCTGTCCGTTGCT,5,0,5,5,0,0,5,0,1,0,0,0.98,0.0019999999999999987,0.6711221859877973,0.11399621506537458,31.96474112841013,70.4606561674612,2,4,2.5,1.25,2.0,3,1,5,0,0,0,0.04765625,0.8875,1,1\r\n",
      "AAACCTGTCCTGTAGA,6,0,6,5,1,0,6,0,0,0,0,1.0,0.0,0.6123098614758247,0.06168865265013718,30.21575139801048,42.53184643287483,6,6,1.0,1.0,1.0,6,6,6,0,0,0,0.0006510416666666667,0.9895833333333334,1,1\r\n",
      "AAACCTGTCGCCAAAT,15,0,15,14,1,0,15,0,1,0,0,1.0,0.0,0.8237779215033348,0.040006011505248976,35.39558165126812,24.953585934172597,8,13,1.875,1.1538461538461537,1.625,11,4,15,0,0,0,0.00026041666666666645,0.9958333333333333,1,1\r\n",
      "AAACCTGTCGCGATCG,1,0,1,1,0,0,1,0,0,0,0,1.0,nan,0.5,nan,27.683673469387756,nan,1,1,1.0,1.0,1.0,1,1,1,0,0,0,nan,1.0,1,0\r\n",
      "AAACCTGTCGTGGACC,29,0,29,29,0,0,29,0,5,0,0,1.0,0.0,0.8376000975102685,0.02298489284512236,35.86737637583769,14.07722333427841,11,22,2.6363636363636362,1.3181818181818181,2.0,17,7,29,0,0,0,0.0024149476600985216,0.9849137931034484,1,1\r\n",
      "AAACCTGTCTACCAGA,4,0,4,4,0,0,4,0,0,0,0,0.95,0.009999999999999992,0.5137018725015781,0.04908635241421342,27.45268777614138,32.63893685444358,1,4,4.0,1.0,4.0,4,0,4,0,0,0,0.0009765625,0.984375,1,1\r\n",
      "AAACCTGTCTACGAGT,1,0,1,1,0,0,1,0,0,0,0,1.0,nan,0.7525773195876289,nan,34.391752577319586,nan,1,1,1.0,1.0,1.0,1,1,1,0,0,0,nan,1.0,1,0\r\n",
      "AAACCTGTCTCAAGTG,19,0,19,19,0,0,19,0,5,0,0,0.9894736842105263,0.000994152046783626,0.758396359086228,0.06078263020064453,33.73225774303211,38.12128156734975,9,13,2.111111111111111,1.4615384615384615,1.4444444444444444,8,4,19,0,0,0,0.008703399122807017,0.9572368421052632,1,1\r\n",
      "AAACCTGTCTCGCTTG,19,0,19,19,0,0,19,0,3,0,0,1.0,0.0,0.7573564401497815,0.05559332536303404,33.64246503379253,34.40939614251352,11,14,1.7272727272727273,1.3571428571428572,1.2727272727272727,10,6,19,0,0,0,0.005139802631578947,0.9835526315789473,1,1\r\n",
      "AAACCTGTCTGCGGCA,25,0,25,24,1,0,25,0,5,0,0,0.976,0.0052333333333333355,0.8378820394137035,0.03673650526681262,35.95521828318956,23.251740768844602,5,19,5.0,1.3157894736842106,3.8,14,3,25,0,0,0,0.0007552083333333331,0.9925,1,1\r\n",
      "AAACCTGTCTTCAACT,5,0,5,5,0,0,5,0,1,0,0,1.0,0.0,0.8489795918367347,0.021522282382340684,35.56938775510204,13.91099541857559,1,4,5.0,1.25,4.0,3,0,5,0,0,0,0.0,1.0,1,1\r\n",
      "AAACCTGTCTTCGAGA,4,0,4,4,0,0,4,0,1,0,0,1.0,0.0,0.5,0.0860058309037901,27.418367346938773,48.96216854088575,3,3,1.3333333333333333,1.3333333333333333,1.0,2,2,4,0,0,0,0.0013020833333333322,0.96875,1,1\r\n",
      "AAACGCCAGGCAGTAG,2,0,2,2,0,0,2,0,0,0,0,1.0,0.0,0.5983063328424154,0.21815006691378858,30.047917104986325,117.23371054940493,1,2,2.0,1.0,2.0,2,0,2,0,0,0,0.001953125,0.96875,1,1\r\n",
      "AAACGGGAGACTCGGA,9,0,9,9,0,0,9,0,1,0,0,0.9888888888888889,0.0011111111111111111,0.7488898337112623,0.05642550668108324,33.46213624338624,32.98135816398437,4,8,2.25,1.125,2.0,7,2,9,0,0,0,0.0009765624999999997,0.9791666666666666,1,1\r\n",
      "AAACGGGAGAGTAAGG,2,0,2,0,2,0,2,0,0,0,0,1.0,0.0,0.7755102040816326,0.0008329862557267824,34.66326530612245,0.3850478967097038,1,2,2.0,1.0,2.0,2,0,2,0,0,0,0.0078125,0.9375,1,1\r\n",
      "AAACGGGAGCCTCGTG,20,0,20,20,0,0,20,0,1,0,0,0.9599999999999999,0.01621052631578948,0.8107142857142856,0.03945148951094938,35.212755102040816,24.313490815230477,10,17,2.0,1.1764705882352942,1.7,14,5,20,0,0,0,0.008429276315789476,0.9687500000000001,1,1\r\n",
      "AAACGGGAGGTGTGGT,13,0,13,4,9,0,13,0,2,0,0,1.0,0.0,0.6962808914208031,0.03304666996457502,32.46186214374727,17.87650006693551,4,12,3.25,1.0833333333333333,3.0,11,2,13,0,0,0,0.0005508814102564099,0.9903846153846154,1,1\r\n",
      "AAACGGGAGTACGATA,55,0,55,54,1,0,55,0,10,0,0,0.990909090909091,0.001582491582491584,0.8363233596958064,0.04325133859371937,35.768994735405535,26.584725943431604,15,39,3.6666666666666665,1.4102564102564104,2.6,27,6,55,0,0,0,0.0007023358585858584,0.9954545454545455,1,1\r\n",
      "AAACGGGCAAGTAGTA,11,0,11,11,0,0,11,0,1,0,0,1.0,0.0,0.8896103896103896,0.006326909242361137,36.996289424860855,5.209918215894891,5,10,2.2,1.1,2.0,9,2,11,0,0,0,0.00035511363636363643,0.9943181818181819,1,1\r\n",
      "AAACGGGCAATAGCGG,1,0,1,1,0,0,1,0,0,0,0,1.0,nan,0.6185567010309279,nan,30.072164948453608,nan,1,1,1.0,1.0,1.0,1,1,1,0,0,0,nan,1.0,1,0\r\n",
      "AAACGGGCACGAAACG,9,0,9,9,0,0,9,0,2,1,0,0.9555555555555555,0.01777777777777778,0.7548916473806018,0.03664884169184297,33.635306356219466,22.584606097545763,6,7,1.5,1.2857142857142858,1.1666666666666667,5,4,9,0,0,0,0.0007595486111111107,0.9861111111111112,1,1\r\n",
      "AAACGGGCAGTAAGAT,5,0,5,5,0,0,5,0,1,0,0,0.98,0.0020000000000000013,0.7150510204081634,0.07777651239067057,32.67079081632653,48.21334868609435,3,4,1.6666666666666667,1.25,1.3333333333333333,3,2,5,0,0,0,0.0031249999999999993,0.975,1,1\r\n",
      "AAACGGGCATTCTCAT,1,0,1,0,1,0,1,0,0,0,0,1.0,nan,1.0,nan,39.872093023255815,nan,1,1,1.0,1.0,1.0,1,1,1,0,0,0,nan,1.0,1,0\r\n",
      "AAACGGGCGATCTAAA,1,0,1,1,0,0,1,0,0,0,0,0.9,nan,0.53061224489"
     ]
    },
    {
     "data": {
      "text/html": []
     },
     "metadata": {},
     "output_type": "display_data"
    }
   ],
   "source": [
    "!cat data/cell_metrics.csv"
   ]
  },
  {
   "cell_type": "code",
   "execution_count": null,
   "metadata": {
    "run_control": {
     "frozen": false,
     "read_only": false
    }
   },
   "outputs": [],
   "source": []
  }
 ],
 "metadata": {
  "hide_input": false,
  "kernelspec": {
   "display_name": "Python 3",
   "language": "python",
   "name": "python3"
  },
  "language_info": {
   "codemirror_mode": {
    "name": "ipython",
    "version": 3
   },
   "file_extension": ".py",
   "mimetype": "text/x-python",
   "name": "python",
   "nbconvert_exporter": "python",
   "pygments_lexer": "ipython3",
   "version": "3.6.1"
  },
  "nav_menu": {},
  "toc": {
   "navigate_menu": true,
   "number_sections": true,
   "sideBar": true,
   "threshold": 6,
   "toc_cell": false,
   "toc_section_display": "block",
   "toc_window_display": false
  }
 },
 "nbformat": 4,
 "nbformat_minor": 2
}
