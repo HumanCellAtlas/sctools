{
 "cells": [
  {
   "cell_type": "markdown",
   "metadata": {
    "deletable": true,
    "editable": true
   },
   "source": [
    "# Load Testing Data"
   ]
  },
  {
   "cell_type": "code",
   "execution_count": 131,
   "metadata": {
    "collapsed": true,
    "deletable": true,
    "editable": true
   },
   "outputs": [],
   "source": [
    "import pandas as pd\n",
    "import numpy as np\n",
    "import os"
   ]
  },
  {
   "cell_type": "code",
   "execution_count": 85,
   "metadata": {
    "collapsed": true,
    "deletable": true,
    "editable": true
   },
   "outputs": [],
   "source": [
    "field_names = [\n",
    "    'qname', 'flag', 'reference', 'position', 'mapq', 'cigar', 'rnext', 'pnext', 'tlen', 'sequence', 'quality', \n",
    "    'CB', 'UB', 'MD', 'GE', 'XF', 'RG', 'NH', 'HI', 'jI', 'NM', 'jM', 'nM', 'CR', 'SR', 'UR', 'AS', 'GS', 'CY', 'SY', 'UY'\n",
    "]\n",
    "\n",
    "input_sam_file = 'data/small-gene-sorted.sam'  # note needs a sam file\n",
    "data = pd.read_table(input_sam_file, header=None)\n",
    "data.columns = field_names\n",
    "\n",
    "results = {}  # will hold the calculations we make"
   ]
  },
  {
   "cell_type": "code",
   "execution_count": 144,
   "metadata": {
    "collapsed": false
   },
   "outputs": [
    {
     "data": {
      "text/html": [
       "<div>\n",
       "<style scoped>\n",
       "    .dataframe tbody tr th:only-of-type {\n",
       "        vertical-align: middle;\n",
       "    }\n",
       "\n",
       "    .dataframe tbody tr th {\n",
       "        vertical-align: top;\n",
       "    }\n",
       "\n",
       "    .dataframe thead th {\n",
       "        text-align: right;\n",
       "    }\n",
       "</style>\n",
       "<table border=\"1\" class=\"dataframe\">\n",
       "  <thead>\n",
       "    <tr style=\"text-align: right;\">\n",
       "      <th></th>\n",
       "      <th>qname</th>\n",
       "      <th>flag</th>\n",
       "      <th>reference</th>\n",
       "      <th>position</th>\n",
       "      <th>mapq</th>\n",
       "      <th>cigar</th>\n",
       "      <th>rnext</th>\n",
       "      <th>pnext</th>\n",
       "      <th>tlen</th>\n",
       "      <th>sequence</th>\n",
       "      <th>...</th>\n",
       "      <th>jM</th>\n",
       "      <th>nM</th>\n",
       "      <th>CR</th>\n",
       "      <th>SR</th>\n",
       "      <th>UR</th>\n",
       "      <th>AS</th>\n",
       "      <th>GS</th>\n",
       "      <th>CY</th>\n",
       "      <th>SY</th>\n",
       "      <th>UY</th>\n",
       "    </tr>\n",
       "  </thead>\n",
       "  <tbody>\n",
       "    <tr>\n",
       "      <th>0</th>\n",
       "      <td>ST-K00126:314:HFYL2BBXX:7:1202:31680:24067</td>\n",
       "      <td>16</td>\n",
       "      <td>chr1</td>\n",
       "      <td>1007748</td>\n",
       "      <td>255</td>\n",
       "      <td>34M284597N64M</td>\n",
       "      <td>*</td>\n",
       "      <td>0</td>\n",
       "      <td>0</td>\n",
       "      <td>TTTTTTTTTTTTTTTTTTTTTTTTTTTTTTTTTGAGGAGCAGGCAG...</td>\n",
       "      <td>...</td>\n",
       "      <td>jM:B:c,0</td>\n",
       "      <td>nM:i:0</td>\n",
       "      <td>CR:Z:TCAGGATCAGTCTTCC</td>\n",
       "      <td>SR:Z:GTAATTGC</td>\n",
       "      <td>UR:Z:TCCTTTTAGT</td>\n",
       "      <td>AS:i:85</td>\n",
       "      <td>GS:Z:-</td>\n",
       "      <td>CY:Z:AAFFFJJJJJJJJJJJ</td>\n",
       "      <td>SY:Z:AAAFFJJJ</td>\n",
       "      <td>UY:Z:JJJJJJJJJJ</td>\n",
       "    </tr>\n",
       "    <tr>\n",
       "      <th>1</th>\n",
       "      <td>ST-K00126:314:HFYL2BBXX:7:2219:18203:21993</td>\n",
       "      <td>0</td>\n",
       "      <td>chr1</td>\n",
       "      <td>902541</td>\n",
       "      <td>255</td>\n",
       "      <td>25M145987N73M</td>\n",
       "      <td>*</td>\n",
       "      <td>0</td>\n",
       "      <td>0</td>\n",
       "      <td>TGGGAGGCCGAGGTGGGTGGATCACCTGAGTTCAGGAGTTCGAGAC...</td>\n",
       "      <td>...</td>\n",
       "      <td>jM:B:c,2</td>\n",
       "      <td>nM:i:3</td>\n",
       "      <td>CR:Z:ATGCGATGTCACAAGG</td>\n",
       "      <td>SR:Z:CACGAGAA</td>\n",
       "      <td>UR:Z:GTACGGGGTA</td>\n",
       "      <td>AS:i:88</td>\n",
       "      <td>GS:Z:+</td>\n",
       "      <td>CY:Z:AA&lt;FFJJJJJAJJJJF</td>\n",
       "      <td>SY:Z:AAAFFFFJ</td>\n",
       "      <td>UY:Z:JJJJJJJFFJ</td>\n",
       "    </tr>\n",
       "    <tr>\n",
       "      <th>2</th>\n",
       "      <td>ST-K00126:314:HFYL2BBXX:8:2106:1519:2721</td>\n",
       "      <td>16</td>\n",
       "      <td>chr1</td>\n",
       "      <td>91575</td>\n",
       "      <td>255</td>\n",
       "      <td>2S55M461N41M</td>\n",
       "      <td>*</td>\n",
       "      <td>0</td>\n",
       "      <td>0</td>\n",
       "      <td>GGTTCATCGGGAAAAGCTTTGGATCACAATTCCCAGTGCTGAAGAG...</td>\n",
       "      <td>...</td>\n",
       "      <td>jM:B:c,22</td>\n",
       "      <td>nM:i:2</td>\n",
       "      <td>CR:Z:AGAGTGGGTACCGCTG</td>\n",
       "      <td>SR:Z:AGTCGCTT</td>\n",
       "      <td>UR:Z:CTCGTGGTGC</td>\n",
       "      <td>AS:i:92</td>\n",
       "      <td>GS:Z:-</td>\n",
       "      <td>CY:Z:AAAAAFAJJJJJFJJA</td>\n",
       "      <td>SY:Z:AAAFAFAF</td>\n",
       "      <td>UY:Z:J7FFJJ&lt;FFF</td>\n",
       "    </tr>\n",
       "    <tr>\n",
       "      <th>3</th>\n",
       "      <td>ST-K00126:314:HFYL2BBXX:7:2121:8278:42319</td>\n",
       "      <td>16</td>\n",
       "      <td>chr1</td>\n",
       "      <td>142933</td>\n",
       "      <td>255</td>\n",
       "      <td>79M3374N17M2S</td>\n",
       "      <td>*</td>\n",
       "      <td>0</td>\n",
       "      <td>0</td>\n",
       "      <td>AAATCTTTTTGTACCTGAATAACATGTTGCCCAGTCAGTCTCTCTT...</td>\n",
       "      <td>...</td>\n",
       "      <td>jM:B:c,22</td>\n",
       "      <td>nM:i:0</td>\n",
       "      <td>CR:Z:GCGAGAACAGGGTATG</td>\n",
       "      <td>SR:Z:CACGAGAA</td>\n",
       "      <td>UR:Z:CTCCGAGGAA</td>\n",
       "      <td>AS:i:95</td>\n",
       "      <td>GS:Z:-</td>\n",
       "      <td>CY:Z:AAFFFJJJJJJJJJJJ</td>\n",
       "      <td>SY:Z:AAFFFJJJ</td>\n",
       "      <td>UY:Z:JJJJJJJJJJ</td>\n",
       "    </tr>\n",
       "    <tr>\n",
       "      <th>4</th>\n",
       "      <td>ST-K00126:314:HFYL2BBXX:7:1109:15097:44781</td>\n",
       "      <td>1040</td>\n",
       "      <td>chr1</td>\n",
       "      <td>142961</td>\n",
       "      <td>255</td>\n",
       "      <td>51M3374N47M</td>\n",
       "      <td>*</td>\n",
       "      <td>0</td>\n",
       "      <td>0</td>\n",
       "      <td>GCCCAGTCAGTCTCTCTTCCTGGATTCACAAGTCTTTCATGGTAGA...</td>\n",
       "      <td>...</td>\n",
       "      <td>jM:B:c,22</td>\n",
       "      <td>nM:i:0</td>\n",
       "      <td>CR:Z:TCAATCTTTCAGGACT</td>\n",
       "      <td>SR:Z:GTAATTGC</td>\n",
       "      <td>UR:Z:TGGCTTCAAT</td>\n",
       "      <td>AS:i:97</td>\n",
       "      <td>GS:Z:-</td>\n",
       "      <td>CY:Z:AAFFFAJJJJJJFJJJ</td>\n",
       "      <td>SY:Z:AAFFFJJJ</td>\n",
       "      <td>UY:Z:JJJJJJJJJJ</td>\n",
       "    </tr>\n",
       "    <tr>\n",
       "      <th>5</th>\n",
       "      <td>ST-K00126:314:HFYL2BBXX:7:2202:16112:46047</td>\n",
       "      <td>16</td>\n",
       "      <td>chr1</td>\n",
       "      <td>142961</td>\n",
       "      <td>255</td>\n",
       "      <td>51M3374N47M</td>\n",
       "      <td>*</td>\n",
       "      <td>0</td>\n",
       "      <td>0</td>\n",
       "      <td>GCCCAGTCAGTCTCTCTTCCTGGATTCACAAGTCTTTCATGGTAGA...</td>\n",
       "      <td>...</td>\n",
       "      <td>jM:B:c,22</td>\n",
       "      <td>nM:i:0</td>\n",
       "      <td>CR:Z:TCAATCTTTCAGGACT</td>\n",
       "      <td>SR:Z:AGTCGCTT</td>\n",
       "      <td>UR:Z:TGGCTTCAAT</td>\n",
       "      <td>AS:i:97</td>\n",
       "      <td>GS:Z:-</td>\n",
       "      <td>CY:Z:AAFFFJJJJJJJJ&lt;FJ</td>\n",
       "      <td>SY:Z:AAFFFJFJ</td>\n",
       "      <td>UY:Z:JJFJFJJJJF</td>\n",
       "    </tr>\n",
       "    <tr>\n",
       "      <th>6</th>\n",
       "      <td>ST-K00126:314:HFYL2BBXX:8:2202:24282:37132</td>\n",
       "      <td>16</td>\n",
       "      <td>chr1</td>\n",
       "      <td>142961</td>\n",
       "      <td>255</td>\n",
       "      <td>51M3374N47M</td>\n",
       "      <td>*</td>\n",
       "      <td>0</td>\n",
       "      <td>0</td>\n",
       "      <td>GCCCAGTCAGTCTCTCTTCCTGGATTCACAAGTCTTTCATGGTATA...</td>\n",
       "      <td>...</td>\n",
       "      <td>jM:B:c,22</td>\n",
       "      <td>nM:i:2</td>\n",
       "      <td>CR:Z:TCAATCTTTCAGGACT</td>\n",
       "      <td>SR:Z:TCGTCACG</td>\n",
       "      <td>UR:Z:TGGCTTCAAT</td>\n",
       "      <td>AS:i:93</td>\n",
       "      <td>GS:Z:-</td>\n",
       "      <td>CY:Z:AAAFFJJJJJJJFJJJ</td>\n",
       "      <td>SY:Z:AAAFFFJA</td>\n",
       "      <td>UY:Z:JJJF&lt;JJJJJ</td>\n",
       "    </tr>\n",
       "    <tr>\n",
       "      <th>7</th>\n",
       "      <td>ST-K00126:314:HFYL2BBXX:8:1119:7334:46135</td>\n",
       "      <td>16</td>\n",
       "      <td>chr1</td>\n",
       "      <td>142976</td>\n",
       "      <td>255</td>\n",
       "      <td>36M3374N62M</td>\n",
       "      <td>*</td>\n",
       "      <td>0</td>\n",
       "      <td>0</td>\n",
       "      <td>CTTCCTGGATTCACAAGTCTTTCATGGTAGATCCAGCTGTAGTCCC...</td>\n",
       "      <td>...</td>\n",
       "      <td>jM:B:c,22</td>\n",
       "      <td>nM:i:0</td>\n",
       "      <td>CR:Z:TCAATCTTTCAGGACT</td>\n",
       "      <td>SR:Z:NCGTCACG</td>\n",
       "      <td>UR:Z:TGGCTTCAAT</td>\n",
       "      <td>AS:i:97</td>\n",
       "      <td>GS:Z:-</td>\n",
       "      <td>CY:Z:AAFFFFFFJJJJJJJJ</td>\n",
       "      <td>SY:Z:#AAFFJJJ</td>\n",
       "      <td>UY:Z:JFFJJJJJJJ</td>\n",
       "    </tr>\n",
       "    <tr>\n",
       "      <th>8</th>\n",
       "      <td>ST-K00126:314:HFYL2BBXX:8:1201:6674:48368</td>\n",
       "      <td>1040</td>\n",
       "      <td>chr1</td>\n",
       "      <td>142976</td>\n",
       "      <td>255</td>\n",
       "      <td>36M3374N62M</td>\n",
       "      <td>*</td>\n",
       "      <td>0</td>\n",
       "      <td>0</td>\n",
       "      <td>CTTCCTGGATTCACAAGTCTTTCATGGTAGATCCAGCTGTAGTCCC...</td>\n",
       "      <td>...</td>\n",
       "      <td>jM:B:c,22</td>\n",
       "      <td>nM:i:0</td>\n",
       "      <td>CR:Z:TCAATCTTTCAGGACT</td>\n",
       "      <td>SR:Z:NACGAGAA</td>\n",
       "      <td>UR:Z:TGGCTTCAAT</td>\n",
       "      <td>AS:i:97</td>\n",
       "      <td>GS:Z:-</td>\n",
       "      <td>CY:Z:AAAAFJJJJJJJJJFJ</td>\n",
       "      <td>SY:Z:#AAFFJJJ</td>\n",
       "      <td>UY:Z:JJJJFFJJ&lt;F</td>\n",
       "    </tr>\n",
       "    <tr>\n",
       "      <th>9</th>\n",
       "      <td>ST-K00126:314:HFYL2BBXX:8:1105:1397:30081</td>\n",
       "      <td>1040</td>\n",
       "      <td>chr1</td>\n",
       "      <td>169183</td>\n",
       "      <td>255</td>\n",
       "      <td>82M3292N16M</td>\n",
       "      <td>*</td>\n",
       "      <td>0</td>\n",
       "      <td>0</td>\n",
       "      <td>TCTGCCGCAGAGCCTCGGAAGCTACCGACCCTGCTCCCACCTTGAC...</td>\n",
       "      <td>...</td>\n",
       "      <td>jM:B:c,22</td>\n",
       "      <td>nM:i:1</td>\n",
       "      <td>CR:Z:TATTACCCATATACGC</td>\n",
       "      <td>SR:Z:NCGTCACG</td>\n",
       "      <td>UR:Z:CGAGCTTATC</td>\n",
       "      <td>AS:i:95</td>\n",
       "      <td>GS:Z:-</td>\n",
       "      <td>CY:Z:AAFFFJJJJJJJJJJJ</td>\n",
       "      <td>SY:Z:#A&lt;AAFJ-</td>\n",
       "      <td>UY:Z:JJAJJJJJJJ</td>\n",
       "    </tr>\n",
       "    <tr>\n",
       "      <th>10</th>\n",
       "      <td>ST-K00126:314:HFYL2BBXX:8:2105:31446:29325</td>\n",
       "      <td>16</td>\n",
       "      <td>chr1</td>\n",
       "      <td>169183</td>\n",
       "      <td>255</td>\n",
       "      <td>82M3292N16M</td>\n",
       "      <td>*</td>\n",
       "      <td>0</td>\n",
       "      <td>0</td>\n",
       "      <td>TCTCCCGCAGAGCCTCGGAAGCTACCGACCCTGCTCCCACCTTGAC...</td>\n",
       "      <td>...</td>\n",
       "      <td>jM:B:c,22</td>\n",
       "      <td>nM:i:0</td>\n",
       "      <td>CR:Z:TATTACCCATATACGC</td>\n",
       "      <td>SR:Z:TCGTCACG</td>\n",
       "      <td>UR:Z:CGAGCTTATC</td>\n",
       "      <td>AS:i:97</td>\n",
       "      <td>GS:Z:-</td>\n",
       "      <td>CY:Z:AAAFFJJJJJJJJJJJ</td>\n",
       "      <td>SY:Z:AAAFFJJJ</td>\n",
       "      <td>UY:Z:JJJJJJJJJJ</td>\n",
       "    </tr>\n",
       "    <tr>\n",
       "      <th>11</th>\n",
       "      <td>ST-K00126:314:HFYL2BBXX:7:2217:26494:24296</td>\n",
       "      <td>16</td>\n",
       "      <td>chr1</td>\n",
       "      <td>169185</td>\n",
       "      <td>255</td>\n",
       "      <td>80M3292N18M</td>\n",
       "      <td>*</td>\n",
       "      <td>0</td>\n",
       "      <td>0</td>\n",
       "      <td>TCCCGCAGAGCCTCGGAAGCTACCGACCCTGCTCCCACCTTGACTC...</td>\n",
       "      <td>...</td>\n",
       "      <td>jM:B:c,22</td>\n",
       "      <td>nM:i:0</td>\n",
       "      <td>CR:Z:CGGCTAGTCACAACGT</td>\n",
       "      <td>SR:Z:AGTCGCTT</td>\n",
       "      <td>UR:Z:ATCCATCGTA</td>\n",
       "      <td>AS:i:97</td>\n",
       "      <td>GS:Z:-</td>\n",
       "      <td>CY:Z:AAFFFJJJJJJJJJJJ</td>\n",
       "      <td>SY:Z:AAFFFJJJ</td>\n",
       "      <td>UY:Z:JJJJJJJJJJ</td>\n",
       "    </tr>\n",
       "    <tr>\n",
       "      <th>12</th>\n",
       "      <td>ST-K00126:314:HFYL2BBXX:8:2108:22445:7890</td>\n",
       "      <td>16</td>\n",
       "      <td>chr1</td>\n",
       "      <td>169185</td>\n",
       "      <td>255</td>\n",
       "      <td>80M3292N18M</td>\n",
       "      <td>*</td>\n",
       "      <td>0</td>\n",
       "      <td>0</td>\n",
       "      <td>TCCCGCAGAGCCTCGGAAGCTACCGACCCTGCTCCCACCTTGACTC...</td>\n",
       "      <td>...</td>\n",
       "      <td>jM:B:c,22</td>\n",
       "      <td>nM:i:0</td>\n",
       "      <td>CR:Z:CGGCTAGTCACAACGT</td>\n",
       "      <td>SR:Z:AGTCGCTT</td>\n",
       "      <td>UR:Z:ATCCATCGTA</td>\n",
       "      <td>AS:i:97</td>\n",
       "      <td>GS:Z:-</td>\n",
       "      <td>CY:Z:AAFFFJJJJJJJJJJJ</td>\n",
       "      <td>SY:Z:AAFFFJJJ</td>\n",
       "      <td>UY:Z:JJJJJJJJJJ</td>\n",
       "    </tr>\n",
       "    <tr>\n",
       "      <th>13</th>\n",
       "      <td>ST-K00126:314:HFYL2BBXX:7:2103:27428:43779</td>\n",
       "      <td>1040</td>\n",
       "      <td>chr1</td>\n",
       "      <td>169187</td>\n",
       "      <td>255</td>\n",
       "      <td>78M3292N20M</td>\n",
       "      <td>*</td>\n",
       "      <td>0</td>\n",
       "      <td>0</td>\n",
       "      <td>CCGCAGAGCCTCGGAAGCTACCGACCCTGCTCCCACCTTGACTCAG...</td>\n",
       "      <td>...</td>\n",
       "      <td>jM:B:c,22</td>\n",
       "      <td>nM:i:0</td>\n",
       "      <td>CR:Z:CGGCTAGTCACAACGT</td>\n",
       "      <td>SR:Z:TCGTCACG</td>\n",
       "      <td>UR:Z:ATCCATCGTA</td>\n",
       "      <td>AS:i:97</td>\n",
       "      <td>GS:Z:-</td>\n",
       "      <td>CY:Z:AAFFFJJJJJJJJJJJ</td>\n",
       "      <td>SY:Z:AAFFFJJJ</td>\n",
       "      <td>UY:Z:JJJJJJJJJJ</td>\n",
       "    </tr>\n",
       "    <tr>\n",
       "      <th>14</th>\n",
       "      <td>ST-K00126:314:HFYL2BBXX:7:2115:30655:36147</td>\n",
       "      <td>16</td>\n",
       "      <td>chr1</td>\n",
       "      <td>169187</td>\n",
       "      <td>255</td>\n",
       "      <td>78M3292N20M</td>\n",
       "      <td>*</td>\n",
       "      <td>0</td>\n",
       "      <td>0</td>\n",
       "      <td>CCGCAGAGCCTCGGAAGCTACCGACCCTGCTCCCACCTTGACTCAG...</td>\n",
       "      <td>...</td>\n",
       "      <td>jM:B:c,22</td>\n",
       "      <td>nM:i:0</td>\n",
       "      <td>CR:Z:CGGCTAGTCACAACGT</td>\n",
       "      <td>SR:Z:GTAATTGC</td>\n",
       "      <td>UR:Z:ATCCATCGTA</td>\n",
       "      <td>AS:i:97</td>\n",
       "     "
      ],
      "text/plain": [
       "                                          qname  flag reference  position  \\\n",
       "0    ST-K00126:314:HFYL2BBXX:7:1202:31680:24067    16      chr1   1007748   \n",
       "1    ST-K00126:314:HFYL2BBXX:7:2219:18203:21993     0      chr1    902541   \n",
       "2      ST-K00126:314:HFYL2BBXX:8:2106:1519:2721    16      chr1     91575   \n",
       "3     ST-K00126:314:HFYL2BBXX:7:2121:8278:42319    16      chr1    142933   \n",
       "4    ST-K00126:314:HFYL2BBXX:7:1109:15097:44781  1040      chr1    142961   \n",
       "5    ST-K00126:314:HFYL2BBXX:7:2202:16112:46047    16      chr1    142961   \n",
       "6    ST-K00126:314:HFYL2BBXX:8:2202:24282:37132    16      chr1    142961   \n",
       "7     ST-K00126:314:HFYL2BBXX:8:1119:7334:46135    16      chr1    142976   \n",
       "8     ST-K00126:314:HFYL2BBXX:8:1201:6674:48368  1040      chr1    142976   \n",
       "9     ST-K00126:314:HFYL2BBXX:8:1105:1397:30081  1040      chr1    169183   \n",
       "10   ST-K00126:314:HFYL2BBXX:8:2105:31446:29325    16      chr1    169183   \n",
       "11   ST-K00126:314:HFYL2BBXX:7:2217:26494:24296    16      chr1    169185   \n",
       "12    ST-K00126:314:HFYL2BBXX:8:2108:22445:7890    16      chr1    169185   \n",
       "13   ST-K00126:314:HFYL2BBXX:7:2103:27428:43779  1040      chr1    169187   \n",
       "14   ST-K00126:314:HFYL2BBXX:7:2115:30655:36147    16      chr1    169187   \n",
       "15   ST-K00126:314:HFYL2BBXX:8:1217:23937:18493    16      chr1    169187   \n",
       "16   ST-K00126:314:HFYL2BBXX:7:1114:12601:43831    16      chr1    169188   \n",
       "17     ST-K00126:314:HFYL2BBXX:8:1102:9272:9719    16      chr1    169191   \n",
       "18   ST-K00126:314:HFYL2BBXX:8:1121:26200:20656    16      chr1    169191   \n",
       "19   ST-K00126:314:HFYL2BBXX:8:2216:16812:15610  1040      chr1    169191   \n",
       "20    ST-K00126:314:HFYL2BBXX:7:1108:26514:2000    16      chr1    169197   \n",
       "21    ST-K00126:314:HFYL2BBXX:7:1125:29680:2492  1040      chr1    169197   \n",
       "22   ST-K00126:314:HFYL2BBXX:8:1224:24129:36517    16      chr1    169197   \n",
       "23     ST-K00126:314:HFYL2BBXX:7:2125:1671:3196    16      chr1    169201   \n",
       "24    ST-K00126:314:HFYL2BBXX:8:2221:2331:36552    16      chr1    169201   \n",
       "25   ST-K00126:314:HFYL2BBXX:8:1215:15432:35303    16      chr1    169205   \n",
       "26    ST-K00126:314:HFYL2BBXX:7:2106:5233:11196    16      chr1    169235   \n",
       "27    ST-K00126:314:HFYL2BBXX:7:2219:16965:1138    16      chr1    169253   \n",
       "28   ST-K00126:314:HFYL2BBXX:8:2207:13535:33774    16      chr1    172594   \n",
       "29   ST-K00126:314:HFYL2BBXX:7:1219:14123:31875    16      chr1    135087   \n",
       "..                                          ...   ...       ...       ...   \n",
       "270  ST-K00126:314:HFYL2BBXX:7:2105:21998:35848    16      chr1    135199   \n",
       "271  ST-K00126:314:HFYL2BBXX:7:2223:16214:46223    16      chr1    135200   \n",
       "272  ST-K00126:314:HFYL2BBXX:7:2104:22546:37220  1040      chr1    135202   \n",
       "273   ST-K00126:314:HFYL2BBXX:7:2217:9638:45836    16      chr1    135206   \n",
       "274  ST-K00126:314:HFYL2BBXX:8:2120:30178:20058    16      chr1   1012846   \n",
       "275  ST-K00126:314:HFYL2BBXX:7:2222:19319:29518    16      chr1   1012848   \n",
       "276  ST-K00126:314:HFYL2BBXX:8:1119:10947:46592    16      chr1   1012850   \n",
       "277  ST-K00126:314:HFYL2BBXX:7:1111:23023:12831    16      chr1   1012868   \n",
       "278   ST-K00126:314:HFYL2BBXX:7:1127:28554:8840  1040      chr1   1012868   \n",
       "279   ST-K00126:314:HFYL2BBXX:7:2227:15097:3635  1040      chr1   1012868   \n",
       "280  ST-K00126:314:HFYL2BBXX:8:2217:22414:33369    16      chr1   1012871   \n",
       "281   ST-K00126:314:HFYL2BBXX:7:2107:2158:21764     0      chr1    914669   \n",
       "282  ST-K00126:314:HFYL2BBXX:8:2115:24718:29202    16      chr1   1007984   \n",
       "283  ST-K00126:314:HFYL2BBXX:8:1106:11627:44464    16      chr1   1007995   \n",
       "284   ST-K00126:314:HFYL2BBXX:8:1206:4635:17966    16      chr1   1008004   \n",
       "285   ST-K00126:314:HFYL2BBXX:7:2223:13809:5587    16      chr1   1008026   \n",
       "286  ST-K00126:314:HFYL2BBXX:7:1203:13078:35831    16      chr1   1008035   \n",
       "287    ST-K00126:314:HFYL2BBXX:8:2222:5457:3424    16      chr1   1008068   \n",
       "288  ST-K00126:314:HFYL2BBXX:7:2210:25053:30099    16      chr1   1008071   \n",
       "289   ST-K00126:314:HFYL2BBXX:8:2114:5528:12972    16      chr1   1008071   \n",
       "290   ST-K00126:314:HFYL2BBXX:8:1122:1590:40086    16      chr1   1008080   \n",
       "291  ST-K00126:314:HFYL2BBXX:8:2207:24211:30925    16      chr1   1008085   \n",
       "292  ST-K00126:314:HFYL2BBXX:7:1107:16356:44042    16      chr1   1008094   \n",
       "293  ST-K00126:314:HFYL2BBXX:7:1115:32552:31031    16      chr1   1008094   \n",
       "294  ST-K00126:314:HFYL2BBXX:8:2114:32278:19830    16      chr1   1008094   \n",
       "295  ST-K00126:314:HFYL2BBXX:7:1204:11749:36903    16      chr1   1008095   \n",
       "296  ST-K00126:314:HFYL2BBXX:7:2117:22648:42390    16      chr1   1008097   \n",
       "297   ST-K00126:314:HFYL2BBXX:7:2122:2909:38328    16      chr1   1008097   \n",
       "298  ST-K00126:314:HFYL2BBXX:7:1118:16264:34600    16      chr1   1008102   \n",
       "299  ST-K00126:314:HFYL2BBXX:7:1119:10927:17263    16      chr1   1008102   \n",
       "\n",
       "     mapq           cigar rnext  pnext  tlen  \\\n",
       "0     255   34M284597N64M     *      0     0   \n",
       "1     255   25M145987N73M     *      0     0   \n",
       "2     255    2S55M461N41M     *      0     0   \n",
       "3     255   79M3374N17M2S     *      0     0   \n",
       "4     255     51M3374N47M     *      0     0   \n",
       "5     255     51M3374N47M     *      0     0   \n",
       "6     255     51M3374N47M     *      0     0   \n",
       "7     255     36M3374N62M     *      0     0   \n",
       "8     255     36M3374N62M     *      0     0   \n",
       "9     255     82M3292N16M     *      0     0   \n",
       "10    255     82M3292N16M     *      0     0   \n",
       "11    255     80M3292N18M     *      0     0   \n",
       "12    255     80M3292N18M     *      0     0   \n",
       "13    255     78M3292N20M     *      0     0   \n",
       "14    255     78M3292N20M     *      0     0   \n",
       "15    255     78M3292N20M     *      0     0   \n",
       "16    255     77M3292N21M     *      0     0   \n",
       "17    255     74M3292N24M     *      0     0   \n",
       "18    255     74M3292N24M     *      0     0   \n",
       "19    255     74M3292N24M     *      0     0   \n",
       "20    255     68M3292N30M     *      0     0   \n",
       "21    255     68M3292N30M     *      0     0   \n",
       "22    255     68M3292N30M     *      0     0   \n",
       "23    255     64M3292N34M     *      0     0   \n",
       "24    255     64M3292N34M     *      0     0   \n",
       "25    255     60M3292N38M     *      0     0   \n",
       "26    255  30M3292N43M25S     *      0     0   \n",
       "27    255     12M3292N86M     *      0     0   \n",
       "28    255      95M1064N3M     *      0     0   \n",
       "29    255        22M1D76M     *      0     0   \n",
       "..    ...             ...   ...    ...   ...   \n",
       "270   255             98M     *      0     0   \n",
       "271   255             98M     *      0     0   \n",
       "272   255           2S96M     *      0     0   \n",
       "273   255             98M     *      0     0   \n",
       "274   255             98M     *      0     0   \n",
       "275   255        27M1I70M     *      0     0   \n",
       "276   255             98M     *      0     0   \n",
       "277   255             98M     *      0     0   \n",
       "278   255             98M     *      0     0   \n",
       "279   255             98M     *      0     0   \n",
       "280   255             98M     *      0     0   \n",
       "281   255           1S97M     *      0     0   \n",
       "282   255             98M     *      0     0   \n",
       "283   255             98M     *      0     0   \n",
       "284   255             98M     *      0     0   \n",
       "285   255             98M     *      0     0   \n",
       "286   255             98M     *      0     0   \n",
       "287   255             98M     *      0     0   \n",
       "288   255             98M     *      0     0   \n",
       "289   255             98M     *      0     0   \n",
       "290   255             98M     *      0     0   \n",
       "291   255      1S27M1D70M     *      0     0   \n",
       "292   255           4S94M     *      0     0   \n",
       "293   255         3S94M1S     *      0     0   \n",
       "294   255          13S85M     *      0     0   \n",
       "295   255             98M     *      0     0   \n",
       "296   255             98M     *      0     0   \n",
       "297   255        15M1D83M     *      0     0   \n",
       "298   255           8S90M     *      0     0   \n",
       "299   255             98M     *      0     0   \n",
       "\n",
       "                                              sequence       ...         \\\n",
       "0    TTTTTTTTTTTTTTTTTTTTTTTTTTTTTTTTTGAGGAGCAGGCAG...       ...          \n",
       "1    TGGGAGGCCGAGGTGGGTGGATCACCTGAGTTCAGGAGTTCGAGAC...       ...          \n",
       "2    GGTTCATCGGGAAAAGCTTTGGATCACAATTCCCAGTGCTGAAGAG...       ...          \n",
       "3    AAATCTTTTTGTACCTGAATAACATGTTGCCCAGTCAGTCTCTCTT...       ...          \n",
       "4    GCCCAGTCAGTCTCTCTTCCTGGATTCACAAGTCTTTCATGGTAGA...       ...          \n",
       "5    GCCCAGTCAGTCTCTCTTCCTGGATTCACAAGTCTTTCATGGTAGA...       ...          \n",
       "6    GCCCAGTCAGTCTCTCTTCCTGGATTCACAAGTCTTTCATGGTATA...       ...          \n",
       "7    CTTCCTGGATTCACAAGTCTTTCATGGTAGATCCAGCTGTAGTCCC...       ...          \n",
       "8    CTTCCTGGATTCACAAGTCTTTCATGGTAGATCCAGCTGTAGTCCC...       ...          \n",
       "9    TCTGCCGCAGAGCCTCGGAAGCTACCGACCCTGCTCCCACCTTGAC...       ...          \n",
       "10   TCTCCCGCAGAGCCTCGGAAGCTACCGACCCTGCTCCCACCTTGAC...       ...          \n",
       "11   TCCCGCAGAGCCTCGGAAGCTACCGACCCTGCTCCCACCTTGACTC...       ...          \n",
       "12   TCCCGCAGAGCCTCGGAAGCTACCGACCCTGCTCCCACCTTGACTC...       ...          \n",
       "13   CCGCAGAGCCTCGGAAGCTACCGACCCTGCTCCCACCTTGACTCAG...       ...          \n",
       "14   CCGCAGAGCCTCGGAAGCTACCGACCCTGCTCCCACCTTGACTCAG...       ...          \n",
       "15   CCGCAGAGCCTCGGAAGCTACCGACCCTGCTCCCACCTTGACTCAG...       ...          \n",
       "16   CGCAGAGCCTCGGAAGCTACCGACCCTGCTCCCACCTTGACTCAGT...       ...          \n",
       "17   AGAGCCTCGGAAGCTACCGACCCTGCTCCCACCTTGACTCAGTAGG...       ...          \n",
       "18   AGAGCCTCGGAAGCTACCGACCCTGCTCCCACCTTGACTCAGTAGG...       ...          \n",
       "19   AGAGCCTCGGAAGCTACCGACCCTGCTCCCACCTTGACTCAGTAGG...       ...          \n",
       "20   TCGGAAGCTACCGACCCTGCTCCCACCTTGACTCAGTAGGACTTAC...       ...          \n",
       "21   TCGGAAGCTACCGACCCTGCTCCCACCTTGACTCAGTAGGACTTAC...       ...          \n",
       "22   TCGGAAGCTACCGACCCTGCTCCCACCTTGACTCAGTAGGACTTAC...       ...          \n",
       "23   AAGCTACCGACCCTGCACCCACCTTCACTCAATAGGACTTACCGTA...       ...          \n",
       "24   AAGCTACCGACCCTGCTCCCACCTTGACTCAGTAGGACTTACTGTA...       ...          \n",
       "25   TACCGACCCTGCTCCCACCTTGACTCAGTAGGACTTACTGTAGAAT...       ...          \n",
       "26   GGACTTACTGTAGAATTCGGGCCTTCAGACCTGAGCCTGGCAGCTC...       ...          \n",
       "27   TGGCCTTCAGACCTGAGCCTGGCAGCTCTCTCCAACTTTGGAAGCC...       ...          \n",
       "28   GGGGATGGCCCCTGTCCACAGATGCACCTGTCATGAGGCGTGCCCA...       ...         "
      ]
     },
     "execution_count": 144,
     "metadata": {},
     "output_type": "execute_result"
    },
    {
     "data": {
      "text/html": []
     },
     "metadata": {},
     "output_type": "display_data"
    }
   ],
   "source": [
    "data"
   ]
  },
  {
   "cell_type": "markdown",
   "metadata": {
    "deletable": true,
    "editable": true
   },
   "source": [
    "# Build Expectations for Testing Data"
   ]
  },
  {
   "cell_type": "markdown",
   "metadata": {
    "deletable": true,
    "editable": true
   },
   "source": [
    "## Number of Reads"
   ]
  },
  {
   "cell_type": "code",
   "execution_count": 86,
   "metadata": {
    "collapsed": false,
    "deletable": true,
    "editable": true
   },
   "outputs": [
    {
     "name": "stdout",
     "output_type": "stream",
     "text": [
      "300\n"
     ]
    }
   ],
   "source": [
    "results['n_reads'] = len(data)\n",
    "print(results['n_reads'])"
   ]
  },
  {
   "cell_type": "markdown",
   "metadata": {
    "deletable": true,
    "editable": true
   },
   "source": [
    "## Number of Genes"
   ]
  },
  {
   "cell_type": "code",
   "execution_count": 87,
   "metadata": {
    "collapsed": false,
    "deletable": true,
    "editable": true
   },
   "outputs": [
    {
     "name": "stdout",
     "output_type": "stream",
     "text": [
      "8\n"
     ]
    }
   ],
   "source": [
    "results['n_genes'] = len(data.groupby(['GE']))\n",
    "print(results['n_genes'])"
   ]
  },
  {
   "cell_type": "markdown",
   "metadata": {
    "deletable": true,
    "editable": true
   },
   "source": [
    "Gene table should have 8 entries plus a header for a total of 9 lines"
   ]
  },
  {
   "cell_type": "markdown",
   "metadata": {
    "deletable": true,
    "editable": true
   },
   "source": [
    "## Number of Molecules\n",
    "\n",
    "Molecules are defined as a unique triplet of CB, UB, and GE"
   ]
  },
  {
   "cell_type": "code",
   "execution_count": 88,
   "metadata": {
    "collapsed": false,
    "deletable": true,
    "editable": true
   },
   "outputs": [
    {
     "name": "stdout",
     "output_type": "stream",
     "text": [
      "88\n"
     ]
    }
   ],
   "source": [
    "results['n_molecules'] = len(data.groupby(['CB', 'UB', 'GE']))\n",
    "print(results['n_molecules'])"
   ]
  },
  {
   "cell_type": "markdown",
   "metadata": {
    "deletable": true,
    "editable": true
   },
   "source": [
    "## Number of Fragments\n",
    "\n",
    "Fragments are defined as molecules are (CB, UB, GE) but must additionally have a unique position"
   ]
  },
  {
   "cell_type": "code",
   "execution_count": 89,
   "metadata": {
    "collapsed": false,
    "deletable": true,
    "editable": true
   },
   "outputs": [
    {
     "name": "stdout",
     "output_type": "stream",
     "text": [
      "217\n"
     ]
    }
   ],
   "source": [
    "results['n_fragments'] = len(data.groupby(['CB', 'UB', 'GE', 'position']))\n",
    "print(results['n_fragments'])"
   ]
  },
  {
   "cell_type": "markdown",
   "metadata": {
    "deletable": true,
    "editable": true
   },
   "source": [
    "## Most Abundant Gene\n",
    "\n",
    "Based on the above, at least one of the genes has to be observed more than once. Which is it? "
   ]
  },
  {
   "cell_type": "code",
   "execution_count": 90,
   "metadata": {
    "collapsed": false,
    "deletable": true,
    "editable": true
   },
   "outputs": [
    {
     "name": "stdout",
     "output_type": "stream",
     "text": [
      "AL627309.7 245\n"
     ]
    }
   ],
   "source": [
    "results['most_abundant'] = data.groupby(['GE']).size().idxmax().split(':')[-1]\n",
    "results['most_abundant_gene_n_observations'] = data.groupby(['GE']).size().max()\n",
    "print(results['most_abundant'], results['most_abundant_gene_n_observations'])"
   ]
  },
  {
   "cell_type": "code",
   "execution_count": 99,
   "metadata": {
    "collapsed": false,
    "deletable": true,
    "editable": true
   },
   "outputs": [],
   "source": [
    "results['perfect_molecule_barcodes'] = 0\n",
    "for c, r in zip(data['CB'], data['CR']):\n",
    "    if c.split(':')[-1] == r.split(':')[-1]:\n",
    "        results['perfect_molecule_barcodes'] += 1"
   ]
  },
  {
   "cell_type": "markdown",
   "metadata": {
    "deletable": true,
    "editable": true
   },
   "source": [
    "Calculate the alignment metrics"
   ]
  },
  {
   "cell_type": "code",
   "execution_count": 109,
   "metadata": {
    "collapsed": false,
    "deletable": true,
    "editable": true
   },
   "outputs": [],
   "source": [
    "results['reads_mapped_exonic'] = sum(data['XF'] == 'XF:Z:CODING')"
   ]
  },
  {
   "cell_type": "code",
   "execution_count": 107,
   "metadata": {
    "collapsed": false,
    "deletable": true,
    "editable": true
   },
   "outputs": [],
   "source": [
    "results['reads_mapped_intronic'] = sum(data['XF'] == 'XF:Z:INTRONIC')"
   ]
  },
  {
   "cell_type": "code",
   "execution_count": 108,
   "metadata": {
    "collapsed": false,
    "deletable": true,
    "editable": true
   },
   "outputs": [],
   "source": [
    "results['reads_mapped_utr'] = sum(data['XF'] == 'XF:Z:UTR')"
   ]
  },
  {
   "cell_type": "code",
   "execution_count": 112,
   "metadata": {
    "collapsed": true,
    "deletable": true,
    "editable": true
   },
   "outputs": [],
   "source": [
    "results['reads_mapped_uniquely'] = sum(data['NH'] == 'NH:i:1')"
   ]
  },
  {
   "cell_type": "code",
   "execution_count": 122,
   "metadata": {
    "collapsed": false,
    "deletable": true,
    "editable": true
   },
   "outputs": [],
   "source": [
    "results['duplicate_reads'] = sum((data['flag'] & 1024).astype(bool))"
   ]
  },
  {
   "cell_type": "code",
   "execution_count": 124,
   "metadata": {
    "collapsed": true,
    "deletable": true,
    "editable": true
   },
   "outputs": [],
   "source": [
    "results['spliced_reads'] = sum(1 for v in data['cigar'] if 'N' in v)"
   ]
  },
  {
   "cell_type": "markdown",
   "metadata": {
    "deletable": true,
    "editable": true
   },
   "source": [
    "Calculate the higher-order metrics"
   ]
  },
  {
   "cell_type": "code",
   "execution_count": 149,
   "metadata": {
    "collapsed": false,
    "deletable": true,
    "editable": true
   },
   "outputs": [],
   "source": [
    "calc_func = lambda x: sum(1 for c in x.split(':')[-1] if ord(c) > 63)\n",
    "results['molecule_barcode_fraction_bases_above_30_mean'] = data['UY'].apply(calc_func).mean()\n",
    "results['molecule_barcode_fraction_bases_above_30_variance'] = np.var(data['UY'].apply(calc_func))\n",
    "results['genomic_reads_fraction_bases_quality_above_30_mean'] = data['quality'].apply(calc_func).mean()\n",
    "results['genomic_reads_fraction_bases_quality_above_30_variance'] = np.var(data['quality'].apply(calc_func))\n",
    "calc_func = lambda x: np.mean([ord(c) - 33 for c in x.split(':')[-1]])\n",
    "results['genomic_read_quality_mean'] = data['quality'].apply(calc_func).mean()\n",
    "calc_func = lambda x: np.var([ord(c) - 33 for c in x.split(':')[-1]])\n",
    "results['genomic_read_quality_variance'] = data['quality'].apply(calc_func).mean()\n",
    "\n",
    "results['reads_per_molecule'] = results['n_reads'] / results['n_molecules']\n",
    "results['reads_per_fragment'] = results['n_reads'] / results['n_fragments']\n",
    "results['fragments_per_molecule'] = results['n_fragments'] / results['n_molecules']\n",
    "\n",
    "results['fragments_with_single_read_evidence'] = np.sum(data.groupby(['CB', 'UB', 'GE', 'position']).size() == 1)\n",
    "\n",
    "results['molecules_with_single_read_evidence'] = np.sum(data.groupby(['CB', 'UB', 'GE']).size() == 1)"
   ]
  },
  {
   "cell_type": "markdown",
   "metadata": {
    "deletable": true,
    "editable": true
   },
   "source": [
    "# Write Results to File for Automated Testing"
   ]
  },
  {
   "cell_type": "code",
   "execution_count": 150,
   "metadata": {
    "collapsed": true,
    "deletable": true,
    "editable": true
   },
   "outputs": [],
   "source": [
    "pd.Series(results).to_csv('%s_testing_knowledge.csv' % input_sam_file.replace('.sam', ''))"
   ]
  },
  {
   "cell_type": "code",
   "execution_count": 151,
   "metadata": {
    "collapsed": false,
    "deletable": true,
    "editable": true
   },
   "outputs": [
    {
     "data": {
      "text/plain": [
       "0\n",
       "duplicate_reads                                                           51\n",
       "duplicate_records                                                         51\n",
       "fragments_per_molecule                                     2.465909090909091\n",
       "fragments_with_single_read_evidence                                      155\n",
       "genomic_read_quality_mean                                      33.6695238095\n",
       "genomic_read_quality_variance                                  60.8456594475\n",
       "genomic_reads_fraction_bases_quality_above_30_mean             73.6433333333\n",
       "genomic_reads_fraction_bases_quality_above_30_variance         407.596122222\n",
       "molecule_barcode_fraction_bases_above_30_mean                            9.8\n",
       "molecule_barcode_fraction_bases_above_30_variance                       0.54\n",
       "molecules_with_single_read_evidence                                       42\n",
       "most_abundant                                                     AL627309.7\n",
       "most_abundant_gene_n_observations                                        245\n",
       "n_fragments                                                              217\n",
       "n_genes                                                                    8\n",
       "n_molecules                                                               88\n",
       "n_reads                                                                  300\n",
       "perfect_molecule_barcodes                                                297\n",
       "reads_mapped_exonic                                                      300\n",
       "reads_mapped_intronic                                                      0\n",
       "reads_mapped_uniquely                                                    300\n",
       "reads_mapped_utr                                                           0\n",
       "reads_per_fragment                                        1.3824884792626728\n",
       "reads_per_molecule                                         3.409090909090909\n",
       "spliced_reads                                                             29\n",
       "Name: 1, dtype: object"
      ]
     },
     "execution_count": 151,
     "metadata": {},
     "output_type": "execute_result"
    }
   ],
   "source": [
    "pd.read_csv('data/small-gene-sorted_testing_knowledge.csv', index_col=0, squeeze=True, header=None)"
   ]
  },
  {
   "cell_type": "markdown",
   "metadata": {
    "deletable": true,
    "editable": true
   },
   "source": [
    "# Look at the metrics output"
   ]
  },
  {
   "cell_type": "code",
   "execution_count": 65,
   "metadata": {
    "collapsed": true,
    "deletable": true,
    "editable": true
   },
   "outputs": [],
   "source": [
    "gene_metrics = pd.read_csv('../../../gene_metrics.csv', index_col=0)"
   ]
  },
  {
   "cell_type": "code",
   "execution_count": 66,
   "metadata": {
    "collapsed": false,
    "deletable": true,
    "editable": true,
    "scrolled": true
   },
   "outputs": [
    {
     "data": {
      "text/html": [
       "<div>\n",
       "<style scoped>\n",
       "    .dataframe tbody tr th:only-of-type {\n",
       "        vertical-align: middle;\n",
       "    }\n",
       "\n",
       "    .dataframe tbody tr th {\n",
       "        vertical-align: top;\n",
       "    }\n",
       "\n",
       "    .dataframe thead th {\n",
       "        text-align: right;\n",
       "    }\n",
       "</style>\n",
       "<table border=\"1\" class=\"dataframe\">\n",
       "  <thead>\n",
       "    <tr style=\"text-align: right;\">\n",
       "      <th></th>\n",
       "      <th>reads</th>\n",
       "      <th>noise_reads</th>\n",
       "      <th>perfect_molecule_barcodes</th>\n",
       "      <th>reads_mapped_exonic</th>\n",
       "      <th>reads_mapped_intronic</th>\n",
       "      <th>reads_mapped_utr</th>\n",
       "      <th>reads_mapped_uniquely</th>\n",
       "      <th>reads_mapped_multiple</th>\n",
       "      <th>duplicate_reads</th>\n",
       "      <th>spliced_reads</th>\n",
       "      <th>...</th>\n",
       "      <th>genomic_read_quality_variance</th>\n",
       "      <th>molecules</th>\n",
       "      <th>fragments</th>\n",
       "      <th>reads_per_molecule</th>\n",
       "      <th>reads_per_fragment</th>\n",
       "      <th>fragments_per_molecule</th>\n",
       "      <th>fragments_with_single_read_evidence</th>\n",
       "      <th>molecules_with_single_read_evidence</th>\n",
       "      <th>number_cells_detected_multiple</th>\n",
       "      <th>number_cells_expressing</th>\n",
       "    </tr>\n",
       "  </thead>\n",
       "  <tbody>\n",
       "    <tr>\n",
       "      <th>ACAP31</th>\n",
       "      <td>0</td>\n",
       "      <td>1</td>\n",
       "      <td>0</td>\n",
       "      <td>0</td>\n",
       "      <td>0</td>\n",
       "      <td>1</td>\n",
       "      <td>0</td>\n",
       "      <td>0</td>\n",
       "      <td>1</td>\n",
       "      <td>0</td>\n",
       "      <td>...</td>\n",
       "      <td>1</td>\n",
       "      <td>1</td>\n",
       "      <td>1.000000</td>\n",
       "      <td>1.000000</td>\n",
       "      <td>1.000000</td>\n",
       "      <td>1</td>\n",
       "      <td>1</td>\n",
       "      <td>0</td>\n",
       "      <td>1</td>\n",
       "      <td>NaN</td>\n",
       "    </tr>\n",
       "    <tr>\n",
       "      <th>AGRN1</th>\n",
       "      <td>0</td>\n",
       "      <td>1</td>\n",
       "      <td>0</td>\n",
       "      <td>0</td>\n",
       "      <td>0</td>\n",
       "      <td>1</td>\n",
       "      <td>0</td>\n",
       "      <td>0</td>\n",
       "      <td>1</td>\n",
       "      <td>0</td>\n",
       "      <td>...</td>\n",
       "      <td>1</td>\n",
       "      <td>1</td>\n",
       "      <td>1.000000</td>\n",
       "      <td>1.000000</td>\n",
       "      <td>1.000000</td>\n",
       "      <td>1</td>\n",
       "      <td>1</td>\n",
       "      <td>0</td>\n",
       "      <td>1</td>\n",
       "      <td>NaN</td>\n",
       "    </tr>\n",
       "    <tr>\n",
       "      <th>AL627309.11</th>\n",
       "      <td>0</td>\n",
       "      <td>1</td>\n",
       "      <td>0</td>\n",
       "      <td>0</td>\n",
       "      <td>0</td>\n",
       "      <td>1</td>\n",
       "      <td>0</td>\n",
       "      <td>0</td>\n",
       "      <td>1</td>\n",
       "      <td>0</td>\n",
       "      <td>...</td>\n",
       "      <td>1</td>\n",
       "      <td>1</td>\n",
       "      <td>1.000000</td>\n",
       "      <td>1.000000</td>\n",
       "      <td>1.000000</td>\n",
       "      <td>1</td>\n",
       "      <td>1</td>\n",
       "      <td>0</td>\n",
       "      <td>1</td>\n",
       "      <td>NaN</td>\n",
       "    </tr>\n",
       "    <tr>\n",
       "      <th>AL627309.526</th>\n",
       "      <td>0</td>\n",
       "      <td>26</td>\n",
       "      <td>0</td>\n",
       "      <td>0</td>\n",
       "      <td>0</td>\n",
       "      <td>26</td>\n",
       "      <td>0</td>\n",
       "      <td>6</td>\n",
       "      <td>26</td>\n",
       "      <td>0</td>\n",
       "      <td>...</td>\n",
       "      <td>8</td>\n",
       "      <td>15</td>\n",
       "      <td>1.733333</td>\n",
       "      <td>3.250000</td>\n",
       "      <td>1.875000</td>\n",
       "      <td>7</td>\n",
       "      <td>2</td>\n",
       "      <td>6</td>\n",
       "      <td>8</td>\n",
       "      <td>NaN</td>\n",
       "    </tr>\n",
       "    <tr>\n",
       "      <th>AL627309.7245</th>\n",
       "      <td>0</td>\n",
       "      <td>245</td>\n",
       "      <td>0</td>\n",
       "      <td>0</td>\n",
       "      <td>0</td>\n",
       "      <td>245</td>\n",
       "      <td>0</td>\n",
       "      <td>43</td>\n",
       "      <td>0</td>\n",
       "      <td>0</td>\n",
       "      <td>...</td>\n",
       "      <td>59</td>\n",
       "      <td>176</td>\n",
       "      <td>1.392045</td>\n",
       "      <td>4.152542</td>\n",
       "      <td>2.983051</td>\n",
       "      <td>124</td>\n",
       "      <td>22</td>\n",
       "      <td>38</td>\n",
       "      <td>57</td>\n",
       "      <td>NaN</td>\n",
       "    </tr>\n",
       "    <tr>\n",
       "      <th>AL645608.27</th>\n",
       "      <td>0</td>\n",
       "      <td>7</td>\n",
       "      <td>0</td>\n",
       "      <td>0</td>\n",
       "      <td>0</td>\n",
       "      <td>7</td>\n",
       "      <td>0</td>\n",
       "      <td>2</td>\n",
       "      <td>0</td>\n",
       "      <td>0</td>\n",
       "      <td>...</td>\n",
       "      <td>4</td>\n",
       "      <td>5</td>\n",
       "      <td>1.400000</td>\n",
       "      <td>1.750000</td>\n",
       "      <td>1.250000</td>\n",
       "      <td>4</td>\n",
       "      <td>2</td>\n",
       "      <td>2</td>\n",
       "      <td>4</td>\n",
       "      <td>NaN</td>\n",
       "    </tr>\n",
       "    <tr>\n",
       "      <th>AL645608.31</th>\n",
       "      <td>0</td>\n",
       "      <td>1</td>\n",
       "      <td>0</td>\n",
       "      <td>0</td>\n",
       "      <td>0</td>\n",
       "      <td>1</td>\n",
       "      <td>0</td>\n",
       "      <td>0</td>\n",
       "      <td>0</td>\n",
       "      <td>0</td>\n",
       "      <td>...</td>\n",
       "      <td>1</td>\n",
       "      <td>1</td>\n",
       "      <td>1.000000</td>\n",
       "      <td>1.000000</td>\n",
       "      <td>1.000000</td>\n",
       "      <td>1</td>\n",
       "      <td>1</td>\n",
       "      <td>0</td>\n",
       "      <td>1</td>\n",
       "      <td>NaN</td>\n",
       "    </tr>\n",
       "    <tr>\n",
       "      <th>AL645608.418</th>\n",
       "      <td>0</td>\n",
       "      <td>18</td>\n",
       "      <td>0</td>\n",
       "      <td>0</td>\n",
       "      <td>0</td>\n",
       "      <td>18</td>\n",
       "      <td>0</td>\n",
       "      <td>0</td>\n",
       "      <td>0</td>\n",
       "      <td>0</td>\n",
       "      <td>...</td>\n",
       "      <td>13</td>\n",
       "      <td>17</td>\n",
       "      <td>1.058824</td>\n",
       "      <td>1.384615</td>\n",
       "      <td>1.307692</td>\n",
       "      <td>16</td>\n",
       "      <td>12</td>\n",
       "      <td>1</td>\n",
       "      <td>13</td>\n",
       "      <td>NaN</td>\n",
       "    </tr>\n",
       "  </tbody>\n",
       "</table>\n",
       "<p>8 rows × 26 columns</p>\n",
       "</div>"
      ],
      "text/plain": [
       "               reads  noise_reads  perfect_molecule_barcodes  \\\n",
       "ACAP31             0            1                          0   \n",
       "AGRN1              0            1                          0   \n",
       "AL627309.11        0            1                          0   \n",
       "AL627309.526       0           26                          0   \n",
       "AL627309.7245      0          245                          0   \n",
       "AL645608.27        0            7                          0   \n",
       "AL645608.31        0            1                          0   \n",
       "AL645608.418       0           18                          0   \n",
       "\n",
       "               reads_mapped_exonic  reads_mapped_intronic  reads_mapped_utr  \\\n",
       "ACAP31                           0                      0                 1   \n",
       "AGRN1                            0                      0                 1   \n",
       "AL627309.11                      0                      0                 1   \n",
       "AL627309.526                     0                      0                26   \n",
       "AL627309.7245                    0                      0               245   \n",
       "AL645608.27                      0                      0                 7   \n",
       "AL645608.31                      0                      0                 1   \n",
       "AL645608.418                     0                      0                18   \n",
       "\n",
       "               reads_mapped_uniquely  reads_mapped_multiple  duplicate_reads  \\\n",
       "ACAP31                             0                      0                1   \n",
       "AGRN1                              0                      0                1   \n",
       "AL627309.11                        0                      0                1   \n",
       "AL627309.526                       0                      6               26   \n",
       "AL627309.7245                      0                     43                0   \n",
       "AL645608.27                        0                      2                0   \n",
       "AL645608.31                        0                      0                0   \n",
       "AL645608.418                       0                      0                0   \n",
       "\n",
       "               spliced_reads           ...             \\\n",
       "ACAP31                     0           ...              \n",
       "AGRN1                      0           ...              \n",
       "AL627309.11                0           ...              \n",
       "AL627309.526               0           ...              \n",
       "AL627309.7245              0           ...              \n",
       "AL645608.27                0           ...              \n",
       "AL645608.31                0           ...              \n",
       "AL645608.418               0           ...              \n",
       "\n",
       "               genomic_read_quality_variance  molecules  fragments  \\\n",
       "ACAP31                                     1          1   1.000000   \n",
       "AGRN1                                      1          1   1.000000   \n",
       "AL627309.11                                1          1   1.000000   \n",
       "AL627309.526                               8         15   1.733333   \n",
       "AL627309.7245                             59        176   1.392045   \n",
       "AL645608.27                                4          5   1.400000   \n",
       "AL645608.31                                1          1   1.000000   \n",
       "AL645608.418                              13         17   1.058824   \n",
       "\n",
       "               reads_per_molecule  reads_per_fragment  fragments_per_molecule  \\\n",
       "ACAP31                   1.000000            1.000000                       1   \n",
       "AGRN1                    1.000000            1.000000                       1   \n",
       "AL627309.11              1.000000            1.000000                       1   \n",
       "AL627309.526             3.250000            1.875000                       7   \n",
       "AL627309.7245            4.152542            2.983051                     124   \n",
       "AL645608.27              1.750000            1.250000                       4   \n",
       "AL645608.31              1.000000            1.000000                       1   \n",
       "AL645608.418             1.384615            1.307692                      16   \n",
       "\n",
       "               fragments_with_single_read_evidence  \\\n",
       "ACAP31                                           1   \n",
       "AGRN1                                            1   \n",
       "AL627309.11                                      1   \n",
       "AL627309.526                                     2   \n",
       "AL627309.7245                                   22   \n",
       "AL645608.27                                      2   \n",
       "AL645608.31                                      1   \n",
       "AL645608.418                                    12   \n",
       "\n",
       "               molecules_with_single_read_evidence  \\\n",
       "ACAP31                                           0   \n",
       "AGRN1                                            0   \n",
       "AL627309.11                                      0   \n",
       "AL627309.526                                     6   \n",
       "AL627309.7245                                   38   \n",
       "AL645608.27                                      2   \n",
       "AL645608.31                                      0   \n",
       "AL645608.418                                     1   \n",
       "\n",
       "               number_cells_detected_multiple  number_cells_expressing  \n",
       "ACAP31                                      1                      NaN  \n",
       "AGRN1                                       1                      NaN  \n",
       "AL627309.11                                 1                      NaN  \n",
       "AL627309.526                                8                      NaN  \n",
       "AL627309.7245                              57                      NaN  \n",
       "AL645608.27                                 4                      NaN  \n",
       "AL645608.31                                 1                      NaN  \n",
       "AL645608.418                               13                      NaN  \n",
       "\n",
       "[8 rows x 26 columns]"
      ]
     },
     "execution_count": 66,
     "metadata": {},
     "output_type": "execute_result"
    }
   ],
   "source": [
    "gene_metrics"
   ]
  },
  {
   "cell_type": "code",
   "execution_count": 69,
   "metadata": {
    "collapsed": false,
    "deletable": true,
    "editable": true,
    "scrolled": true
   },
   "outputs": [
    {
     "name": "stdout",
     "output_type": "stream",
     "text": [
      ",reads,noise_reads,perfect_molecule_barcodes,reads_mapped_exonic,reads_mapped_intronic,reads_mapped_utr,reads_mapped_uniquely,reads_mapped_multiple,duplicate_reads,spliced_reads,antisense_reads,molecule_barcode_fraction_bases_above_30_mean,molecule_barcode_fraction_bases_above_30_variance,genomic_reads_fraction_bases_quality_above_30_mean,genomic_reads_fraction_bases_quality_above_30_variance,genomic_read_quality_mean,genomic_read_quality_variance,molecules,fragments,reads_per_molecule,reads_per_fragment,fragments_per_molecule,fragments_with_single_read_evidence,molecules_with_single_read_evidence,number_cells_detected_multiple,number_cells_expressing\r\n",
      "ACAP3,1,0,1,0,0,0,1,0,0,1,0,1.0,nan,0.8877551020408163,nan,0.0,nan,1,1,1.0,1.0,1.0,1,1,0,1\r\n",
      "AGRN,1,0,1,0,0,0,1,0,0,1,0,1.0,nan,0.3979591836734694,nan,0.0,nan,1,1,1.0,1.0,1.0,1,1,0,1\r\n",
      "AL627309.1,1,0,1,0,0,0,1,0,0,1,0,0.8,nan,0.4270833333333333,nan,0.0,nan,1,1,1.0,1.0,1.0,1,1,0,1\r\n",
      "AL627309.5,26,0,26,0,0,0,26,0,6,26,0,0.9884615384615385,0.0010615384615384619,0.8148357472599155,0.02818637889146239,0.0,nan,8,15,1.7333333333333334,3.25,1.875,7,2,6,8\r\n",
      "AL627309.7,245,0,245,0,0,0,245,0,43,0,0,0.9832653061224491,0.005087654734024759,0.7681442526176698,0.03459077695708153,0.0,nan,59,176,1.3920454545454546,4.1525423728813555,2.983050847457627,124,22,38,57\r\n",
      "AL645608.2,7,0,7,0,0,0,7,0,2,0,0,0.9857142857142857,0.00142857142857143,0.7215743440233235,0.05371769699133296,0.0,nan,4,5,1.4,1.75,1.25,4,2,2,4\r\n",
      "AL645608.3,1,0,1,0,0,0,1,0,0,0,0,0.7,nan,0.15463917525773196,nan,0.0,nan,1,1,1.0,1.0,1.0,1,1,0,1\r\n",
      "AL645608.4,18,0,18,0,0,0,18,0,0,0,0,0.9444444444444444,0.012026143790849672,0.5089380971044231,0.08488064356706926,0.0,nan,13,17,1.0588235294117647,1.3846153846153846,1.3076923076923077,16,12,1,13\r\n"
     ]
    }
   ],
   "source": [
    "!cat ../../../gene_metrics.csv"
   ]
  },
  {
   "cell_type": "code",
   "execution_count": 70,
   "metadata": {
    "collapsed": true,
    "deletable": true,
    "editable": true
   },
   "outputs": [],
   "source": [
    "test = pd.read_csv('/Users/carra1/projects/humancellatlas/sctools/src/sctools/test/data/gene_metrics.csv', index_col=0)"
   ]
  },
  {
   "cell_type": "code",
   "execution_count": 71,
   "metadata": {
    "collapsed": false,
    "deletable": true,
    "editable": true
   },
   "outputs": [
    {
     "data": {
      "text/plain": [
       "ACAP3           1\n",
       "AGRN            1\n",
       "AL627309.1      1\n",
       "AL627309.5     26\n",
       "AL627309.7    245\n",
       "AL645608.2      7\n",
       "AL645608.3      1\n",
       "AL645608.4     18\n",
       "Name: n_reads, dtype: int64"
      ]
     },
     "execution_count": 71,
     "metadata": {},
     "output_type": "execute_result"
    }
   ],
   "source": [
    "test['n_reads']"
   ]
  },
  {
   "cell_type": "code",
   "execution_count": null,
   "metadata": {
    "collapsed": true,
    "deletable": true,
    "editable": true
   },
   "outputs": [],
   "source": [
    "pd.read_csv('')"
   ]
  }
 ],
 "metadata": {
  "hide_input": false,
  "kernelspec": {
   "display_name": "Python 3",
   "language": "python",
   "name": "python3"
  },
  "language_info": {
   "codemirror_mode": {
    "name": "ipython",
    "version": 3
   },
   "file_extension": ".py",
   "mimetype": "text/x-python",
   "name": "python",
   "nbconvert_exporter": "python",
   "pygments_lexer": "ipython3",
   "version": "3.6.4"
  },
  "toc": {
   "nav_menu": {},
   "number_sections": true,
   "sideBar": true,
   "skip_h1_title": false,
   "toc_cell": false,
   "toc_position": {},
   "toc_section_display": "block",
   "toc_window_display": false
  }
 },
 "nbformat": 4,
 "nbformat_minor": 2
}
