{
 "cells": [
  {
   "cell_type": "markdown",
   "metadata": {
    "deletable": true,
    "editable": true
   },
   "source": [
    "# Load Testing Data"
   ]
  },
  {
   "cell_type": "code",
   "execution_count": 1,
   "metadata": {
    "collapsed": true,
    "deletable": true,
    "editable": true
   },
   "outputs": [],
   "source": [
    "import pandas as pd\n",
    "import numpy as np\n",
    "import os"
   ]
  },
  {
   "cell_type": "code",
   "execution_count": 6,
   "metadata": {
    "collapsed": true,
    "deletable": true,
    "editable": true
   },
   "outputs": [],
   "source": [
    "field_names = [\n",
    "    'qname', 'flag', 'reference', 'position', 'mapq', 'cigar', 'rnext', 'pnext', 'tlen', 'sequence', 'quality', \n",
    "    'CB', 'UB', 'MD', 'GE', 'XF', 'RG', 'NH', 'HI', 'jI', 'NM', 'jM', 'nM', 'CR', 'SR', 'UR', 'AS', 'GS', 'CY', 'SY', 'UY'\n",
    "]\n",
    "\n",
    "input_sam_file = 'data/small-gene-sorted.sam'  # note needs a sam file\n",
    "data = pd.read_table(input_sam_file, header=None)\n",
    "data.columns = field_names\n",
    "\n",
    "results_scalar = {}  # will hold the calculations we make"
   ]
  },
  {
   "cell_type": "markdown",
   "metadata": {
    "deletable": true,
    "editable": true
   },
   "source": [
    "# Build Expectations for Testing Data"
   ]
  },
  {
   "cell_type": "markdown",
   "metadata": {
    "deletable": true,
    "editable": true
   },
   "source": [
    "## Number of Reads"
   ]
  },
  {
   "cell_type": "code",
   "execution_count": 7,
   "metadata": {
    "collapsed": false,
    "deletable": true,
    "editable": true
   },
   "outputs": [
    {
     "name": "stdout",
     "output_type": "stream",
     "text": [
      "300\n"
     ]
    }
   ],
   "source": [
    "results_scalar['n_reads'] = len(data)\n",
    "print(results_scalar['n_reads'])"
   ]
  },
  {
   "cell_type": "markdown",
   "metadata": {
    "deletable": true,
    "editable": true
   },
   "source": [
    "## Number of Genes"
   ]
  },
  {
   "cell_type": "code",
   "execution_count": 8,
   "metadata": {
    "collapsed": false,
    "deletable": true,
    "editable": true
   },
   "outputs": [
    {
     "name": "stdout",
     "output_type": "stream",
     "text": [
      "8\n"
     ]
    }
   ],
   "source": [
    "results_scalar['n_genes'] = len(data.groupby(['GE']))\n",
    "print(results_scalar['n_genes'])"
   ]
  },
  {
   "cell_type": "markdown",
   "metadata": {
    "deletable": true,
    "editable": true
   },
   "source": [
    "Gene table should have 8 entries plus a header for a total of 9 lines"
   ]
  },
  {
   "cell_type": "markdown",
   "metadata": {
    "deletable": true,
    "editable": true
   },
   "source": [
    "## Number of Molecules\n",
    "\n",
    "Molecules are defined as a unique triplet of CB, UB, and GE"
   ]
  },
  {
   "cell_type": "code",
   "execution_count": 9,
   "metadata": {
    "collapsed": false,
    "deletable": true,
    "editable": true
   },
   "outputs": [
    {
     "name": "stdout",
     "output_type": "stream",
     "text": [
      "88\n"
     ]
    }
   ],
   "source": [
    "results_scalar['n_molecules'] = len(data.groupby(['CB', 'UB', 'GE']))\n",
    "print(results_scalar['n_molecules'])"
   ]
  },
  {
   "cell_type": "markdown",
   "metadata": {
    "deletable": true,
    "editable": true
   },
   "source": [
    "## Number of Fragments\n",
    "\n",
    "Fragments are defined as molecules are (CB, UB, GE) but must additionally have a unique position"
   ]
  },
  {
   "cell_type": "code",
   "execution_count": 10,
   "metadata": {
    "collapsed": false,
    "deletable": true,
    "editable": true
   },
   "outputs": [
    {
     "name": "stdout",
     "output_type": "stream",
     "text": [
      "217\n"
     ]
    }
   ],
   "source": [
    "results_scalar['n_fragments'] = len(data.groupby(['CB', 'UB', 'GE', 'position']))\n",
    "print(results_scalar['n_fragments'])"
   ]
  },
  {
   "cell_type": "markdown",
   "metadata": {
    "deletable": true,
    "editable": true
   },
   "source": [
    "## Most Abundant Gene\n",
    "\n",
    "Based on the above, at least one of the genes has to be observed more than once. Which is it? "
   ]
  },
  {
   "cell_type": "code",
   "execution_count": 11,
   "metadata": {
    "collapsed": false,
    "deletable": true,
    "editable": true
   },
   "outputs": [
    {
     "name": "stdout",
     "output_type": "stream",
     "text": [
      "AL627309.7 245\n"
     ]
    }
   ],
   "source": [
    "results_scalar['most_abundant'] = data.groupby(['GE']).size().idxmax().split(':')[-1]\n",
    "results_scalar['most_abundant_gene_n_observations'] = data.groupby(['GE']).size().max()\n",
    "print(results_scalar['most_abundant'], results_scalar['most_abundant_gene_n_observations'])"
   ]
  },
  {
   "cell_type": "code",
   "execution_count": 12,
   "metadata": {
    "collapsed": true,
    "deletable": true,
    "editable": true
   },
   "outputs": [],
   "source": [
    "results_scalar['perfect_molecule_barcodes'] = 0\n",
    "for c, r in zip(data['UB'], data['UR']):\n",
    "    if c.split(':')[-1] == r.split(':')[-1]:\n",
    "        results_scalar['perfect_molecule_barcodes'] += 1"
   ]
  },
  {
   "cell_type": "markdown",
   "metadata": {
    "deletable": true,
    "editable": true
   },
   "source": [
    "Calculate the alignment metrics"
   ]
  },
  {
   "cell_type": "code",
   "execution_count": 13,
   "metadata": {
    "collapsed": true,
    "deletable": true,
    "editable": true
   },
   "outputs": [],
   "source": [
    "results_scalar['reads_mapped_exonic'] = sum(data['XF'] == 'XF:Z:CODING')"
   ]
  },
  {
   "cell_type": "code",
   "execution_count": 14,
   "metadata": {
    "collapsed": true,
    "deletable": true,
    "editable": true
   },
   "outputs": [],
   "source": [
    "results_scalar['reads_mapped_intronic'] = sum(data['XF'] == 'XF:Z:INTRONIC')"
   ]
  },
  {
   "cell_type": "code",
   "execution_count": 15,
   "metadata": {
    "collapsed": true,
    "deletable": true,
    "editable": true
   },
   "outputs": [],
   "source": [
    "results_scalar['reads_mapped_utr'] = sum(data['XF'] == 'XF:Z:UTR')"
   ]
  },
  {
   "cell_type": "code",
   "execution_count": 16,
   "metadata": {
    "collapsed": true,
    "deletable": true,
    "editable": true
   },
   "outputs": [],
   "source": [
    "results_scalar['reads_mapped_uniquely'] = sum(data['NH'] == 'NH:i:1')"
   ]
  },
  {
   "cell_type": "code",
   "execution_count": 17,
   "metadata": {
    "collapsed": true,
    "deletable": true,
    "editable": true
   },
   "outputs": [],
   "source": [
    "results_scalar['duplicate_reads'] = sum((data['flag'] & 1024).astype(bool))"
   ]
  },
  {
   "cell_type": "code",
   "execution_count": 18,
   "metadata": {
    "collapsed": true,
    "deletable": true,
    "editable": true
   },
   "outputs": [],
   "source": [
    "results_scalar['spliced_reads'] = sum(1 for v in data['cigar'] if 'N' in v)"
   ]
  },
  {
   "cell_type": "markdown",
   "metadata": {
    "deletable": true,
    "editable": true
   },
   "source": [
    "Calculate the higher-order metrics"
   ]
  },
  {
   "cell_type": "code",
   "execution_count": 42,
   "metadata": {
    "collapsed": true
   },
   "outputs": [],
   "source": [
    "calc_func_fraction = lambda x: sum(1 for c in x.split(':')[-1] if ord(c) > 63) / len(x.split(':')[-1])\n",
    "calc_func_mean = lambda x: np.mean([ord(c) - 33 for c in x.split(':')[-1]])\n",
    "\n",
    "data['num_UY_qual_fraction'] = data['UY'].apply(calc_func_fraction)\n",
    "\n",
    "data['num_base_qual_fraction'] = data['quality'].apply(calc_func_fraction)\n",
    "data['num_base_qual_mean'] = data['quality'].apply(calc_func_mean)\n",
    "\n",
    "grouped_by_gene = data.groupby(['GE'])"
   ]
  },
  {
   "cell_type": "code",
   "execution_count": 43,
   "metadata": {
    "collapsed": true,
    "deletable": true,
    "editable": true
   },
   "outputs": [],
   "source": [
    "results_series = {}"
   ]
  },
  {
   "cell_type": "code",
   "execution_count": 44,
   "metadata": {
    "collapsed": true
   },
   "outputs": [],
   "source": [
    "# vector values\n",
    "# I changed these to retain the index to make merging into a dataframe easier, and guarantee same order. \n",
    "results_series['molecule_barcode_fraction_bases_above_30_mean'] = grouped_by_gene.mean()['num_UY_qual_fraction']\n",
    "results_series['molecule_barcode_fraction_bases_above_30_variance'] = grouped_by_gene.var()['num_UY_qual_fraction']\n",
    "\n",
    "results_series['genomic_reads_fraction_bases_quality_above_30_mean'] = grouped_by_gene.mean()['num_base_qual_fraction']\n",
    "results_series['genomic_reads_fraction_bases_quality_above_30_variance'] = grouped_by_gene.var()['num_base_qual_fraction']\n",
    "results_series['genomic_read_quality_mean'] = grouped_by_gene.mean()['num_base_qual_mean']\n",
    "results_series['genomic_read_quality_variance'] = grouped_by_gene.var()['num_base_qual_mean']\n",
    "\n",
    "reads_per_gene = data.groupby(['GE']).size()"
   ]
  },
  {
   "cell_type": "code",
   "execution_count": 46,
   "metadata": {
    "collapsed": true
   },
   "outputs": [],
   "source": [
    "molecules_per_gene = grouped_by_gene.apply(lambda x: len(x.groupby(['UB', 'CB']).size()))\n",
    "fragments_per_gene = grouped_by_gene.apply(lambda x: len(x.groupby(['UB', 'CB', 'position']).size()))\n",
    "reads_per_molecule = reads_per_gene / molecules_per_gene\n",
    "reads_per_fragment = reads_per_gene / fragments_per_gene\n",
    "fragments_per_molecule = fragments_per_gene / molecules_per_gene\n",
    "results_series['reads_per_molecule'] = reads_per_molecule\n",
    "results_series['reads_per_fragment'] = reads_per_fragment\n",
    "results_series['fragments_per_molecule'] = fragments_per_molecule\n",
    "\n",
    "# scalar values\n",
    "results_scalar['fragments_with_single_read_evidence'] = np.sum(data.groupby(['CB', 'UB', 'GE', 'position']).size() == 1)\n",
    "results_scalar['molecules_with_single_read_evidence'] = np.sum(data.groupby(['CB', 'UB', 'GE']).size() == 1)"
   ]
  },
  {
   "cell_type": "code",
   "execution_count": 48,
   "metadata": {
    "collapsed": false
   },
   "outputs": [
    {
     "data": {
      "text/html": [
       "<div>\n",
       "<style scoped>\n",
       "    .dataframe tbody tr th:only-of-type {\n",
       "        vertical-align: middle;\n",
       "    }\n",
       "\n",
       "    .dataframe tbody tr th {\n",
       "        vertical-align: top;\n",
       "    }\n",
       "\n",
       "    .dataframe thead th {\n",
       "        text-align: right;\n",
       "    }\n",
       "</style>\n",
       "<table border=\"1\" class=\"dataframe\">\n",
       "  <thead>\n",
       "    <tr style=\"text-align: right;\">\n",
       "      <th></th>\n",
       "      <th>fragments_per_molecule</th>\n",
       "      <th>genomic_read_quality_mean</th>\n",
       "      <th>genomic_read_quality_variance</th>\n",
       "      <th>genomic_reads_fraction_bases_quality_above_30_mean</th>\n",
       "      <th>genomic_reads_fraction_bases_quality_above_30_variance</th>\n",
       "      <th>molecule_barcode_fraction_bases_above_30_mean</th>\n",
       "      <th>molecule_barcode_fraction_bases_above_30_variance</th>\n",
       "      <th>reads_per_fragment</th>\n",
       "      <th>reads_per_molecule</th>\n",
       "    </tr>\n",
       "    <tr>\n",
       "      <th>GE</th>\n",
       "      <th></th>\n",
       "      <th></th>\n",
       "      <th></th>\n",
       "      <th></th>\n",
       "      <th></th>\n",
       "      <th></th>\n",
       "      <th></th>\n",
       "      <th></th>\n",
       "      <th></th>\n",
       "    </tr>\n",
       "  </thead>\n",
       "  <tbody>\n",
       "    <tr>\n",
       "      <th>GE:Z:ACAP3</th>\n",
       "      <td>1.000000</td>\n",
       "      <td>36.214286</td>\n",
       "      <td>NaN</td>\n",
       "      <td>0.887755</td>\n",
       "      <td>NaN</td>\n",
       "      <td>1.000000</td>\n",
       "      <td>NaN</td>\n",
       "      <td>1.000000</td>\n",
       "      <td>1.000000</td>\n",
       "    </tr>\n",
       "    <tr>\n",
       "      <th>GE:Z:AGRN</th>\n",
       "      <td>1.000000</td>\n",
       "      <td>24.846939</td>\n",
       "      <td>NaN</td>\n",
       "      <td>0.397959</td>\n",
       "      <td>NaN</td>\n",
       "      <td>1.000000</td>\n",
       "      <td>NaN</td>\n",
       "      <td>1.000000</td>\n",
       "      <td>1.000000</td>\n",
       "    </tr>\n",
       "    <tr>\n",
       "      <th>GE:Z:AL627309.1</th>\n",
       "      <td>1.000000</td>\n",
       "      <td>25.306122</td>\n",
       "      <td>NaN</td>\n",
       "      <td>0.418367</td>\n",
       "      <td>NaN</td>\n",
       "      <td>0.800000</td>\n",
       "      <td>NaN</td>\n",
       "      <td>1.000000</td>\n",
       "      <td>1.000000</td>\n",
       "    </tr>\n",
       "    <tr>\n",
       "      <th>GE:Z:AL627309.5</th>\n",
       "      <td>1.875000</td>\n",
       "      <td>35.382261</td>\n",
       "      <td>18.336345</td>\n",
       "      <td>0.815542</td>\n",
       "      <td>0.027979</td>\n",
       "      <td>0.988462</td>\n",
       "      <td>0.001062</td>\n",
       "      <td>1.733333</td>\n",
       "      <td>3.250000</td>\n",
       "    </tr>\n",
       "    <tr>\n",
       "      <th>GE:Z:AL627309.7</th>\n",
       "      <td>2.983051</td>\n",
       "      <td>34.088130</td>\n",
       "      <td>21.543840</td>\n",
       "      <td>0.768055</td>\n",
       "      <td>0.034475</td>\n",
       "      <td>0.983265</td>\n",
       "      <td>0.005088</td>\n",
       "      <td>1.392045</td>\n",
       "      <td>4.152542</td>\n",
       "    </tr>\n",
       "    <tr>\n",
       "      <th>GE:Z:AL645608.2</th>\n",
       "      <td>1.250000</td>\n",
       "      <td>33.036443</td>\n",
       "      <td>33.657186</td>\n",
       "      <td>0.721574</td>\n",
       "      <td>0.053718</td>\n",
       "      <td>0.985714</td>\n",
       "      <td>0.001429</td>\n",
       "      <td>1.400000</td>\n",
       "      <td>1.750000</td>\n",
       "    </tr>\n",
       "    <tr>\n",
       "      <th>GE:Z:AL645608.3</th>\n",
       "      <td>1.000000</td>\n",
       "      <td>20.857143</td>\n",
       "      <td>NaN</td>\n",
       "      <td>0.163265</td>\n",
       "      <td>NaN</td>\n",
       "      <td>0.700000</td>\n",
       "      <td>NaN</td>\n",
       "      <td>1.000000</td>\n",
       "      <td>1.000000</td>\n",
       "    </tr>\n",
       "    <tr>\n",
       "      <th>GE:Z:AL645608.4</th>\n",
       "      <td>1.307692</td>\n",
       "      <td>27.269274</td>\n",
       "      <td>54.069164</td>\n",
       "      <td>0.507937</td>\n",
       "      <td>0.085290</td>\n",
       "      <td>0.944444</td>\n",
       "      <td>0.012026</td>\n",
       "      <td>1.058824</td>\n",
       "      <td>1.384615</td>\n",
       "    </tr>\n",
       "  </tbody>\n",
       "</table>\n",
       "</div>"
      ],
      "text/plain": [
       "                 fragments_per_molecule  genomic_read_quality_mean  \\\n",
       "GE                                                                   \n",
       "GE:Z:ACAP3                     1.000000                  36.214286   \n",
       "GE:Z:AGRN                      1.000000                  24.846939   \n",
       "GE:Z:AL627309.1                1.000000                  25.306122   \n",
       "GE:Z:AL627309.5                1.875000                  35.382261   \n",
       "GE:Z:AL627309.7                2.983051                  34.088130   \n",
       "GE:Z:AL645608.2                1.250000                  33.036443   \n",
       "GE:Z:AL645608.3                1.000000                  20.857143   \n",
       "GE:Z:AL645608.4                1.307692                  27.269274   \n",
       "\n",
       "                 genomic_read_quality_variance  \\\n",
       "GE                                               \n",
       "GE:Z:ACAP3                                 NaN   \n",
       "GE:Z:AGRN                                  NaN   \n",
       "GE:Z:AL627309.1                            NaN   \n",
       "GE:Z:AL627309.5                      18.336345   \n",
       "GE:Z:AL627309.7                      21.543840   \n",
       "GE:Z:AL645608.2                      33.657186   \n",
       "GE:Z:AL645608.3                            NaN   \n",
       "GE:Z:AL645608.4                      54.069164   \n",
       "\n",
       "                 genomic_reads_fraction_bases_quality_above_30_mean  \\\n",
       "GE                                                                    \n",
       "GE:Z:ACAP3                                                0.887755    \n",
       "GE:Z:AGRN                                                 0.397959    \n",
       "GE:Z:AL627309.1                                           0.418367    \n",
       "GE:Z:AL627309.5                                           0.815542    \n",
       "GE:Z:AL627309.7                                           0.768055    \n",
       "GE:Z:AL645608.2                                           0.721574    \n",
       "GE:Z:AL645608.3                                           0.163265    \n",
       "GE:Z:AL645608.4                                           0.507937    \n",
       "\n",
       "                 genomic_reads_fraction_bases_quality_above_30_variance  \\\n",
       "GE                                                                        \n",
       "GE:Z:ACAP3                                                     NaN        \n",
       "GE:Z:AGRN                                                      NaN        \n",
       "GE:Z:AL627309.1                                                NaN        \n",
       "GE:Z:AL627309.5                                           0.027979        \n",
       "GE:Z:AL627309.7                                           0.034475        \n",
       "GE:Z:AL645608.2                                           0.053718        \n",
       "GE:Z:AL645608.3                                                NaN        \n",
       "GE:Z:AL645608.4                                           0.085290        \n",
       "\n",
       "                 molecule_barcode_fraction_bases_above_30_mean  \\\n",
       "GE                                                               \n",
       "GE:Z:ACAP3                                            1.000000   \n",
       "GE:Z:AGRN                                             1.000000   \n",
       "GE:Z:AL627309.1                                       0.800000   \n",
       "GE:Z:AL627309.5                                       0.988462   \n",
       "GE:Z:AL627309.7                                       0.983265   \n",
       "GE:Z:AL645608.2                                       0.985714   \n",
       "GE:Z:AL645608.3                                       0.700000   \n",
       "GE:Z:AL645608.4                                       0.944444   \n",
       "\n",
       "                 molecule_barcode_fraction_bases_above_30_variance  \\\n",
       "GE                                                                   \n",
       "GE:Z:ACAP3                                                     NaN   \n",
       "GE:Z:AGRN                                                      NaN   \n",
       "GE:Z:AL627309.1                                                NaN   \n",
       "GE:Z:AL627309.5                                           0.001062   \n",
       "GE:Z:AL627309.7                                           0.005088   \n",
       "GE:Z:AL645608.2                                           0.001429   \n",
       "GE:Z:AL645608.3                                                NaN   \n",
       "GE:Z:AL645608.4                                           0.012026   \n",
       "\n",
       "                 reads_per_fragment  reads_per_molecule  \n",
       "GE                                                       \n",
       "GE:Z:ACAP3                 1.000000            1.000000  \n",
       "GE:Z:AGRN                  1.000000            1.000000  \n",
       "GE:Z:AL627309.1            1.000000            1.000000  \n",
       "GE:Z:AL627309.5            1.733333            3.250000  \n",
       "GE:Z:AL627309.7            1.392045            4.152542  \n",
       "GE:Z:AL645608.2            1.400000            1.750000  \n",
       "GE:Z:AL645608.3            1.000000            1.000000  \n",
       "GE:Z:AL645608.4            1.058824            1.384615  "
      ]
     },
     "execution_count": 48,
     "metadata": {},
     "output_type": "execute_result"
    }
   ],
   "source": [
    "pd.DataFrame(results_series)"
   ]
  },
  {
   "cell_type": "markdown",
   "metadata": {
    "deletable": true,
    "editable": true
   },
   "source": [
    "# Write Results to File for Automated Testing"
   ]
  },
  {
   "cell_type": "code",
   "execution_count": 51,
   "metadata": {
    "collapsed": true,
    "deletable": true,
    "editable": true
   },
   "outputs": [],
   "source": [
    "pd.Series(results_scalar).to_csv('%s_testing_knowledge_scalar.csv' % input_sam_file.replace('.sam', ''))\n",
    "pd.DataFrame(results_series).to_csv('%s_testing_knowledge_series.csv' % input_sam_file.replace('.sam', ''))"
   ]
  },
  {
   "cell_type": "code",
   "execution_count": 54,
   "metadata": {
    "collapsed": false,
    "deletable": true,
    "editable": true
   },
   "outputs": [
    {
     "data": {
      "text/plain": [
       "True"
      ]
     },
     "execution_count": 54,
     "metadata": {},
     "output_type": "execute_result"
    }
   ],
   "source": [
    "# do a comparison of the whole 2d dataframe at once\n",
    "np.allclose(\n",
    "    pd.DataFrame(results_series).fillna(0).values,  # fill nans with zero, call values to get the numpy array the dataframe is based on\n",
    "    pd.read_csv('data/small-gene-sorted_testing_knowledge_series.csv', index_col=0, header=0).fillna(0).values\n",
    ")"
   ]
  },
  {
   "cell_type": "code",
   "execution_count": null,
   "metadata": {
    "collapsed": true
   },
   "outputs": [],
   "source": [
    "# to get most_abundant alone: "
   ]
  },
  {
   "cell_type": "code",
   "execution_count": 64,
   "metadata": {
    "collapsed": false,
    "deletable": true,
    "editable": true
   },
   "outputs": [
    {
     "data": {
      "text/plain": [
       "True"
      ]
     },
     "execution_count": 64,
     "metadata": {},
     "output_type": "execute_result"
    }
   ],
   "source": [
    "test_read_scalar = pd.read_csv('data/small-gene-sorted_testing_knowledge_scalar.csv', index_col=0, header=None, squeeze=True)\n",
    "\n",
    "# extract this, we're going to drop it from the array to do some conversion to numeric\n",
    "most_abundant = test_read_scalar['most_abundant'] \n",
    "\n",
    "# drop most abundant, convert to float, fill any NaN values with 0, and call .values to get the numpy array pandas objects are based on.\n",
    "for_comparison = test_read_scalar.drop('most_abundant').astype(float).fillna(0).values\n",
    "\n",
    "\n",
    "# note, have to drop the string value and convert to float before this works. \n",
    "np.allclose(\n",
    "    pd.Series(results_scalar).drop('most_abundant').fillna(0).values,  # do the same thing as above to the one in memory\n",
    "    for_comparison\n",
    ")"
   ]
  },
  {
   "cell_type": "code",
   "execution_count": 65,
   "metadata": {
    "collapsed": false
   },
   "outputs": [
    {
     "data": {
      "text/plain": [
       "GE\n",
       "GE:Z:ACAP3         36.214286\n",
       "GE:Z:AGRN          24.846939\n",
       "GE:Z:AL627309.1    25.306122\n",
       "GE:Z:AL627309.5    35.382261\n",
       "GE:Z:AL627309.7    34.088130\n",
       "GE:Z:AL645608.2    33.036443\n",
       "GE:Z:AL645608.3    20.857143\n",
       "GE:Z:AL645608.4    27.269274\n",
       "Name: genomic_read_quality_mean, dtype: float64"
      ]
     },
     "execution_count": 65,
     "metadata": {},
     "output_type": "execute_result"
    }
   ],
   "source": [
    "# get a metric from a dataframe: \n",
    "df = pd.DataFrame(results_series)\n",
    "df['genomic_read_quality_mean']"
   ]
  },
  {
   "cell_type": "code",
   "execution_count": 73,
   "metadata": {
    "collapsed": false,
    "deletable": true,
    "editable": true
   },
   "outputs": [],
   "source": [
    "# get a numpy array from the dataframe\n",
    "compare_me = df['genomic_read_quality_mean'].values"
   ]
  },
  {
   "cell_type": "code",
   "execution_count": 74,
   "metadata": {
    "collapsed": false
   },
   "outputs": [
    {
     "data": {
      "text/plain": [
       "True"
      ]
     },
     "execution_count": 74,
     "metadata": {},
     "output_type": "execute_result"
    }
   ],
   "source": [
    "# compare two numpy arrays that are slightly different\n",
    "eps = np.random.rand(8) * 1e-8\n",
    "np.allclose(compare_me, compare_me + eps)\n"
   ]
  },
  {
   "cell_type": "code",
   "execution_count": 75,
   "metadata": {
    "collapsed": false
   },
   "outputs": [
    {
     "data": {
      "text/plain": [
       "False"
      ]
     },
     "execution_count": 75,
     "metadata": {},
     "output_type": "execute_result"
    }
   ],
   "source": [
    "# it is actually discriminative, though\n",
    "np.allclose(compare_me, np.arange(8))"
   ]
  },
  {
   "cell_type": "markdown",
   "metadata": {
    "deletable": true,
    "editable": true
   },
   "source": [
    "# Look at the metrics output"
   ]
  },
  {
   "cell_type": "code",
   "execution_count": 432,
   "metadata": {
    "collapsed": true,
    "deletable": true,
    "editable": true
   },
   "outputs": [],
   "source": [
    "gene_metrics = pd.read_csv('data/gene_metrics.csv', index_col=0)"
   ]
  },
  {
   "cell_type": "code",
   "execution_count": 433,
   "metadata": {
    "collapsed": false,
    "deletable": true,
    "editable": true,
    "scrolled": true
   },
   "outputs": [
    {
     "data": {
      "text/html": [
       "<div>\n",
       "<style scoped>\n",
       "    .dataframe tbody tr th:only-of-type {\n",
       "        vertical-align: middle;\n",
       "    }\n",
       "\n",
       "    .dataframe tbody tr th {\n",
       "        vertical-align: top;\n",
       "    }\n",
       "\n",
       "    .dataframe thead th {\n",
       "        text-align: right;\n",
       "    }\n",
       "</style>\n",
       "<table border=\"1\" class=\"dataframe\">\n",
       "  <thead>\n",
       "    <tr style=\"text-align: right;\">\n",
       "      <th></th>\n",
       "      <th>n_reads</th>\n",
       "      <th>noise_reads</th>\n",
       "      <th>perfect_molecule_barcodes</th>\n",
       "      <th>reads_mapped_exonic</th>\n",
       "      <th>reads_mapped_intronic</th>\n",
       "      <th>reads_mapped_utr</th>\n",
       "      <th>reads_mapped_uniquely</th>\n",
       "      <th>reads_mapped_multiple</th>\n",
       "      <th>duplicate_reads</th>\n",
       "      <th>spliced_reads</th>\n",
       "      <th>...</th>\n",
       "      <th>genomic_read_quality_variance</th>\n",
       "      <th>n_molecules</th>\n",
       "      <th>n_fragments</th>\n",
       "      <th>reads_per_molecule</th>\n",
       "      <th>reads_per_fragment</th>\n",
       "      <th>fragments_per_molecule</th>\n",
       "      <th>fragments_with_single_read_evidence</th>\n",
       "      <th>molecules_with_single_read_evidence</th>\n",
       "      <th>number_cells_detected_multiple</th>\n",
       "      <th>number_cells_expressing</th>\n",
       "    </tr>\n",
       "  </thead>\n",
       "  <tbody>\n",
       "    <tr>\n",
       "      <th>ACAP3</th>\n",
       "      <td>1</td>\n",
       "      <td>0</td>\n",
       "      <td>1</td>\n",
       "      <td>1</td>\n",
       "      <td>0</td>\n",
       "      <td>0</td>\n",
       "      <td>1</td>\n",
       "      <td>0</td>\n",
       "      <td>0</td>\n",
       "      <td>1</td>\n",
       "      <td>...</td>\n",
       "      <td>NaN</td>\n",
       "      <td>1</td>\n",
       "      <td>1</td>\n",
       "      <td>1.000000</td>\n",
       "      <td>1.000000</td>\n",
       "      <td>1.000000</td>\n",
       "      <td>1</td>\n",
       "      <td>1</td>\n",
       "      <td>0</td>\n",
       "      <td>1</td>\n",
       "    </tr>\n",
       "    <tr>\n",
       "      <th>AGRN</th>\n",
       "      <td>1</td>\n",
       "      <td>0</td>\n",
       "      <td>1</td>\n",
       "      <td>1</td>\n",
       "      <td>0</td>\n",
       "      <td>0</td>\n",
       "      <td>1</td>\n",
       "      <td>0</td>\n",
       "      <td>0</td>\n",
       "      <td>1</td>\n",
       "      <td>...</td>\n",
       "      <td>NaN</td>\n",
       "      <td>1</td>\n",
       "      <td>1</td>\n",
       "      <td>1.000000</td>\n",
       "      <td>1.000000</td>\n",
       "      <td>1.000000</td>\n",
       "      <td>1</td>\n",
       "      <td>1</td>\n",
       "      <td>0</td>\n",
       "      <td>1</td>\n",
       "    </tr>\n",
       "    <tr>\n",
       "      <th>AL627309.1</th>\n",
       "      <td>1</td>\n",
       "      <td>0</td>\n",
       "      <td>1</td>\n",
       "      <td>1</td>\n",
       "      <td>0</td>\n",
       "      <td>0</td>\n",
       "      <td>1</td>\n",
       "      <td>0</td>\n",
       "      <td>0</td>\n",
       "      <td>1</td>\n",
       "      <td>...</td>\n",
       "      <td>NaN</td>\n",
       "      <td>1</td>\n",
       "      <td>1</td>\n",
       "      <td>1.000000</td>\n",
       "      <td>1.000000</td>\n",
       "      <td>1.000000</td>\n",
       "      <td>1</td>\n",
       "      <td>1</td>\n",
       "      <td>0</td>\n",
       "      <td>1</td>\n",
       "    </tr>\n",
       "    <tr>\n",
       "      <th>AL627309.5</th>\n",
       "      <td>26</td>\n",
       "      <td>0</td>\n",
       "      <td>26</td>\n",
       "      <td>26</td>\n",
       "      <td>0</td>\n",
       "      <td>0</td>\n",
       "      <td>26</td>\n",
       "      <td>0</td>\n",
       "      <td>6</td>\n",
       "      <td>26</td>\n",
       "      <td>...</td>\n",
       "      <td>18.455293</td>\n",
       "      <td>8</td>\n",
       "      <td>15</td>\n",
       "      <td>3.250000</td>\n",
       "      <td>1.733333</td>\n",
       "      <td>1.875000</td>\n",
       "      <td>7</td>\n",
       "      <td>2</td>\n",
       "      <td>6</td>\n",
       "      <td>8</td>\n",
       "    </tr>\n",
       "    <tr>\n",
       "      <th>AL627309.7</th>\n",
       "      <td>245</td>\n",
       "      <td>0</td>\n",
       "      <td>245</td>\n",
       "      <td>245</td>\n",
       "      <td>0</td>\n",
       "      <td>0</td>\n",
       "      <td>245</td>\n",
       "      <td>0</td>\n",
       "      <td>43</td>\n",
       "      <td>0</td>\n",
       "      <td>...</td>\n",
       "      <td>21.674500</td>\n",
       "      <td>59</td>\n",
       "      <td>176</td>\n",
       "      <td>4.152542</td>\n",
       "      <td>1.392045</td>\n",
       "      <td>2.983051</td>\n",
       "      <td>124</td>\n",
       "      <td>22</td>\n",
       "      <td>38</td>\n",
       "      <td>57</td>\n",
       "    </tr>\n",
       "    <tr>\n",
       "      <th>AL645608.2</th>\n",
       "      <td>7</td>\n",
       "      <td>0</td>\n",
       "      <td>7</td>\n",
       "      <td>7</td>\n",
       "      <td>0</td>\n",
       "      <td>0</td>\n",
       "      <td>7</td>\n",
       "      <td>0</td>\n",
       "      <td>2</td>\n",
       "      <td>0</td>\n",
       "      <td>...</td>\n",
       "      <td>33.657186</td>\n",
       "      <td>4</td>\n",
       "      <td>5</td>\n",
       "      <td>1.750000</td>\n",
       "      <td>1.400000</td>\n",
       "      <td>1.250000</td>\n",
       "      <td>4</td>\n",
       "      <td>2</td>\n",
       "      <td>2</td>\n",
       "      <td>4</td>\n",
       "    </tr>\n",
       "    <tr>\n",
       "      <th>AL645608.3</th>\n",
       "      <td>1</td>\n",
       "      <td>0</td>\n",
       "      <td>1</td>\n",
       "      <td>1</td>\n",
       "      <td>0</td>\n",
       "      <td>0</td>\n",
       "      <td>1</td>\n",
       "      <td>0</td>\n",
       "      <td>0</td>\n",
       "      <td>0</td>\n",
       "      <td>...</td>\n",
       "      <td>NaN</td>\n",
       "      <td>1</td>\n",
       "      <td>1</td>\n",
       "      <td>1.000000</td>\n",
       "      <td>1.000000</td>\n",
       "      <td>1.000000</td>\n",
       "      <td>1</td>\n",
       "      <td>1</td>\n",
       "      <td>0</td>\n",
       "      <td>1</td>\n",
       "    </tr>\n",
       "    <tr>\n",
       "      <th>AL645608.4</th>\n",
       "      <td>18</td>\n",
       "      <td>0</td>\n",
       "      <td>18</td>\n",
       "      <td>18</td>\n",
       "      <td>0</td>\n",
       "      <td>0</td>\n",
       "      <td>18</td>\n",
       "      <td>0</td>\n",
       "      <td>0</td>\n",
       "      <td>0</td>\n",
       "      <td>...</td>\n",
       "      <td>53.545740</td>\n",
       "      <td>13</td>\n",
       "      <td>17</td>\n",
       "      <td>1.384615</td>\n",
       "      <td>1.058824</td>\n",
       "      <td>1.307692</td>\n",
       "      <td>16</td>\n",
       "      <td>12</td>\n",
       "      <td>1</td>\n",
       "      <td>13</td>\n",
       "    </tr>\n",
       "  </tbody>\n",
       "</table>\n",
       "<p>8 rows × 26 columns</p>\n",
       "</div>"
      ],
      "text/plain": [
       "            n_reads  noise_reads  perfect_molecule_barcodes  \\\n",
       "ACAP3             1            0                          1   \n",
       "AGRN              1            0                          1   \n",
       "AL627309.1        1            0                          1   \n",
       "AL627309.5       26            0                         26   \n",
       "AL627309.7      245            0                        245   \n",
       "AL645608.2        7            0                          7   \n",
       "AL645608.3        1            0                          1   \n",
       "AL645608.4       18            0                         18   \n",
       "\n",
       "            reads_mapped_exonic  reads_mapped_intronic  reads_mapped_utr  \\\n",
       "ACAP3                         1                      0                 0   \n",
       "AGRN                          1                      0                 0   \n",
       "AL627309.1                    1                      0                 0   \n",
       "AL627309.5                   26                      0                 0   \n",
       "AL627309.7                  245                      0                 0   \n",
       "AL645608.2                    7                      0                 0   \n",
       "AL645608.3                    1                      0                 0   \n",
       "AL645608.4                   18                      0                 0   \n",
       "\n",
       "            reads_mapped_uniquely  reads_mapped_multiple  duplicate_reads  \\\n",
       "ACAP3                           1                      0                0   \n",
       "AGRN                            1                      0                0   \n",
       "AL627309.1                      1                      0                0   \n",
       "AL627309.5                     26                      0                6   \n",
       "AL627309.7                    245                      0               43   \n",
       "AL645608.2                      7                      0                2   \n",
       "AL645608.3                      1                      0                0   \n",
       "AL645608.4                     18                      0                0   \n",
       "\n",
       "            spliced_reads           ...             \\\n",
       "ACAP3                   1           ...              \n",
       "AGRN                    1           ...              \n",
       "AL627309.1              1           ...              \n",
       "AL627309.5             26           ...              \n",
       "AL627309.7              0           ...              \n",
       "AL645608.2              0           ...              \n",
       "AL645608.3              0           ...              \n",
       "AL645608.4              0           ...              \n",
       "\n",
       "            genomic_read_quality_variance  n_molecules  n_fragments  \\\n",
       "ACAP3                                 NaN            1            1   \n",
       "AGRN                                  NaN            1            1   \n",
       "AL627309.1                            NaN            1            1   \n",
       "AL627309.5                      18.455293            8           15   \n",
       "AL627309.7                      21.674500           59          176   \n",
       "AL645608.2                      33.657186            4            5   \n",
       "AL645608.3                            NaN            1            1   \n",
       "AL645608.4                      53.545740           13           17   \n",
       "\n",
       "            reads_per_molecule  reads_per_fragment  fragments_per_molecule  \\\n",
       "ACAP3                 1.000000            1.000000                1.000000   \n",
       "AGRN                  1.000000            1.000000                1.000000   \n",
       "AL627309.1            1.000000            1.000000                1.000000   \n",
       "AL627309.5            3.250000            1.733333                1.875000   \n",
       "AL627309.7            4.152542            1.392045                2.983051   \n",
       "AL645608.2            1.750000            1.400000                1.250000   \n",
       "AL645608.3            1.000000            1.000000                1.000000   \n",
       "AL645608.4            1.384615            1.058824                1.307692   \n",
       "\n",
       "            fragments_with_single_read_evidence  \\\n",
       "ACAP3                                         1   \n",
       "AGRN                                          1   \n",
       "AL627309.1                                    1   \n",
       "AL627309.5                                    7   \n",
       "AL627309.7                                  124   \n",
       "AL645608.2                                    4   \n",
       "AL645608.3                                    1   \n",
       "AL645608.4                                   16   \n",
       "\n",
       "            molecules_with_single_read_evidence  \\\n",
       "ACAP3                                         1   \n",
       "AGRN                                          1   \n",
       "AL627309.1                                    1   \n",
       "AL627309.5                                    2   \n",
       "AL627309.7                                   22   \n",
       "AL645608.2                                    2   \n",
       "AL645608.3                                    1   \n",
       "AL645608.4                                   12   \n",
       "\n",
       "            number_cells_detected_multiple  number_cells_expressing  \n",
       "ACAP3                                    0                        1  \n",
       "AGRN                                     0                        1  \n",
       "AL627309.1                               0                        1  \n",
       "AL627309.5                               6                        8  \n",
       "AL627309.7                              38                       57  \n",
       "AL645608.2                               2                        4  \n",
       "AL645608.3                               0                        1  \n",
       "AL645608.4                               1                       13  \n",
       "\n",
       "[8 rows x 26 columns]"
      ]
     },
     "execution_count": 433,
     "metadata": {},
     "output_type": "execute_result"
    }
   ],
   "source": [
    "gene_metrics"
   ]
  },
  {
   "cell_type": "code",
   "execution_count": 348,
   "metadata": {
    "collapsed": false,
    "deletable": true,
    "editable": true,
    "scrolled": true
   },
   "outputs": [
    {
     "name": "stdout",
     "output_type": "stream",
     "text": [
      ",n_reads,noise_reads,perfect_molecule_barcodes,reads_mapped_exonic,reads_mapped_intronic,reads_mapped_utr,reads_mapped_uniquely,reads_mapped_multiple,duplicate_reads,spliced_reads,antisense_reads,molecule_barcode_fraction_bases_above_30_mean,molecule_barcode_fraction_bases_above_30_variance,genomic_reads_fraction_bases_quality_above_30_mean,genomic_reads_fraction_bases_quality_above_30_variance,genomic_read_quality_mean,genomic_read_quality_variance,n_molecules,n_fragments,reads_per_molecule,reads_per_fragment,fragments_per_molecule,fragments_with_single_read_evidence,molecules_with_single_read_evidence,number_cells_detected_multiple,number_cells_expressing\r\n",
      "ACAP3,1,0,1,1,0,0,1,0,0,1,0,1.0,nan,0.8877551020408163,nan,36.214285714285715,nan,1,1,1.0,1.0,1.0,1,1,0,1\r\n",
      "AGRN,1,0,1,1,0,0,1,0,0,1,0,1.0,nan,0.3979591836734694,nan,24.846938775510203,nan,1,1,1.0,1.0,1.0,1,1,0,1\r\n",
      "AL627309.1,1,0,1,1,0,0,1,0,0,1,0,0.8,nan,0.4270833333333333,nan,25.306122448979593,nan,1,1,1.0,1.0,1.0,1,1,0,1\r\n",
      "AL627309.5,26,0,26,26,0,0,26,0,6,26,0,0.9884615384615385,0.0010615384615384619,0.8148357472599155,0.02818637889146239,35.38226059654632,18.336345112613333,8,15,3.25,1.7333333333333334,1.875,7,2,6,8\r\n",
      "AL627309.7,245,0,245,245,0,0,245,0,43,0,0,0.9832653061224491,0.005087654734024759,0.7681442526176698,0.03459077695708153,34.08812994585591,21.543840454706228,59,176,4.1525423728813555,1.3920454545454546,2.983050847457627,124,22,38,57\r\n",
      "AL645608.2,7,0,7,7,0,0,7,0,2,0,0,0.9857142857142857,0.00142857142857143,0.7215743440233235,0.05371769699133296,33.03644314868805,33.65718648975626,4,5,1.75,1.4,1.25,4,2,2,4\r\n",
      "AL645608.3,1,0,1,1,0,0,1,0,0,0,0,0.7,nan,0.15463917525773196,nan,20.857142857142858,nan,1,1,1.0,1.0,1.0,1,1,0,1\r\n",
      "AL645608.4,18,0,18,18,0,0,18,0,0,0,0,0.9444444444444444,0.012026143790849672,0.5089380971044231,0.08488064356706926,27.269274376417233,54.06916406018191,13,17,1.3846153846153846,1.0588235294117647,1.3076923076923077,16,12,1,13\r\n"
     ]
    }
   ],
   "source": [
    "!cat data/gene_metrics.csv"
   ]
  },
  {
   "cell_type": "code",
   "execution_count": 349,
   "metadata": {
    "collapsed": true,
    "deletable": true,
    "editable": true
   },
   "outputs": [],
   "source": [
    "test = pd.read_csv('/Users/jsoto/IdeaProjects/sctools/src/sctools/test/data/gene_metrics.csv', index_col=0)"
   ]
  },
  {
   "cell_type": "code",
   "execution_count": 350,
   "metadata": {
    "collapsed": false,
    "deletable": true,
    "editable": true
   },
   "outputs": [
    {
     "data": {
      "text/plain": [
       "ACAP3           1\n",
       "AGRN            1\n",
       "AL627309.1      1\n",
       "AL627309.5     26\n",
       "AL627309.7    245\n",
       "AL645608.2      7\n",
       "AL645608.3      1\n",
       "AL645608.4     18\n",
       "Name: n_reads, dtype: int64"
      ]
     },
     "execution_count": 350,
     "metadata": {},
     "output_type": "execute_result"
    }
   ],
   "source": [
    "test['n_reads']"
   ]
  },
  {
   "cell_type": "code",
   "execution_count": 351,
   "metadata": {
    "collapsed": false,
    "deletable": true,
    "editable": true
   },
   "outputs": [
    {
     "ename": "FileNotFoundError",
     "evalue": "File b'' does not exist",
     "output_type": "error",
     "traceback": [
      "\u001b[0;31m---------------------------------------------------------------------------\u001b[0m",
      "\u001b[0;31mFileNotFoundError\u001b[0m                         Traceback (most recent call last)",
      "\u001b[0;32m<ipython-input-351-85f584581a43>\u001b[0m in \u001b[0;36m<module>\u001b[0;34m()\u001b[0m\n\u001b[0;32m----> 1\u001b[0;31m \u001b[0mpd\u001b[0m\u001b[0;34m.\u001b[0m\u001b[0mread_csv\u001b[0m\u001b[0;34m(\u001b[0m\u001b[0;34m''\u001b[0m\u001b[0;34m)\u001b[0m\u001b[0;34m\u001b[0m\u001b[0m\n\u001b[0m",
      "\u001b[0;32m/usr/local/lib/python3.6/site-packages/pandas/io/parsers.py\u001b[0m in \u001b[0;36mparser_f\u001b[0;34m(filepath_or_buffer, sep, delimiter, header, names, index_col, usecols, squeeze, prefix, mangle_dupe_cols, dtype, engine, converters, true_values, false_values, skipinitialspace, skiprows, nrows, na_values, keep_default_na, na_filter, verbose, skip_blank_lines, parse_dates, infer_datetime_format, keep_date_col, date_parser, dayfirst, iterator, chunksize, compression, thousands, decimal, lineterminator, quotechar, quoting, escapechar, comment, encoding, dialect, tupleize_cols, error_bad_lines, warn_bad_lines, skipfooter, skip_footer, doublequote, delim_whitespace, as_recarray, compact_ints, use_unsigned, low_memory, buffer_lines, memory_map, float_precision)\u001b[0m\n\u001b[1;32m    707\u001b[0m                     skip_blank_lines=skip_blank_lines)\n\u001b[1;32m    708\u001b[0m \u001b[0;34m\u001b[0m\u001b[0m\n\u001b[0;32m--> 709\u001b[0;31m         \u001b[0;32mreturn\u001b[0m \u001b[0m_read\u001b[0m\u001b[0;34m(\u001b[0m\u001b[0mfilepath_or_buffer\u001b[0m\u001b[0;34m,\u001b[0m \u001b[0mkwds\u001b[0m\u001b[0;34m)\u001b[0m\u001b[0;34m\u001b[0m\u001b[0m\n\u001b[0m\u001b[1;32m    710\u001b[0m \u001b[0;34m\u001b[0m\u001b[0m\n\u001b[1;32m    711\u001b[0m     \u001b[0mparser_f\u001b[0m\u001b[0;34m.\u001b[0m\u001b[0m__name__\u001b[0m \u001b[0;34m=\u001b[0m \u001b[0mname\u001b[0m\u001b[0;34m\u001b[0m\u001b[0m\n",
      "\u001b[0;32m/usr/local/lib/python3.6/site-packages/pandas/io/parsers.py\u001b[0m in \u001b[0;36m_read\u001b[0;34m(filepath_or_buffer, kwds)\u001b[0m\n\u001b[1;32m    447\u001b[0m \u001b[0;34m\u001b[0m\u001b[0m\n\u001b[1;32m    448\u001b[0m     \u001b[0;31m# Create the parser.\u001b[0m\u001b[0;34m\u001b[0m\u001b[0;34m\u001b[0m\u001b[0m\n\u001b[0;32m--> 449\u001b[0;31m     \u001b[0mparser\u001b[0m \u001b[0;34m=\u001b[0m \u001b[0mTextFileReader\u001b[0m\u001b[0;34m(\u001b[0m\u001b[0mfilepath_or_buffer\u001b[0m\u001b[0;34m,\u001b[0m \u001b[0;34m**\u001b[0m\u001b[0mkwds\u001b[0m\u001b[0;34m)\u001b[0m\u001b[0;34m\u001b[0m\u001b[0m\n\u001b[0m\u001b[1;32m    450\u001b[0m \u001b[0;34m\u001b[0m\u001b[0m\n\u001b[1;32m    451\u001b[0m     \u001b[0;32mif\u001b[0m \u001b[0mchunksize\u001b[0m \u001b[0;32mor\u001b[0m \u001b[0miterator\u001b[0m\u001b[0;34m:\u001b[0m\u001b[0;34m\u001b[0m\u001b[0m\n",
      "\u001b[0;32m/usr/local/lib/python3.6/site-packages/pandas/io/parsers.py\u001b[0m in \u001b[0;36m__init__\u001b[0;34m(self, f, engine, **kwds)\u001b[0m\n\u001b[1;32m    816\u001b[0m             \u001b[0mself\u001b[0m\u001b[0;34m.\u001b[0m\u001b[0moptions\u001b[0m\u001b[0;34m[\u001b[0m\u001b[0;34m'has_index_names'\u001b[0m\u001b[0;34m]\u001b[0m \u001b[0;34m=\u001b[0m \u001b[0mkwds\u001b[0m\u001b[0;34m[\u001b[0m\u001b[0;34m'has_index_names'\u001b[0m\u001b[0;34m]\u001b[0m\u001b[0;34m\u001b[0m\u001b[0m\n\u001b[1;32m    817\u001b[0m \u001b[0;34m\u001b[0m\u001b[0m\n\u001b[0;32m--> 818\u001b[0;31m         \u001b[0mself\u001b[0m\u001b[0;34m.\u001b[0m\u001b[0m_make_engine\u001b[0m\u001b[0;34m(\u001b[0m\u001b[0mself\u001b[0m\u001b[0;34m.\u001b[0m\u001b[0mengine\u001b[0m\u001b[0;34m)\u001b[0m\u001b[0;34m\u001b[0m\u001b[0m\n\u001b[0m\u001b[1;32m    819\u001b[0m \u001b[0;34m\u001b[0m\u001b[0m\n\u001b[1;32m    820\u001b[0m     \u001b[0;32mdef\u001b[0m \u001b[0mclose\u001b[0m\u001b[0;34m(\u001b[0m\u001b[0mself\u001b[0m\u001b[0;34m)\u001b[0m\u001b[0;34m:\u001b[0m\u001b[0;34m\u001b[0m\u001b[0m\n",
      "\u001b[0;32m/usr/local/lib/python3.6/site-packages/pandas/io/parsers.py\u001b[0m in \u001b[0;36m_make_engine\u001b[0;34m(self, engine)\u001b[0m\n\u001b[1;32m   1047\u001b[0m     \u001b[0;32mdef\u001b[0m \u001b[0m_make_engine\u001b[0m\u001b[0;34m(\u001b[0m\u001b[0mself\u001b[0m\u001b[0;34m,\u001b[0m \u001b[0mengine\u001b[0m\u001b[0;34m=\u001b[0m\u001b[0;34m'c'\u001b[0m\u001b[0;34m)\u001b[0m\u001b[0;34m:\u001b[0m\u001b[0;34m\u001b[0m\u001b[0m\n\u001b[1;32m   1048\u001b[0m         \u001b[0;32mif\u001b[0m \u001b[0mengine\u001b[0m \u001b[0;34m==\u001b[0m \u001b[0;34m'c'\u001b[0m\u001b[0;34m:\u001b[0m\u001b[0;34m\u001b[0m\u001b[0m\n\u001b[0;32m-> 1049\u001b[0;31m             \u001b[0mself\u001b[0m\u001b[0;34m.\u001b[0m\u001b[0m_engine\u001b[0m \u001b[0;34m=\u001b[0m \u001b[0mCParserWrapper\u001b[0m\u001b[0;34m(\u001b[0m\u001b[0mself\u001b[0m\u001b[0;34m.\u001b[0m\u001b[0mf\u001b[0m\u001b[0;34m,\u001b[0m \u001b[0;34m**\u001b[0m\u001b[0mself\u001b[0m\u001b[0;34m.\u001b[0m\u001b[0moptions\u001b[0m\u001b[0;34m)\u001b[0m\u001b[0;34m\u001b[0m\u001b[0m\n\u001b[0m\u001b[1;32m   1050\u001b[0m         \u001b[0;32melse\u001b[0m\u001b[0;34m:\u001b[0m\u001b[0;34m\u001b[0m\u001b[0m\n\u001b[1;32m   1051\u001b[0m             \u001b[0;32mif\u001b[0m \u001b[0mengine\u001b[0m \u001b[0;34m==\u001b[0m \u001b[0;34m'python'\u001b[0m\u001b[0;34m:\u001b[0m\u001b[0;34m\u001b[0m\u001b[0m\n",
      "\u001b[0;32m/usr/local/lib/python3.6/site-packages/pandas/io/parsers.py\u001b[0m in \u001b[0;36m__init__\u001b[0;34m(self, src, **kwds)\u001b[0m\n\u001b[1;32m   1693\u001b[0m         \u001b[0mkwds\u001b[0m\u001b[0;34m[\u001b[0m\u001b[0;34m'allow_leading_cols'\u001b[0m\u001b[0;34m]\u001b[0m \u001b[0;34m=\u001b[0m \u001b[0mself\u001b[0m\u001b[0;34m.\u001b[0m\u001b[0mindex_col\u001b[0m \u001b[0;32mis\u001b[0m \u001b[0;32mnot\u001b[0m \u001b[0;32mFalse\u001b[0m\u001b[0;34m\u001b[0m\u001b[0m\n\u001b[1;32m   1694\u001b[0m \u001b[0;34m\u001b[0m\u001b[0m\n\u001b[0;32m-> 1695\u001b[0;31m         \u001b[0mself\u001b[0m\u001b[0;34m.\u001b[0m\u001b[0m_reader\u001b[0m \u001b[0;34m=\u001b[0m \u001b[0mparsers\u001b[0m\u001b[0;34m.\u001b[0m\u001b[0mTextReader\u001b[0m\u001b[0;34m(\u001b[0m\u001b[0msrc\u001b[0m\u001b[0;34m,\u001b[0m \u001b[0;34m**\u001b[0m\u001b[0mkwds\u001b[0m\u001b[0;34m)\u001b[0m\u001b[0;34m\u001b[0m\u001b[0m\n\u001b[0m\u001b[1;32m   1696\u001b[0m \u001b[0;34m\u001b[0m\u001b[0m\n\u001b[1;32m   1697\u001b[0m         \u001b[0;31m# XXX\u001b[0m\u001b[0;34m\u001b[0m\u001b[0;34m\u001b[0m\u001b[0m\n",
      "\u001b[0;32mpandas/_libs/parsers.pyx\u001b[0m in \u001b[0;36mpandas._libs.parsers.TextReader.__cinit__\u001b[0;34m()\u001b[0m\n",
      "\u001b[0;32mpandas/_libs/parsers.pyx\u001b[0m in \u001b[0;36mpandas._libs.parsers.TextReader._setup_parser_source\u001b[0;34m()\u001b[0m\n",
      "\u001b[0;31mFileNotFoundError\u001b[0m: File b'' does not exist"
     ]
    }
   ],
   "source": [
    "pd.read_csv('')"
   ]
  },
  {
   "cell_type": "code",
   "execution_count": null,
   "metadata": {
    "collapsed": true,
    "deletable": true,
    "editable": true
   },
   "outputs": [],
   "source": []
  }
 ],
 "metadata": {
  "hide_input": false,
  "kernelspec": {
   "display_name": "Python 3",
   "language": "python",
   "name": "python3"
  },
  "language_info": {
   "codemirror_mode": {
    "name": "ipython",
    "version": 3
   },
   "file_extension": ".py",
   "mimetype": "text/x-python",
   "name": "python",
   "nbconvert_exporter": "python",
   "pygments_lexer": "ipython3",
   "version": "3.6.4"
  },
  "toc": {
   "nav_menu": {},
   "number_sections": true,
   "sideBar": true,
   "skip_h1_title": false,
   "toc_cell": false,
   "toc_position": {},
   "toc_section_display": "block",
   "toc_window_display": false
  }
 },
 "nbformat": 4,
 "nbformat_minor": 2
}
