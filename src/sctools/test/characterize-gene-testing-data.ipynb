{
 "cells": [
  {
   "cell_type": "markdown",
   "metadata": {},
   "source": [
    "# Load Testing Data"
   ]
  },
  {
   "cell_type": "code",
   "execution_count": 1,
   "metadata": {
    "run_control": {
     "frozen": false,
     "read_only": false
    }
   },
   "outputs": [],
   "source": [
    "import pandas as pd\n",
    "import numpy as np\n",
    "import pysam\n",
    "import os"
   ]
  },
  {
   "cell_type": "code",
   "execution_count": 2,
   "metadata": {
    "run_control": {
     "frozen": false,
     "read_only": false
    }
   },
   "outputs": [
    {
     "name": "stderr",
     "output_type": "stream",
     "text": [
      "/usr/local/lib/python3.6/site-packages/ipykernel_launcher.py:24: DeprecationWarning: tostring() is deprecated. Use tobytes() instead.\n"
     ]
    }
   ],
   "source": [
    "def parse_record(record):\n",
    "    \"\"\"line parser to build dataframe, supports missing tags in test data\"\"\"\n",
    "    data = {\n",
    "        'qname': record.query_name,\n",
    "        'flag': record.flag,\n",
    "        'reference': record.reference_id,\n",
    "        'position': record.pos,\n",
    "        'mapq': record.query_alignment_qualities,\n",
    "        'cigar': record.cigarstring,\n",
    "        'rnext': record.rnext, \n",
    "        'pnext': record.pnext,\n",
    "        'tlen': record.tlen, \n",
    "        'sequence': record.seq,\n",
    "        'quality': record.qual,\n",
    "    }\n",
    "    for name, tag in record.get_tags():\n",
    "        data[name] = tag\n",
    "    return pd.Series(data)\n",
    "\n",
    "input_sam_file = 'data/small-gene-sorted.bam'\n",
    "with pysam.AlignmentFile(input_sam_file, 'rb') as f:\n",
    "    records = []\n",
    "    for record in f:\n",
    "        records.append(parse_record(record))\n",
    "\n",
    "data = pd.concat(records, axis=1).T\n",
    "\n",
    "results_scalar = {}  # will hold the calculations we make"
   ]
  },
  {
   "cell_type": "markdown",
   "metadata": {},
   "source": [
    "# Build Expectations for Testing Data"
   ]
  },
  {
   "cell_type": "markdown",
   "metadata": {},
   "source": [
    "## Number of Reads"
   ]
  },
  {
   "cell_type": "code",
   "execution_count": 3,
   "metadata": {
    "run_control": {
     "frozen": false,
     "read_only": false
    }
   },
   "outputs": [
    {
     "name": "stdout",
     "output_type": "stream",
     "text": [
      "300\n"
     ]
    }
   ],
   "source": [
    "results_scalar['n_reads'] = len(data)\n",
    "print(results_scalar['n_reads'])"
   ]
  },
  {
   "cell_type": "markdown",
   "metadata": {},
   "source": [
    "## Number of Genes"
   ]
  },
  {
   "cell_type": "code",
   "execution_count": 4,
   "metadata": {
    "run_control": {
     "frozen": false,
     "read_only": false
    }
   },
   "outputs": [
    {
     "name": "stdout",
     "output_type": "stream",
     "text": [
      "8\n"
     ]
    }
   ],
   "source": [
    "results_scalar['n_genes'] = len(data.groupby(['GE']))\n",
    "print(results_scalar['n_genes'])"
   ]
  },
  {
   "cell_type": "markdown",
   "metadata": {},
   "source": [
    "Gene table should have 8 entries plus a header for a total of 9 lines"
   ]
  },
  {
   "cell_type": "markdown",
   "metadata": {},
   "source": [
    "## Number of Molecules\n",
    "\n",
    "Molecules are defined as a unique triplet of CB, UB, and GE"
   ]
  },
  {
   "cell_type": "code",
   "execution_count": 5,
   "metadata": {
    "run_control": {
     "frozen": false,
     "read_only": false
    }
   },
   "outputs": [
    {
     "name": "stdout",
     "output_type": "stream",
     "text": [
      "88\n"
     ]
    }
   ],
   "source": [
    "results_scalar['n_molecules'] = len(data.groupby(['CB', 'UB', 'GE']))\n",
    "print(results_scalar['n_molecules'])"
   ]
  },
  {
   "cell_type": "markdown",
   "metadata": {},
   "source": [
    "## Number of Fragments\n",
    "\n",
    "Fragments are defined as molecules are (CB, UB, GE) but must additionally have a unique position"
   ]
  },
  {
   "cell_type": "code",
   "execution_count": 6,
   "metadata": {
    "run_control": {
     "frozen": false,
     "read_only": false
    }
   },
   "outputs": [
    {
     "name": "stdout",
     "output_type": "stream",
     "text": [
      "217\n"
     ]
    }
   ],
   "source": [
    "results_scalar['n_fragments'] = len(data.groupby(['CB', 'UB', 'GE', 'position']))\n",
    "print(results_scalar['n_fragments'])"
   ]
  },
  {
   "cell_type": "markdown",
   "metadata": {},
   "source": [
    "## Most Abundant Gene\n",
    "\n",
    "Based on the above, at least one of the genes has to be observed more than once. Which is it? "
   ]
  },
  {
   "cell_type": "code",
   "execution_count": 7,
   "metadata": {
    "run_control": {
     "frozen": false,
     "read_only": false
    }
   },
   "outputs": [
    {
     "name": "stdout",
     "output_type": "stream",
     "text": [
      "AL627309.7 245\n"
     ]
    }
   ],
   "source": [
    "results_scalar['most_abundant'] = data.groupby(['GE']).size().idxmax()\n",
    "results_scalar['most_abundant_gene_n_observations'] = data.groupby(['GE']).size().max()\n",
    "print(results_scalar['most_abundant'], results_scalar['most_abundant_gene_n_observations'])"
   ]
  },
  {
   "cell_type": "code",
   "execution_count": 8,
   "metadata": {
    "run_control": {
     "frozen": false,
     "read_only": false
    }
   },
   "outputs": [],
   "source": [
    "results_scalar['perfect_molecule_barcodes'] = 0\n",
    "for c, r in zip(data['UB'], data['UR']):\n",
    "    if c == r:\n",
    "        results_scalar['perfect_molecule_barcodes'] += 1"
   ]
  },
  {
   "cell_type": "markdown",
   "metadata": {},
   "source": [
    "Calculate the alignment metrics"
   ]
  },
  {
   "cell_type": "code",
   "execution_count": 32,
   "metadata": {
    "run_control": {
     "frozen": false,
     "read_only": false
    }
   },
   "outputs": [
    {
     "data": {
      "text/plain": [
       "{'duplicate_reads': 90,\n",
       " 'fragments_with_single_read_evidence': 155,\n",
       " 'molecules_with_single_read_evidence': 42,\n",
       " 'most_abundant': 'AL627309.7',\n",
       " 'most_abundant_gene_n_observations': 245,\n",
       " 'n_fragments': 217,\n",
       " 'n_genes': 8,\n",
       " 'n_molecules': 88,\n",
       " 'n_reads': 300,\n",
       " 'perfect_molecule_barcodes': 300,\n",
       " 'reads_mapped_exonic': 300,\n",
       " 'reads_mapped_intronic': 0,\n",
       " 'reads_mapped_uniquely': 300,\n",
       " 'reads_mapped_utr': 0,\n",
       " 'spliced_reads': 29}"
      ]
     },
     "execution_count": 32,
     "metadata": {},
     "output_type": "execute_result"
    }
   ],
   "source": [
    "results_scalar"
   ]
  },
  {
   "cell_type": "code",
   "execution_count": 9,
   "metadata": {
    "run_control": {
     "frozen": false,
     "read_only": false
    }
   },
   "outputs": [],
   "source": [
    "results_scalar['reads_mapped_exonic'] = sum(data['XF'] == 'CODING')"
   ]
  },
  {
   "cell_type": "code",
   "execution_count": 10,
   "metadata": {
    "run_control": {
     "frozen": false,
     "read_only": false
    }
   },
   "outputs": [],
   "source": [
    "results_scalar['reads_mapped_intronic'] = sum(data['XF'] == 'INTRONIC')"
   ]
  },
  {
   "cell_type": "code",
   "execution_count": 11,
   "metadata": {
    "run_control": {
     "frozen": false,
     "read_only": false
    }
   },
   "outputs": [],
   "source": [
    "results_scalar['reads_mapped_utr'] = sum(data['XF'] == 'UTR')"
   ]
  },
  {
   "cell_type": "code",
   "execution_count": 12,
   "metadata": {
    "run_control": {
     "frozen": false,
     "read_only": false
    }
   },
   "outputs": [],
   "source": [
    "results_scalar['reads_mapped_uniquely'] = sum(data['NH'] == 1)"
   ]
  },
  {
   "cell_type": "code",
   "execution_count": 13,
   "metadata": {
    "run_control": {
     "frozen": false,
     "read_only": false
    }
   },
   "outputs": [],
   "source": [
    "results_scalar['duplicate_reads'] = sum((data['flag'] & 1024).astype(bool))"
   ]
  },
  {
   "cell_type": "code",
   "execution_count": 14,
   "metadata": {
    "run_control": {
     "frozen": false,
     "read_only": false
    }
   },
   "outputs": [],
   "source": [
    "results_scalar['spliced_reads'] = sum(1 for v in data['cigar'] if 'N' in v)"
   ]
  },
  {
   "cell_type": "markdown",
   "metadata": {},
   "source": [
    "Calculate the higher-order metrics"
   ]
  },
  {
   "cell_type": "code",
   "execution_count": 15,
   "metadata": {
    "run_control": {
     "frozen": false,
     "read_only": false
    }
   },
   "outputs": [],
   "source": [
    "calc_func_fraction_from_acii = lambda x: sum(1 for c in x if ord(c) > 63) / len(x)\n",
    "calc_func_fraction = lambda x: sum(1 for c in x if c > 30) / len(x)\n",
    "calc_func_mean = lambda x: np.mean([c for c in x])\n",
    "\n",
    "data['num_UY_qual_fraction'] = data['UY'].apply(calc_func_fraction_from_acii)\n",
    "\n",
    "data['num_base_qual_fraction'] = data['mapq'].apply(calc_func_fraction)\n",
    "data['num_base_qual_mean'] = data['mapq'].apply(calc_func_mean)\n",
    "\n",
    "grouped_by_gene = data.groupby(['GE'])"
   ]
  },
  {
   "cell_type": "code",
   "execution_count": 16,
   "metadata": {
    "run_control": {
     "frozen": false,
     "read_only": false
    }
   },
   "outputs": [],
   "source": [
    "results_series = {}"
   ]
  },
  {
   "cell_type": "code",
   "execution_count": 17,
   "metadata": {
    "run_control": {
     "frozen": false,
     "read_only": false
    }
   },
   "outputs": [],
   "source": [
    "# vector values\n",
    "# I changed these to retain the index to make merging into a dataframe easier, and guarantee same order. \n",
    "results_series['molecule_barcode_fraction_bases_above_30_mean'] = grouped_by_gene.mean()['num_UY_qual_fraction']\n",
    "results_series['molecule_barcode_fraction_bases_above_30_variance'] = grouped_by_gene.var()['num_UY_qual_fraction']\n",
    "\n",
    "results_series['genomic_reads_fraction_bases_quality_above_30_mean'] = grouped_by_gene.mean()['num_base_qual_fraction']\n",
    "results_series['genomic_reads_fraction_bases_quality_above_30_variance'] = grouped_by_gene.var()['num_base_qual_fraction']\n",
    "results_series['genomic_read_quality_mean'] = grouped_by_gene.mean()['num_base_qual_mean']\n",
    "results_series['genomic_read_quality_variance'] = grouped_by_gene.var()['num_base_qual_mean']\n",
    "\n",
    "reads_per_gene = data.groupby(['GE']).size()"
   ]
  },
  {
   "cell_type": "code",
   "execution_count": 18,
   "metadata": {
    "run_control": {
     "frozen": false,
     "read_only": false
    }
   },
   "outputs": [],
   "source": [
    "molecules_per_gene = grouped_by_gene.apply(lambda x: len(x.groupby(['UB', 'CB']).size()))\n",
    "fragments_per_gene = grouped_by_gene.apply(lambda x: len(x.groupby(['UB', 'CB', 'position']).size()))\n",
    "reads_per_molecule = reads_per_gene / molecules_per_gene\n",
    "reads_per_fragment = reads_per_gene / fragments_per_gene\n",
    "fragments_per_molecule = fragments_per_gene / molecules_per_gene\n",
    "results_series['reads_per_molecule'] = reads_per_molecule\n",
    "results_series['reads_per_fragment'] = reads_per_fragment\n",
    "results_series['fragments_per_molecule'] = fragments_per_molecule\n",
    "\n",
    "# scalar values\n",
    "results_scalar['fragments_with_single_read_evidence'] = np.sum(data.groupby(['CB', 'UB', 'GE', 'position']).size() == 1)\n",
    "results_scalar['molecules_with_single_read_evidence'] = np.sum(data.groupby(['CB', 'UB', 'GE']).size() == 1)"
   ]
  },
  {
   "cell_type": "code",
   "execution_count": 39,
   "metadata": {
    "run_control": {
     "frozen": false,
     "read_only": false
    }
   },
   "outputs": [
    {
     "name": "stdout",
     "output_type": "stream",
     "text": [
      "fragments_per_molecule np.array([1.0000, 1.0000, 1.0000, 1.8750, 2.9831, 1.2500, 1.0000, 1.3077])\n",
      "genomic_read_quality_mean np.array([36.2143, 24.8469, 25.4792, 35.3664, 34.0956, 33.0364, 20.7423, 27.3078])\n",
      "genomic_read_quality_variance np.array([nan, nan, nan, 18.4553, 21.6745, 33.6572, nan, 53.5457])\n",
      "genomic_reads_fraction_bases_quality_above_30_mean np.array([0.8878, 0.3980, 0.4271, 0.8148, 0.7681, 0.7216, 0.1546, 0.5089])\n",
      "genomic_reads_fraction_bases_quality_above_30_variance np.array([nan, nan, nan, 0.0282, 0.0346, 0.0537, nan, 0.0849])\n",
      "molecule_barcode_fraction_bases_above_30_mean np.array([1.0000, 1.0000, 0.8000, 0.9885, 0.9833, 0.9857, 0.7000, 0.9444])\n",
      "molecule_barcode_fraction_bases_above_30_variance np.array([nan, nan, nan, 0.0011, 0.0051, 0.0014, nan, 0.0120])\n",
      "reads_per_fragment np.array([1.0000, 1.0000, 1.0000, 1.7333, 1.3920, 1.4000, 1.0000, 1.0588])\n",
      "reads_per_molecule np.array([1.0000, 1.0000, 1.0000, 3.2500, 4.1525, 1.7500, 1.0000, 1.3846])\n"
     ]
    }
   ],
   "source": [
    "# write out the array information for the testing file\n",
    "for k, vals in pd.DataFrame(results_series).iteritems():\n",
    "    print(k, 'np.array([' + ', '.join('{:.4f}'.format(i) for i in vals.values) + '])')"
   ]
  },
  {
   "cell_type": "markdown",
   "metadata": {},
   "source": [
    "# Write Results to File for Automated Testing"
   ]
  },
  {
   "cell_type": "code",
   "execution_count": 20,
   "metadata": {
    "run_control": {
     "frozen": false,
     "read_only": false
    }
   },
   "outputs": [],
   "source": [
    "pd.Series(results_scalar).to_csv('%s_testing_knowledge_scalar.csv' % input_sam_file.replace('.bam', ''))\n",
    "pd.DataFrame(results_series).to_csv('%s_testing_knowledge_series.csv' % input_sam_file.replace('.bam', ''))"
   ]
  },
  {
   "cell_type": "code",
   "execution_count": 21,
   "metadata": {
    "run_control": {
     "frozen": false,
     "read_only": false
    }
   },
   "outputs": [
    {
     "data": {
      "text/plain": [
       "True"
      ]
     },
     "execution_count": 21,
     "metadata": {},
     "output_type": "execute_result"
    }
   ],
   "source": [
    "# do a comparison of the whole 2d dataframe at once\n",
    "np.allclose(\n",
    "    pd.DataFrame(results_series).fillna(0).values,  # fill nans with zero, call values to get the numpy array the dataframe is based on\n",
    "    pd.read_csv('data/small-gene-sorted_testing_knowledge_series.csv', index_col=0, header=0).fillna(0).values\n",
    ")"
   ]
  },
  {
   "cell_type": "code",
   "execution_count": 22,
   "metadata": {
    "run_control": {
     "frozen": false,
     "read_only": false
    }
   },
   "outputs": [],
   "source": [
    "# to get most_abundant alone: "
   ]
  },
  {
   "cell_type": "code",
   "execution_count": 23,
   "metadata": {
    "run_control": {
     "frozen": false,
     "read_only": false
    }
   },
   "outputs": [
    {
     "data": {
      "text/plain": [
       "True"
      ]
     },
     "execution_count": 23,
     "metadata": {},
     "output_type": "execute_result"
    }
   ],
   "source": [
    "test_read_scalar = pd.read_csv('data/small-gene-sorted_testing_knowledge_scalar.csv', index_col=0, header=None, squeeze=True)\n",
    "\n",
    "# extract this, we're going to drop it from the array to do some conversion to numeric\n",
    "most_abundant = test_read_scalar['most_abundant'] \n",
    "\n",
    "# drop most abundant, convert to float, fill any NaN values with 0, and call .values to get the numpy array pandas objects are based on.\n",
    "for_comparison = test_read_scalar.drop('most_abundant').astype(float).fillna(0).values\n",
    "\n",
    "\n",
    "# note, have to drop the string value and convert to float before this works. \n",
    "np.allclose(\n",
    "    pd.Series(results_scalar).drop('most_abundant').fillna(0).values,  # do the same thing as above to the one in memory\n",
    "    for_comparison\n",
    ")"
   ]
  },
  {
   "cell_type": "code",
   "execution_count": 24,
   "metadata": {
    "run_control": {
     "frozen": false,
     "read_only": false
    }
   },
   "outputs": [
    {
     "data": {
      "text/plain": [
       "GE\n",
       "ACAP3         36.214286\n",
       "AGRN          24.846939\n",
       "AL627309.1    25.479167\n",
       "AL627309.5    35.366414\n",
       "AL627309.7    34.095625\n",
       "AL645608.2    33.036443\n",
       "AL645608.3    20.742268\n",
       "AL645608.4    27.307758\n",
       "Name: genomic_read_quality_mean, dtype: float64"
      ]
     },
     "execution_count": 24,
     "metadata": {},
     "output_type": "execute_result"
    }
   ],
   "source": [
    "# get a metric from a dataframe: \n",
    "df = pd.DataFrame(results_series)\n",
    "df['genomic_read_quality_mean']"
   ]
  },
  {
   "cell_type": "code",
   "execution_count": 25,
   "metadata": {
    "run_control": {
     "frozen": false,
     "read_only": false
    }
   },
   "outputs": [],
   "source": [
    "# get a numpy array from the dataframe\n",
    "compare_me = df['genomic_read_quality_mean'].values"
   ]
  },
  {
   "cell_type": "code",
   "execution_count": 26,
   "metadata": {
    "run_control": {
     "frozen": false,
     "read_only": false
    }
   },
   "outputs": [
    {
     "data": {
      "text/plain": [
       "True"
      ]
     },
     "execution_count": 26,
     "metadata": {},
     "output_type": "execute_result"
    }
   ],
   "source": [
    "# compare two numpy arrays that are slightly different\n",
    "eps = np.random.rand(8) * 1e-8\n",
    "np.allclose(compare_me, compare_me + eps)\n"
   ]
  },
  {
   "cell_type": "code",
   "execution_count": 27,
   "metadata": {
    "run_control": {
     "frozen": false,
     "read_only": false
    }
   },
   "outputs": [
    {
     "data": {
      "text/plain": [
       "False"
      ]
     },
     "execution_count": 27,
     "metadata": {},
     "output_type": "execute_result"
    }
   ],
   "source": [
    "# it is actually discriminative, though\n",
    "np.allclose(compare_me, np.arange(8))"
   ]
  },
  {
   "cell_type": "markdown",
   "metadata": {},
   "source": [
    "# Look at the metrics output"
   ]
  },
  {
   "cell_type": "code",
   "execution_count": 28,
   "metadata": {
    "run_control": {
     "frozen": false,
     "read_only": false
    }
   },
   "outputs": [],
   "source": [
    "gene_metrics = pd.read_csv('data/gene_metrics.csv', index_col=0)"
   ]
  },
  {
   "cell_type": "code",
   "execution_count": 29,
   "metadata": {
    "run_control": {
     "frozen": false,
     "read_only": false
    },
    "scrolled": true
   },
   "outputs": [
    {
     "data": {
      "text/html": [
       "<div>\n",
       "<style scoped>\n",
       "    .dataframe tbody tr th:only-of-type {\n",
       "        vertical-align: middle;\n",
       "    }\n",
       "\n",
       "    .dataframe tbody tr th {\n",
       "        vertical-align: top;\n",
       "    }\n",
       "\n",
       "    .dataframe thead th {\n",
       "        text-align: right;\n",
       "    }\n",
       "</style>\n",
       "<table border=\"1\" class=\"dataframe\">\n",
       "  <thead>\n",
       "    <tr style=\"text-align: right;\">\n",
       "      <th></th>\n",
       "      <th>n_reads</th>\n",
       "      <th>noise_reads</th>\n",
       "      <th>perfect_molecule_barcodes</th>\n",
       "      <th>reads_mapped_exonic</th>\n",
       "      <th>reads_mapped_intronic</th>\n",
       "      <th>reads_mapped_utr</th>\n",
       "      <th>reads_mapped_uniquely</th>\n",
       "      <th>reads_mapped_multiple</th>\n",
       "      <th>duplicate_reads</th>\n",
       "      <th>spliced_reads</th>\n",
       "      <th>...</th>\n",
       "      <th>genomic_read_quality_variance</th>\n",
       "      <th>n_molecules</th>\n",
       "      <th>n_fragments</th>\n",
       "      <th>reads_per_molecule</th>\n",
       "      <th>reads_per_fragment</th>\n",
       "      <th>fragments_per_molecule</th>\n",
       "      <th>fragments_with_single_read_evidence</th>\n",
       "      <th>molecules_with_single_read_evidence</th>\n",
       "      <th>number_cells_detected_multiple</th>\n",
       "      <th>number_cells_expressing</th>\n",
       "    </tr>\n",
       "  </thead>\n",
       "  <tbody>\n",
       "    <tr>\n",
       "      <th>ACAP3</th>\n",
       "      <td>1</td>\n",
       "      <td>0</td>\n",
       "      <td>1</td>\n",
       "      <td>1</td>\n",
       "      <td>0</td>\n",
       "      <td>0</td>\n",
       "      <td>1</td>\n",
       "      <td>0</td>\n",
       "      <td>0</td>\n",
       "      <td>1</td>\n",
       "      <td>...</td>\n",
       "      <td>NaN</td>\n",
       "      <td>1</td>\n",
       "      <td>1</td>\n",
       "      <td>1.000000</td>\n",
       "      <td>1.000000</td>\n",
       "      <td>1.000000</td>\n",
       "      <td>1</td>\n",
       "      <td>1</td>\n",
       "      <td>0</td>\n",
       "      <td>1</td>\n",
       "    </tr>\n",
       "    <tr>\n",
       "      <th>AGRN</th>\n",
       "      <td>1</td>\n",
       "      <td>0</td>\n",
       "      <td>1</td>\n",
       "      <td>1</td>\n",
       "      <td>0</td>\n",
       "      <td>0</td>\n",
       "      <td>1</td>\n",
       "      <td>0</td>\n",
       "      <td>0</td>\n",
       "      <td>1</td>\n",
       "      <td>...</td>\n",
       "      <td>NaN</td>\n",
       "      <td>1</td>\n",
       "      <td>1</td>\n",
       "      <td>1.000000</td>\n",
       "      <td>1.000000</td>\n",
       "      <td>1.000000</td>\n",
       "      <td>1</td>\n",
       "      <td>1</td>\n",
       "      <td>0</td>\n",
       "      <td>1</td>\n",
       "    </tr>\n",
       "    <tr>\n",
       "      <th>AL627309.1</th>\n",
       "      <td>1</td>\n",
       "      <td>0</td>\n",
       "      <td>1</td>\n",
       "      <td>1</td>\n",
       "      <td>0</td>\n",
       "      <td>0</td>\n",
       "      <td>1</td>\n",
       "      <td>0</td>\n",
       "      <td>0</td>\n",
       "      <td>1</td>\n",
       "      <td>...</td>\n",
       "      <td>NaN</td>\n",
       "      <td>1</td>\n",
       "      <td>1</td>\n",
       "      <td>1.000000</td>\n",
       "      <td>1.000000</td>\n",
       "      <td>1.000000</td>\n",
       "      <td>1</td>\n",
       "      <td>1</td>\n",
       "      <td>0</td>\n",
       "      <td>1</td>\n",
       "    </tr>\n",
       "    <tr>\n",
       "      <th>AL627309.5</th>\n",
       "      <td>26</td>\n",
       "      <td>0</td>\n",
       "      <td>26</td>\n",
       "      <td>26</td>\n",
       "      <td>0</td>\n",
       "      <td>0</td>\n",
       "      <td>26</td>\n",
       "      <td>0</td>\n",
       "      <td>11</td>\n",
       "      <td>26</td>\n",
       "      <td>...</td>\n",
       "      <td>18.455293</td>\n",
       "      <td>8</td>\n",
       "      <td>15</td>\n",
       "      <td>3.250000</td>\n",
       "      <td>1.733333</td>\n",
       "      <td>1.875000</td>\n",
       "      <td>7</td>\n",
       "      <td>2</td>\n",
       "      <td>6</td>\n",
       "      <td>8</td>\n",
       "    </tr>\n",
       "    <tr>\n",
       "      <th>AL627309.7</th>\n",
       "      <td>245</td>\n",
       "      <td>0</td>\n",
       "      <td>245</td>\n",
       "      <td>245</td>\n",
       "      <td>0</td>\n",
       "      <td>0</td>\n",
       "      <td>245</td>\n",
       "      <td>0</td>\n",
       "      <td>76</td>\n",
       "      <td>0</td>\n",
       "      <td>...</td>\n",
       "      <td>21.674500</td>\n",
       "      <td>59</td>\n",
       "      <td>176</td>\n",
       "      <td>4.152542</td>\n",
       "      <td>1.392045</td>\n",
       "      <td>2.983051</td>\n",
       "      <td>124</td>\n",
       "      <td>22</td>\n",
       "      <td>38</td>\n",
       "      <td>57</td>\n",
       "    </tr>\n",
       "    <tr>\n",
       "      <th>AL645608.2</th>\n",
       "      <td>7</td>\n",
       "      <td>0</td>\n",
       "      <td>7</td>\n",
       "      <td>7</td>\n",
       "      <td>0</td>\n",
       "      <td>0</td>\n",
       "      <td>7</td>\n",
       "      <td>0</td>\n",
       "      <td>2</td>\n",
       "      <td>0</td>\n",
       "      <td>...</td>\n",
       "      <td>33.657186</td>\n",
       "      <td>4</td>\n",
       "      <td>5</td>\n",
       "      <td>1.750000</td>\n",
       "      <td>1.400000</td>\n",
       "      <td>1.250000</td>\n",
       "      <td>4</td>\n",
       "      <td>2</td>\n",
       "      <td>2</td>\n",
       "      <td>4</td>\n",
       "    </tr>\n",
       "    <tr>\n",
       "      <th>AL645608.3</th>\n",
       "      <td>1</td>\n",
       "      <td>0</td>\n",
       "      <td>1</td>\n",
       "      <td>1</td>\n",
       "      <td>0</td>\n",
       "      <td>0</td>\n",
       "      <td>1</td>\n",
       "      <td>0</td>\n",
       "      <td>0</td>\n",
       "      <td>0</td>\n",
       "      <td>...</td>\n",
       "      <td>NaN</td>\n",
       "      <td>1</td>\n",
       "      <td>1</td>\n",
       "      <td>1.000000</td>\n",
       "      <td>1.000000</td>\n",
       "      <td>1.000000</td>\n",
       "      <td>1</td>\n",
       "      <td>1</td>\n",
       "      <td>0</td>\n",
       "      <td>1</td>\n",
       "    </tr>\n",
       "    <tr>\n",
       "      <th>AL645608.4</th>\n",
       "      <td>18</td>\n",
       "      <td>0</td>\n",
       "      <td>18</td>\n",
       "      <td>18</td>\n",
       "      <td>0</td>\n",
       "      <td>0</td>\n",
       "      <td>18</td>\n",
       "      <td>0</td>\n",
       "      <td>1</td>\n",
       "      <td>0</td>\n",
       "      <td>...</td>\n",
       "      <td>53.545740</td>\n",
       "      <td>13</td>\n",
       "      <td>17</td>\n",
       "      <td>1.384615</td>\n",
       "      <td>1.058824</td>\n",
       "      <td>1.307692</td>\n",
       "      <td>16</td>\n",
       "      <td>12</td>\n",
       "      <td>1</td>\n",
       "      <td>13</td>\n",
       "    </tr>\n",
       "  </tbody>\n",
       "</table>\n",
       "<p>8 rows × 26 columns</p>\n",
       "</div>"
      ],
      "text/plain": [
       "            n_reads  noise_reads  perfect_molecule_barcodes  \\\n",
       "ACAP3             1            0                          1   \n",
       "AGRN              1            0                          1   \n",
       "AL627309.1        1            0                          1   \n",
       "AL627309.5       26            0                         26   \n",
       "AL627309.7      245            0                        245   \n",
       "AL645608.2        7            0                          7   \n",
       "AL645608.3        1            0                          1   \n",
       "AL645608.4       18            0                         18   \n",
       "\n",
       "            reads_mapped_exonic  reads_mapped_intronic  reads_mapped_utr  \\\n",
       "ACAP3                         1                      0                 0   \n",
       "AGRN                          1                      0                 0   \n",
       "AL627309.1                    1                      0                 0   \n",
       "AL627309.5                   26                      0                 0   \n",
       "AL627309.7                  245                      0                 0   \n",
       "AL645608.2                    7                      0                 0   \n",
       "AL645608.3                    1                      0                 0   \n",
       "AL645608.4                   18                      0                 0   \n",
       "\n",
       "            reads_mapped_uniquely  reads_mapped_multiple  duplicate_reads  \\\n",
       "ACAP3                           1                      0                0   \n",
       "AGRN                            1                      0                0   \n",
       "AL627309.1                      1                      0                0   \n",
       "AL627309.5                     26                      0               11   \n",
       "AL627309.7                    245                      0               76   \n",
       "AL645608.2                      7                      0                2   \n",
       "AL645608.3                      1                      0                0   \n",
       "AL645608.4                     18                      0                1   \n",
       "\n",
       "            spliced_reads           ...             \\\n",
       "ACAP3                   1           ...              \n",
       "AGRN                    1           ...              \n",
       "AL627309.1              1           ...              \n",
       "AL627309.5             26           ...              \n",
       "AL627309.7              0           ...              \n",
       "AL645608.2              0           ...              \n",
       "AL645608.3              0           ...              \n",
       "AL645608.4              0           ...              \n",
       "\n",
       "            genomic_read_quality_variance  n_molecules  n_fragments  \\\n",
       "ACAP3                                 NaN            1            1   \n",
       "AGRN                                  NaN            1            1   \n",
       "AL627309.1                            NaN            1            1   \n",
       "AL627309.5                      18.455293            8           15   \n",
       "AL627309.7                      21.674500           59          176   \n",
       "AL645608.2                      33.657186            4            5   \n",
       "AL645608.3                            NaN            1            1   \n",
       "AL645608.4                      53.545740           13           17   \n",
       "\n",
       "            reads_per_molecule  reads_per_fragment  fragments_per_molecule  \\\n",
       "ACAP3                 1.000000            1.000000                1.000000   \n",
       "AGRN                  1.000000            1.000000                1.000000   \n",
       "AL627309.1            1.000000            1.000000                1.000000   \n",
       "AL627309.5            3.250000            1.733333                1.875000   \n",
       "AL627309.7            4.152542            1.392045                2.983051   \n",
       "AL645608.2            1.750000            1.400000                1.250000   \n",
       "AL645608.3            1.000000            1.000000                1.000000   \n",
       "AL645608.4            1.384615            1.058824                1.307692   \n",
       "\n",
       "            fragments_with_single_read_evidence  \\\n",
       "ACAP3                                         1   \n",
       "AGRN                                          1   \n",
       "AL627309.1                                    1   \n",
       "AL627309.5                                    7   \n",
       "AL627309.7                                  124   \n",
       "AL645608.2                                    4   \n",
       "AL645608.3                                    1   \n",
       "AL645608.4                                   16   \n",
       "\n",
       "            molecules_with_single_read_evidence  \\\n",
       "ACAP3                                         1   \n",
       "AGRN                                          1   \n",
       "AL627309.1                                    1   \n",
       "AL627309.5                                    2   \n",
       "AL627309.7                                   22   \n",
       "AL645608.2                                    2   \n",
       "AL645608.3                                    1   \n",
       "AL645608.4                                   12   \n",
       "\n",
       "            number_cells_detected_multiple  number_cells_expressing  \n",
       "ACAP3                                    0                        1  \n",
       "AGRN                                     0                        1  \n",
       "AL627309.1                               0                        1  \n",
       "AL627309.5                               6                        8  \n",
       "AL627309.7                              38                       57  \n",
       "AL645608.2                               2                        4  \n",
       "AL645608.3                               0                        1  \n",
       "AL645608.4                               1                       13  \n",
       "\n",
       "[8 rows x 26 columns]"
      ]
     },
     "execution_count": 29,
     "metadata": {},
     "output_type": "execute_result"
    }
   ],
   "source": [
    "gene_metrics"
   ]
  },
  {
   "cell_type": "code",
   "execution_count": 30,
   "metadata": {
    "run_control": {
     "frozen": false,
     "read_only": false
    },
    "scrolled": true
   },
   "outputs": [
    {
     "name": "stdout",
     "output_type": "stream",
     "text": [
      ",n_reads,noise_reads,perfect_molecule_barcodes,reads_mapped_exonic,reads_mapped_intronic,reads_mapped_utr,reads_mapped_uniquely,reads_mapped_multiple,duplicate_reads,spliced_reads,antisense_reads,molecule_barcode_fraction_bases_above_30_mean,molecule_barcode_fraction_bases_above_30_variance,genomic_reads_fraction_bases_quality_above_30_mean,genomic_reads_fraction_bases_quality_above_30_variance,genomic_read_quality_mean,genomic_read_quality_variance,n_molecules,n_fragments,reads_per_molecule,reads_per_fragment,fragments_per_molecule,fragments_with_single_read_evidence,molecules_with_single_read_evidence,number_cells_detected_multiple,number_cells_expressing\r\n",
      "ACAP3,1,0,1,1,0,0,1,0,0,1,0,1.0,nan,0.8877551020408163,nan,36.214285714285715,nan,1,1,1.0,1.0,1.0,1,1,0,1\r\n",
      "AGRN,1,0,1,1,0,0,1,0,0,1,0,1.0,nan,0.3979591836734694,nan,24.846938775510203,nan,1,1,1.0,1.0,1.0,1,1,0,1\r\n",
      "AL627309.1,1,0,1,1,0,0,1,0,0,1,0,0.8,nan,0.4270833333333333,nan,25.479166666666668,nan,1,1,1.0,1.0,1.0,1,1,0,1\r\n",
      "AL627309.5,26,0,26,26,0,0,26,0,11,26,0,0.9884615384615385,0.0010615384615384619,0.8148357472599155,0.02818637889146239,35.36641405113152,18.45529287710208,8,15,3.25,1.7333333333333334,1.875,7,2,6,8\r\n",
      "AL627309.7,245,0,245,245,0,0,245,0,76,0,0,0.9832653061224491,0.005087654734024759,0.7681442526176698,0.03459077695708153,34.09562493869249,21.67450015630017,59,176,4.1525423728813555,1.3920454545454546,2.983050847457627,124,22,38,57\r\n",
      "AL645608.2,7,0,7,7,0,0,7,0,2,0,0,0.9857142857142857,0.00142857142857143,0.7215743440233235,0.05371769699133296,33.03644314868805,33.65718648975626,4,5,1.75,1.4,1.25,4,2,2,4\r\n",
      "AL645608.3,1,0,1,1,0,0,1,0,0,0,0,0.7,nan,0.15463917525773196,nan,20.742268041237114,nan,1,1,1.0,1.0,1.0,1,1,0,1\r\n",
      "AL645608.4,18,0,18,18,0,0,18,0,1,0,0,0.9444444444444444,0.012026143790849672,0.5089380971044231,0.08488064356706926,27.307757608823714,53.545739760471115,13,17,1.3846153846153846,1.0588235294117647,1.3076923076923077,16,12,1,13\r\n"
     ]
    }
   ],
   "source": [
    "!cat data/gene_metrics.csv"
   ]
  }
 ],
 "metadata": {
  "hide_input": false,
  "kernelspec": {
   "display_name": "Python 3",
   "language": "python",
   "name": "python3"
  },
  "language_info": {
   "codemirror_mode": {
    "name": "ipython",
    "version": 3
   },
   "file_extension": ".py",
   "mimetype": "text/x-python",
   "name": "python",
   "nbconvert_exporter": "python",
   "pygments_lexer": "ipython3",
   "version": "3.6.1"
  },
  "nav_menu": {},
  "toc": {
   "navigate_menu": true,
   "number_sections": true,
   "sideBar": true,
   "threshold": 6,
   "toc_cell": false,
   "toc_section_display": "block",
   "toc_window_display": false
  }
 },
 "nbformat": 4,
 "nbformat_minor": 2
}
