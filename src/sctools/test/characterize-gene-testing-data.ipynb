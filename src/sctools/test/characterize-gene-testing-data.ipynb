{
 "cells": [
  {
   "cell_type": "markdown",
   "metadata": {
    "deletable": true,
    "editable": true
   },
   "source": [
    "# Load Testing Data"
   ]
  },
  {
   "cell_type": "code",
   "execution_count": 1,
   "metadata": {
    "collapsed": true,
    "deletable": true,
    "editable": true
   },
   "outputs": [],
   "source": [
    "import pandas as pd\n",
    "import numpy as np\n",
    "import os\n",
    "import pysam"
   ]
  },
  {
   "cell_type": "code",
   "execution_count": 2,
   "metadata": {
    "collapsed": false,
    "deletable": true,
    "editable": true
   },
   "outputs": [
    {
     "name": "stderr",
     "output_type": "stream",
     "text": [
      "/usr/local/lib/python3.6/site-packages/ipykernel/__main__.py:24: DeprecationWarning: tostring() is deprecated. Use tobytes() instead.\n"
     ]
    }
   ],
   "source": [
    "def parse_record(record):\n",
    "    \"\"\"line parser to build dataframe, supports missing tags in test data\"\"\"\n",
    "    data = {\n",
    "        'qname': record.query_name,\n",
    "        'flag': record.flag,\n",
    "        'reference': record.reference_id,\n",
    "        'position': record.pos,\n",
    "        'mapq': record.query_qualities,\n",
    "        'cigar': record.cigarstring,\n",
    "        'rnext': record.rnext, \n",
    "        'pnext': record.pnext,\n",
    "        'tlen': record.tlen, \n",
    "        'sequence': record.seq,\n",
    "        'quality': record.qual,\n",
    "    }\n",
    "    for name, tag in record.get_tags():\n",
    "        data[name] = tag\n",
    "    return pd.Series(data)\n",
    "\n",
    "input_sam_file = 'data/small-gene-sorted.bam'\n",
    "with pysam.AlignmentFile(input_sam_file, 'rb') as f:\n",
    "    records = []\n",
    "    for record in f:\n",
    "        records.append(parse_record(record))\n",
    "\n",
    "data = pd.concat(records, axis=1).T\n",
    "results_scalar = {}"
   ]
  },
  {
   "cell_type": "markdown",
   "metadata": {
    "deletable": true,
    "editable": true
   },
   "source": [
    "# Build Expectations for Testing Data"
   ]
  },
  {
   "cell_type": "markdown",
   "metadata": {
    "deletable": true,
    "editable": true
   },
   "source": [
    "## Number of Reads"
   ]
  },
  {
   "cell_type": "code",
   "execution_count": 3,
   "metadata": {
    "collapsed": false,
    "deletable": true,
    "editable": true
   },
   "outputs": [
    {
     "name": "stdout",
     "output_type": "stream",
     "text": [
      "300\n"
     ]
    }
   ],
   "source": [
    "results_scalar['n_reads'] = len(data)\n",
    "print(results_scalar['n_reads'])"
   ]
  },
  {
   "cell_type": "markdown",
   "metadata": {
    "deletable": true,
    "editable": true
   },
   "source": [
    "## Number of Genes"
   ]
  },
  {
   "cell_type": "code",
   "execution_count": 4,
   "metadata": {
    "collapsed": false,
    "deletable": true,
    "editable": true
   },
   "outputs": [
    {
     "name": "stdout",
     "output_type": "stream",
     "text": [
      "8\n"
     ]
    }
   ],
   "source": [
    "results_scalar['n_genes'] = len(data.groupby(['GE']))\n",
    "print(results_scalar['n_genes'])"
   ]
  },
  {
   "cell_type": "markdown",
   "metadata": {
    "deletable": true,
    "editable": true
   },
   "source": [
    "Gene table should have 8 entries plus a header for a total of 9 lines"
   ]
  },
  {
   "cell_type": "markdown",
   "metadata": {
    "deletable": true,
    "editable": true
   },
   "source": [
    "## Number of Molecules\n",
    "\n",
    "Molecules are defined as a unique triplet of CB, UB, and GE"
   ]
  },
  {
   "cell_type": "code",
   "execution_count": 5,
   "metadata": {
    "collapsed": false,
    "deletable": true,
    "editable": true
   },
   "outputs": [
    {
     "name": "stdout",
     "output_type": "stream",
     "text": [
      "88\n"
     ]
    }
   ],
   "source": [
    "results_scalar['n_molecules'] = len(data.groupby(['CB', 'UB', 'GE']))\n",
    "print(results_scalar['n_molecules'])"
   ]
  },
  {
   "cell_type": "markdown",
   "metadata": {
    "deletable": true,
    "editable": true
   },
   "source": [
    "## Number of Fragments\n",
    "\n",
    "Fragments are defined as molecules are (CB, UB, GE) but must additionally have a unique position"
   ]
  },
  {
   "cell_type": "code",
   "execution_count": 6,
   "metadata": {
    "collapsed": false,
    "deletable": true,
    "editable": true
   },
   "outputs": [
    {
     "name": "stdout",
     "output_type": "stream",
     "text": [
      "217\n"
     ]
    }
   ],
   "source": [
    "results_scalar['n_fragments'] = len(data.groupby(['CB', 'UB', 'GE', 'position']))\n",
    "print(results_scalar['n_fragments'])"
   ]
  },
  {
   "cell_type": "markdown",
   "metadata": {
    "deletable": true,
    "editable": true
   },
   "source": [
    "## Most Abundant Gene\n",
    "\n",
    "Based on the above, at least one of the genes has to be observed more than once. Which is it? "
   ]
  },
  {
   "cell_type": "code",
   "execution_count": 7,
   "metadata": {
    "collapsed": false,
    "deletable": true,
    "editable": true
   },
   "outputs": [
    {
     "name": "stdout",
     "output_type": "stream",
     "text": [
      "AL627309.7 245\n"
     ]
    }
   ],
   "source": [
    "results_scalar['most_abundant'] = data.groupby(['GE']).size().idxmax().split(':')[-1]\n",
    "results_scalar['most_abundant_gene_n_observations'] = data.groupby(['GE']).size().max()\n",
    "print(results_scalar['most_abundant'], results_scalar['most_abundant_gene_n_observations'])"
   ]
  },
  {
   "cell_type": "code",
   "execution_count": 8,
   "metadata": {
    "collapsed": true,
    "deletable": true,
    "editable": true
   },
   "outputs": [],
   "source": [
    "results_scalar['perfect_molecule_barcodes'] = 0\n",
    "for c, r in zip(data['UB'], data['UR']):\n",
    "    if c.split(':')[-1] == r.split(':')[-1]:\n",
    "        results_scalar['perfect_molecule_barcodes'] += 1"
   ]
  },
  {
   "cell_type": "markdown",
   "metadata": {
    "deletable": true,
    "editable": true
   },
   "source": [
    "Calculate the alignment metrics"
   ]
  },
  {
   "cell_type": "code",
   "execution_count": 9,
   "metadata": {
    "collapsed": true,
    "deletable": true,
    "editable": true
   },
   "outputs": [],
   "source": [
    "results_scalar['reads_mapped_exonic'] = sum(data['XF'] == 'XF:Z:CODING')"
   ]
  },
  {
   "cell_type": "code",
   "execution_count": 10,
   "metadata": {
    "collapsed": true,
    "deletable": true,
    "editable": true
   },
   "outputs": [],
   "source": [
    "results_scalar['reads_mapped_intronic'] = sum(data['XF'] == 'XF:Z:INTRONIC')"
   ]
  },
  {
   "cell_type": "code",
   "execution_count": 11,
   "metadata": {
    "collapsed": true,
    "deletable": true,
    "editable": true
   },
   "outputs": [],
   "source": [
    "results_scalar['reads_mapped_utr'] = sum(data['XF'] == 'XF:Z:UTR')"
   ]
  },
  {
   "cell_type": "code",
   "execution_count": 12,
   "metadata": {
    "collapsed": true,
    "deletable": true,
    "editable": true
   },
   "outputs": [],
   "source": [
    "results_scalar['reads_mapped_uniquely'] = sum(data['NH'] == 'NH:i:1')"
   ]
  },
  {
   "cell_type": "code",
   "execution_count": 13,
   "metadata": {
    "collapsed": true,
    "deletable": true,
    "editable": true
   },
   "outputs": [],
   "source": [
    "results_scalar['duplicate_reads'] = sum((data['flag'] & 1024).astype(bool))"
   ]
  },
  {
   "cell_type": "code",
   "execution_count": 14,
   "metadata": {
    "collapsed": true,
    "deletable": true,
    "editable": true
   },
   "outputs": [],
   "source": [
    "results_scalar['spliced_reads'] = sum(1 for v in data['cigar'] if 'N' in v)"
   ]
  },
  {
   "cell_type": "markdown",
   "metadata": {
    "deletable": true,
    "editable": true
   },
   "source": [
    "Calculate the higher-order metrics"
   ]
  },
  {
   "cell_type": "code",
   "execution_count": 15,
   "metadata": {
    "collapsed": true,
    "deletable": true,
    "editable": true
   },
   "outputs": [],
   "source": [
    "calc_func_fraction = lambda x: sum(1 for c in x.split(':')[-1] if ord(c) > 63) / len(x.split(':')[-1])\n",
    "calc_func_mean = lambda x: np.mean([ord(c) - 33 for c in x.split(':')[-1]])\n",
    "\n",
    "data['num_UY_qual_fraction'] = data['UY'].apply(calc_func_fraction)\n",
    "\n",
    "data['num_base_qual_fraction'] = data['quality'].apply(calc_func_fraction)\n",
    "data['num_base_qual_mean'] = data['quality'].apply(calc_func_mean)\n",
    "\n",
    "grouped_by_gene = data.groupby(['GE'])"
   ]
  },
  {
   "cell_type": "code",
   "execution_count": 16,
   "metadata": {
    "collapsed": true,
    "deletable": true,
    "editable": true
   },
   "outputs": [],
   "source": [
    "results_series = {}"
   ]
  },
  {
   "cell_type": "code",
   "execution_count": 17,
   "metadata": {
    "collapsed": true,
    "deletable": true,
    "editable": true
   },
   "outputs": [],
   "source": [
    "# vector values\n",
    "# I changed these to retain the index to make merging into a dataframe easier, and guarantee same order. \n",
    "results_series['molecule_barcode_fraction_bases_above_30_mean'] = grouped_by_gene.mean()['num_UY_qual_fraction']\n",
    "results_series['molecule_barcode_fraction_bases_above_30_variance'] = grouped_by_gene.var()['num_UY_qual_fraction']\n",
    "\n",
    "results_series['genomic_reads_fraction_bases_quality_above_30_mean'] = grouped_by_gene.mean()['num_base_qual_fraction']\n",
    "results_series['genomic_reads_fraction_bases_quality_above_30_variance'] = grouped_by_gene.var()['num_base_qual_fraction']\n",
    "results_series['genomic_read_quality_mean'] = grouped_by_gene.mean()['num_base_qual_mean']\n",
    "results_series['genomic_read_quality_variance'] = grouped_by_gene.var()['num_base_qual_mean']\n",
    "\n",
    "reads_per_gene = data.groupby(['GE']).size()"
   ]
  },
  {
   "cell_type": "code",
   "execution_count": 18,
   "metadata": {
    "collapsed": true,
    "deletable": true,
    "editable": true
   },
   "outputs": [],
   "source": [
    "molecules_per_gene = grouped_by_gene.apply(lambda x: len(x.groupby(['UB', 'CB']).size()))\n",
    "fragments_per_gene = grouped_by_gene.apply(lambda x: len(x.groupby(['UB', 'CB', 'position']).size()))\n",
    "reads_per_molecule = reads_per_gene / molecules_per_gene\n",
    "reads_per_fragment = reads_per_gene / fragments_per_gene\n",
    "fragments_per_molecule = fragments_per_gene / molecules_per_gene\n",
    "results_series['reads_per_molecule'] = reads_per_molecule\n",
    "results_series['reads_per_fragment'] = reads_per_fragment\n",
    "results_series['fragments_per_molecule'] = fragments_per_molecule\n",
    "\n",
    "# scalar values\n",
    "results_scalar['fragments_with_single_read_evidence'] = np.sum(data.groupby(['CB', 'UB', 'GE', 'position']).size() == 1)\n",
    "results_scalar['molecules_with_single_read_evidence'] = np.sum(data.groupby(['CB', 'UB', 'GE']).size() == 1)"
   ]
  },
  {
   "cell_type": "code",
   "execution_count": 19,
   "metadata": {
    "collapsed": false,
    "deletable": true,
    "editable": true
   },
   "outputs": [
    {
     "data": {
      "text/html": [
       "<div>\n",
       "<style scoped>\n",
       "    .dataframe tbody tr th:only-of-type {\n",
       "        vertical-align: middle;\n",
       "    }\n",
       "\n",
       "    .dataframe tbody tr th {\n",
       "        vertical-align: top;\n",
       "    }\n",
       "\n",
       "    .dataframe thead th {\n",
       "        text-align: right;\n",
       "    }\n",
       "</style>\n",
       "<table border=\"1\" class=\"dataframe\">\n",
       "  <thead>\n",
       "    <tr style=\"text-align: right;\">\n",
       "      <th></th>\n",
       "      <th>fragments_per_molecule</th>\n",
       "      <th>genomic_read_quality_mean</th>\n",
       "      <th>genomic_read_quality_variance</th>\n",
       "      <th>genomic_reads_fraction_bases_quality_above_30_mean</th>\n",
       "      <th>genomic_reads_fraction_bases_quality_above_30_variance</th>\n",
       "      <th>molecule_barcode_fraction_bases_above_30_mean</th>\n",
       "      <th>molecule_barcode_fraction_bases_above_30_variance</th>\n",
       "      <th>reads_per_fragment</th>\n",
       "      <th>reads_per_molecule</th>\n",
       "    </tr>\n",
       "    <tr>\n",
       "      <th>GE</th>\n",
       "      <th></th>\n",
       "      <th></th>\n",
       "      <th></th>\n",
       "      <th></th>\n",
       "      <th></th>\n",
       "      <th></th>\n",
       "      <th></th>\n",
       "      <th></th>\n",
       "      <th></th>\n",
       "    </tr>\n",
       "  </thead>\n",
       "  <tbody>\n",
       "    <tr>\n",
       "      <th>ACAP3</th>\n",
       "      <td>1.000000</td>\n",
       "      <td>36.214286</td>\n",
       "      <td>NaN</td>\n",
       "      <td>0.887755</td>\n",
       "      <td>NaN</td>\n",
       "      <td>1.000000</td>\n",
       "      <td>NaN</td>\n",
       "      <td>1.000000</td>\n",
       "      <td>1.000000</td>\n",
       "    </tr>\n",
       "    <tr>\n",
       "      <th>AGRN</th>\n",
       "      <td>1.000000</td>\n",
       "      <td>24.846939</td>\n",
       "      <td>NaN</td>\n",
       "      <td>0.397959</td>\n",
       "      <td>NaN</td>\n",
       "      <td>1.000000</td>\n",
       "      <td>NaN</td>\n",
       "      <td>1.000000</td>\n",
       "      <td>1.000000</td>\n",
       "    </tr>\n",
       "    <tr>\n",
       "      <th>AL627309.1</th>\n",
       "      <td>1.000000</td>\n",
       "      <td>25.306122</td>\n",
       "      <td>NaN</td>\n",
       "      <td>0.418367</td>\n",
       "      <td>NaN</td>\n",
       "      <td>0.800000</td>\n",
       "      <td>NaN</td>\n",
       "      <td>1.000000</td>\n",
       "      <td>1.000000</td>\n",
       "    </tr>\n",
       "    <tr>\n",
       "      <th>AL627309.5</th>\n",
       "      <td>1.875000</td>\n",
       "      <td>35.382261</td>\n",
       "      <td>18.336345</td>\n",
       "      <td>0.815542</td>\n",
       "      <td>0.027979</td>\n",
       "      <td>0.988462</td>\n",
       "      <td>0.001062</td>\n",
       "      <td>1.733333</td>\n",
       "      <td>3.250000</td>\n",
       "    </tr>\n",
       "    <tr>\n",
       "      <th>AL627309.7</th>\n",
       "      <td>2.983051</td>\n",
       "      <td>34.088130</td>\n",
       "      <td>21.543840</td>\n",
       "      <td>0.768055</td>\n",
       "      <td>0.034475</td>\n",
       "      <td>0.983265</td>\n",
       "      <td>0.005088</td>\n",
       "      <td>1.392045</td>\n",
       "      <td>4.152542</td>\n",
       "    </tr>\n",
       "    <tr>\n",
       "      <th>AL645608.2</th>\n",
       "      <td>1.250000</td>\n",
       "      <td>33.036443</td>\n",
       "      <td>33.657186</td>\n",
       "      <td>0.721574</td>\n",
       "      <td>0.053718</td>\n",
       "      <td>0.985714</td>\n",
       "      <td>0.001429</td>\n",
       "      <td>1.400000</td>\n",
       "      <td>1.750000</td>\n",
       "    </tr>\n",
       "    <tr>\n",
       "      <th>AL645608.3</th>\n",
       "      <td>1.000000</td>\n",
       "      <td>20.857143</td>\n",
       "      <td>NaN</td>\n",
       "      <td>0.163265</td>\n",
       "      <td>NaN</td>\n",
       "      <td>0.700000</td>\n",
       "      <td>NaN</td>\n",
       "      <td>1.000000</td>\n",
       "      <td>1.000000</td>\n",
       "    </tr>\n",
       "    <tr>\n",
       "      <th>AL645608.4</th>\n",
       "      <td>1.307692</td>\n",
       "      <td>27.269274</td>\n",
       "      <td>54.069164</td>\n",
       "      <td>0.507937</td>\n",
       "      <td>0.085290</td>\n",
       "      <td>0.944444</td>\n",
       "      <td>0.012026</td>\n",
       "      <td>1.058824</td>\n",
       "      <td>1.384615</td>\n",
       "    </tr>\n",
       "  </tbody>\n",
       "</table>\n",
       "</div>"
      ],
      "text/plain": [
       "            fragments_per_molecule  genomic_read_quality_mean  \\\n",
       "GE                                                              \n",
       "ACAP3                     1.000000                  36.214286   \n",
       "AGRN                      1.000000                  24.846939   \n",
       "AL627309.1                1.000000                  25.306122   \n",
       "AL627309.5                1.875000                  35.382261   \n",
       "AL627309.7                2.983051                  34.088130   \n",
       "AL645608.2                1.250000                  33.036443   \n",
       "AL645608.3                1.000000                  20.857143   \n",
       "AL645608.4                1.307692                  27.269274   \n",
       "\n",
       "            genomic_read_quality_variance  \\\n",
       "GE                                          \n",
       "ACAP3                                 NaN   \n",
       "AGRN                                  NaN   \n",
       "AL627309.1                            NaN   \n",
       "AL627309.5                      18.336345   \n",
       "AL627309.7                      21.543840   \n",
       "AL645608.2                      33.657186   \n",
       "AL645608.3                            NaN   \n",
       "AL645608.4                      54.069164   \n",
       "\n",
       "            genomic_reads_fraction_bases_quality_above_30_mean  \\\n",
       "GE                                                               \n",
       "ACAP3                                                0.887755    \n",
       "AGRN                                                 0.397959    \n",
       "AL627309.1                                           0.418367    \n",
       "AL627309.5                                           0.815542    \n",
       "AL627309.7                                           0.768055    \n",
       "AL645608.2                                           0.721574    \n",
       "AL645608.3                                           0.163265    \n",
       "AL645608.4                                           0.507937    \n",
       "\n",
       "            genomic_reads_fraction_bases_quality_above_30_variance  \\\n",
       "GE                                                                   \n",
       "ACAP3                                                     NaN        \n",
       "AGRN                                                      NaN        \n",
       "AL627309.1                                                NaN        \n",
       "AL627309.5                                           0.027979        \n",
       "AL627309.7                                           0.034475        \n",
       "AL645608.2                                           0.053718        \n",
       "AL645608.3                                                NaN        \n",
       "AL645608.4                                           0.085290        \n",
       "\n",
       "            molecule_barcode_fraction_bases_above_30_mean  \\\n",
       "GE                                                          \n",
       "ACAP3                                            1.000000   \n",
       "AGRN                                             1.000000   \n",
       "AL627309.1                                       0.800000   \n",
       "AL627309.5                                       0.988462   \n",
       "AL627309.7                                       0.983265   \n",
       "AL645608.2                                       0.985714   \n",
       "AL645608.3                                       0.700000   \n",
       "AL645608.4                                       0.944444   \n",
       "\n",
       "            molecule_barcode_fraction_bases_above_30_variance  \\\n",
       "GE                                                              \n",
       "ACAP3                                                     NaN   \n",
       "AGRN                                                      NaN   \n",
       "AL627309.1                                                NaN   \n",
       "AL627309.5                                           0.001062   \n",
       "AL627309.7                                           0.005088   \n",
       "AL645608.2                                           0.001429   \n",
       "AL645608.3                                                NaN   \n",
       "AL645608.4                                           0.012026   \n",
       "\n",
       "            reads_per_fragment  reads_per_molecule  \n",
       "GE                                                  \n",
       "ACAP3                 1.000000            1.000000  \n",
       "AGRN                  1.000000            1.000000  \n",
       "AL627309.1            1.000000            1.000000  \n",
       "AL627309.5            1.733333            3.250000  \n",
       "AL627309.7            1.392045            4.152542  \n",
       "AL645608.2            1.400000            1.750000  \n",
       "AL645608.3            1.000000            1.000000  \n",
       "AL645608.4            1.058824            1.384615  "
      ]
     },
     "execution_count": 19,
     "metadata": {},
     "output_type": "execute_result"
    }
   ],
   "source": [
    "pd.DataFrame(results_series)"
   ]
  },
  {
   "cell_type": "markdown",
   "metadata": {
    "deletable": true,
    "editable": true
   },
   "source": [
    "# Write Results to File for Automated Testing"
   ]
  },
  {
   "cell_type": "code",
   "execution_count": 20,
   "metadata": {
    "collapsed": false
   },
   "outputs": [
    {
     "name": "stdout",
     "output_type": "stream",
     "text": [
      "/Users/carra1/projects/humancellatlas/sctools/src/sctools/test\r\n"
     ]
    }
   ],
   "source": [
    "!pwd"
   ]
  },
  {
   "cell_type": "code",
   "execution_count": 21,
   "metadata": {
    "collapsed": false
   },
   "outputs": [
    {
     "name": "stdout",
     "output_type": "stream",
     "text": [
      "data/small-gene-sorted\n"
     ]
    }
   ],
   "source": [
    "print(input_sam_file.replace('.bam', ''))"
   ]
  },
  {
   "cell_type": "code",
   "execution_count": 22,
   "metadata": {
    "collapsed": false,
    "deletable": true,
    "editable": true
   },
   "outputs": [],
   "source": [
    "pd.Series(results_scalar).to_csv('%s_testing_knowledge_scalar.csv' % input_sam_file.replace('.bam', ''))\n",
    "pd.DataFrame(results_series).to_csv('%s_testing_knowledge_series.csv' % input_sam_file.replace('.bam', ''))"
   ]
  },
  {
   "cell_type": "code",
   "execution_count": 23,
   "metadata": {
    "collapsed": false,
    "deletable": true,
    "editable": true
   },
   "outputs": [
    {
     "data": {
      "text/plain": [
       "True"
      ]
     },
     "execution_count": 23,
     "metadata": {},
     "output_type": "execute_result"
    }
   ],
   "source": [
    "# do a comparison of the whole 2d dataframe at once\n",
    "np.allclose(\n",
    "    pd.DataFrame(results_series).fillna(0).values,  # fill nans with zero, call values to get the numpy array the dataframe is based on\n",
    "    pd.read_csv('%s_testing_knowledge_series.csv' % input_sam_file.replace('.bam', ''), index_col=0, header=0).fillna(0).values\n",
    ")"
   ]
  },
  {
   "cell_type": "code",
   "execution_count": 24,
   "metadata": {
    "collapsed": true,
    "deletable": true,
    "editable": true
   },
   "outputs": [],
   "source": [
    "# to get most_abundant alone: "
   ]
  },
  {
   "cell_type": "code",
   "execution_count": 25,
   "metadata": {
    "collapsed": false,
    "deletable": true,
    "editable": true
   },
   "outputs": [
    {
     "data": {
      "text/plain": [
       "True"
      ]
     },
     "execution_count": 25,
     "metadata": {},
     "output_type": "execute_result"
    }
   ],
   "source": [
    "test_read_scalar = pd.read_csv('%s_testing_knowledge_scalar.csv' % input_sam_file.replace('.bam', ''), index_col=0, header=None, squeeze=True)\n",
    "\n",
    "# extract this, we're going to drop it from the array to do some conversion to numeric\n",
    "most_abundant = test_read_scalar['most_abundant'] \n",
    "\n",
    "# drop most abundant, convert to float, fill any NaN values with 0, and call .values to get the numpy array pandas objects are based on.\n",
    "for_comparison = test_read_scalar.drop('most_abundant').astype(float).fillna(0).values\n",
    "\n",
    "\n",
    "# note, have to drop the string value and convert to float before this works. \n",
    "np.allclose(\n",
    "    pd.Series(results_scalar).drop('most_abundant').fillna(0).values,  # do the same thing as above to the one in memory\n",
    "    for_comparison\n",
    ")"
   ]
  },
  {
   "cell_type": "code",
   "execution_count": 26,
   "metadata": {
    "collapsed": false,
    "deletable": true,
    "editable": true
   },
   "outputs": [
    {
     "data": {
      "text/plain": [
       "GE\n",
       "ACAP3         36.214286\n",
       "AGRN          24.846939\n",
       "AL627309.1    25.306122\n",
       "AL627309.5    35.382261\n",
       "AL627309.7    34.088130\n",
       "AL645608.2    33.036443\n",
       "AL645608.3    20.857143\n",
       "AL645608.4    27.269274\n",
       "Name: genomic_read_quality_mean, dtype: float64"
      ]
     },
     "execution_count": 26,
     "metadata": {},
     "output_type": "execute_result"
    }
   ],
   "source": [
    "# get a metric from a dataframe: \n",
    "df = pd.DataFrame(results_series)\n",
    "df['genomic_read_quality_mean']"
   ]
  },
  {
   "cell_type": "code",
   "execution_count": 27,
   "metadata": {
    "collapsed": false,
    "deletable": true,
    "editable": true
   },
   "outputs": [],
   "source": [
    "# get a numpy array from the dataframe\n",
    "compare_me = df['genomic_read_quality_mean'].values"
   ]
  },
  {
   "cell_type": "code",
   "execution_count": 28,
   "metadata": {
    "collapsed": false,
    "deletable": true,
    "editable": true
   },
   "outputs": [
    {
     "data": {
      "text/plain": [
       "True"
      ]
     },
     "execution_count": 28,
     "metadata": {},
     "output_type": "execute_result"
    }
   ],
   "source": [
    "# compare two numpy arrays that are slightly different\n",
    "eps = np.random.rand(len(compare_me)) * 1e-8\n",
    "np.allclose(compare_me, compare_me + eps)\n"
   ]
  },
  {
   "cell_type": "code",
   "execution_count": 29,
   "metadata": {
    "collapsed": false,
    "deletable": true,
    "editable": true
   },
   "outputs": [
    {
     "data": {
      "text/plain": [
       "False"
      ]
     },
     "execution_count": 29,
     "metadata": {},
     "output_type": "execute_result"
    }
   ],
   "source": [
    "# it is actually discriminative, though\n",
    "np.allclose(compare_me, np.arange(len(compare_me)))"
   ]
  }
 ],
 "metadata": {
  "hide_input": false,
  "kernelspec": {
   "display_name": "Python 3",
   "language": "python",
   "name": "python3"
  },
  "language_info": {
   "codemirror_mode": {
    "name": "ipython",
    "version": 3
   },
   "file_extension": ".py",
   "mimetype": "text/x-python",
   "name": "python",
   "nbconvert_exporter": "python",
   "pygments_lexer": "ipython3",
   "version": "3.6.4"
  },
  "toc": {
   "nav_menu": {},
   "number_sections": true,
   "sideBar": true,
   "skip_h1_title": false,
   "toc_cell": false,
   "toc_position": {},
   "toc_section_display": "block",
   "toc_window_display": false
  }
 },
 "nbformat": 4,
 "nbformat_minor": 2
}
